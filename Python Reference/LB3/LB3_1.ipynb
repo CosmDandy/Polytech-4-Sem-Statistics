{
 "cells": [
  {
   "cell_type": "code",
   "execution_count": 1,
   "metadata": {
    "collapsed": true,
    "ExecuteTime": {
     "end_time": "2023-05-16T13:37:45.296117Z",
     "start_time": "2023-05-16T13:37:44.988348Z"
    }
   },
   "outputs": [],
   "source": [
    "import pandas as pd"
   ]
  },
  {
   "cell_type": "markdown",
   "source": [
    "# Лабораторная работа №3 Задание 1\n",
    "## Кондрашин Тимофей 211-365 Вариант 11 (27.04.2023)"
   ],
   "metadata": {
    "collapsed": false
   }
  },
  {
   "cell_type": "markdown",
   "source": [
    "### Данные"
   ],
   "metadata": {
    "collapsed": false
   }
  },
  {
   "cell_type": "markdown",
   "source": [
    "Ниже приведены результаты измерения роста 100 студентов"
   ],
   "metadata": {
    "collapsed": false
   }
  },
  {
   "cell_type": "code",
   "execution_count": 2,
   "outputs": [
    {
     "data": {
      "text/plain": "               0        1        2        3        4\nРост     155-160  160-165  165-170  170-175  175-180\nЧастота        4       26       32       28       10",
      "text/html": "<div>\n<style scoped>\n    .dataframe tbody tr th:only-of-type {\n        vertical-align: middle;\n    }\n\n    .dataframe tbody tr th {\n        vertical-align: top;\n    }\n\n    .dataframe thead th {\n        text-align: right;\n    }\n</style>\n<table border=\"1\" class=\"dataframe\">\n  <thead>\n    <tr style=\"text-align: right;\">\n      <th></th>\n      <th>0</th>\n      <th>1</th>\n      <th>2</th>\n      <th>3</th>\n      <th>4</th>\n    </tr>\n  </thead>\n  <tbody>\n    <tr>\n      <th>Рост</th>\n      <td>155-160</td>\n      <td>160-165</td>\n      <td>165-170</td>\n      <td>170-175</td>\n      <td>175-180</td>\n    </tr>\n    <tr>\n      <th>Частота</th>\n      <td>4</td>\n      <td>26</td>\n      <td>32</td>\n      <td>28</td>\n      <td>10</td>\n    </tr>\n  </tbody>\n</table>\n</div>"
     },
     "execution_count": 2,
     "metadata": {},
     "output_type": "execute_result"
    }
   ],
   "source": [
    "data = pd.DataFrame({'Рост': ['155-160', '160-165', '165-170', '170-175', '175-180'], 'Частота': [4, 26, 32, 28, 10]})\n",
    "n = len(data)\n",
    "a = 0.1\n",
    "\n",
    "data.T"
   ],
   "metadata": {
    "collapsed": false,
    "ExecuteTime": {
     "end_time": "2023-05-16T13:37:45.307481Z",
     "start_time": "2023-05-16T13:37:45.301341Z"
    }
   }
  },
  {
   "cell_type": "code",
   "execution_count": 3,
   "outputs": [
    {
     "data": {
      "text/plain": "5"
     },
     "execution_count": 3,
     "metadata": {},
     "output_type": "execute_result"
    }
   ],
   "source": [
    "n"
   ],
   "metadata": {
    "collapsed": false,
    "ExecuteTime": {
     "end_time": "2023-05-16T13:37:45.315839Z",
     "start_time": "2023-05-16T13:37:45.311119Z"
    }
   }
  },
  {
   "cell_type": "markdown",
   "source": [
    "С помощью критерия Пирсона проверить гипотезу о том, что результаты получены из равномерного на отрезке (155:180) распределения генеральной совокупности. Принять $\\alpha = 0.1$"
   ],
   "metadata": {
    "collapsed": false
   }
  },
  {
   "cell_type": "markdown",
   "source": [
    "## Шаг 1: Формулировка гипотезы"
   ],
   "metadata": {
    "collapsed": false
   }
  },
  {
   "cell_type": "markdown",
   "source": [
    "$H_0$: Результаты получены из равномерного распределения на отрезке (155:180).\n",
    "$H_1$: Результаты не получены из равномерного распределения на отрезке (155:180)."
   ],
   "metadata": {
    "collapsed": false
   }
  },
  {
   "cell_type": "markdown",
   "source": [
    "## Шаг 2: Определение уровня значимости и степеней свободы"
   ],
   "metadata": {
    "collapsed": false
   }
  },
  {
   "cell_type": "markdown",
   "source": [
    "#### Уровень значимости:\n",
    "a = 0.1"
   ],
   "metadata": {
    "collapsed": false
   }
  },
  {
   "cell_type": "code",
   "execution_count": 4,
   "outputs": [
    {
     "data": {
      "text/plain": "0.1"
     },
     "execution_count": 4,
     "metadata": {},
     "output_type": "execute_result"
    }
   ],
   "source": [
    "a"
   ],
   "metadata": {
    "collapsed": false,
    "ExecuteTime": {
     "end_time": "2023-05-16T13:37:45.325396Z",
     "start_time": "2023-05-16T13:37:45.316442Z"
    }
   }
  },
  {
   "cell_type": "markdown",
   "source": [
    "#### Степени свободы:\n",
    "$$df = k - 1 - p$$\n",
    "где\n",
    "- $k$ - количество интервалов,\n",
    "- $p$ - количество параметров распределения, которые были оценены по выборке.\n",
    "\n",
    "В данном случае, k = 5 (интервалы) и p = 0 (параметры не оцениваются по выборке)."
   ],
   "metadata": {
    "collapsed": false
   }
  },
  {
   "cell_type": "code",
   "execution_count": 5,
   "outputs": [
    {
     "data": {
      "text/plain": "4"
     },
     "execution_count": 5,
     "metadata": {},
     "output_type": "execute_result"
    }
   ],
   "source": [
    "df = 5 - 1 - 0\n",
    "df"
   ],
   "metadata": {
    "collapsed": false,
    "ExecuteTime": {
     "end_time": "2023-05-16T13:37:45.331274Z",
     "start_time": "2023-05-16T13:37:45.321494Z"
    }
   }
  },
  {
   "cell_type": "markdown",
   "source": [
    "## Шаг 3: Расчет значения статистики критерия Пирсона"
   ],
   "metadata": {
    "collapsed": false
   }
  },
  {
   "cell_type": "markdown",
   "source": [
    "Вычислим ожидаемые частоты в каждом интервале, если бы выборка имела равномерное распределение на отрезке (155:180).\n",
    "\n",
    "$$\\text{Ожидаемая частота} = \\frac{\\text{количество элементов в выборке} \\cdot \\text{длина интервала}}{\\text{длина всего отрезка}}$$"
   ],
   "metadata": {
    "collapsed": false
   }
  },
  {
   "cell_type": "markdown",
   "source": [
    "Длина всего отрезка:"
   ],
   "metadata": {
    "collapsed": false
   }
  },
  {
   "cell_type": "code",
   "execution_count": 6,
   "outputs": [
    {
     "data": {
      "text/plain": "25"
     },
     "execution_count": 6,
     "metadata": {},
     "output_type": "execute_result"
    }
   ],
   "source": [
    "l = 180 - 155\n",
    "l"
   ],
   "metadata": {
    "collapsed": false,
    "ExecuteTime": {
     "end_time": "2023-05-16T13:37:45.335605Z",
     "start_time": "2023-05-16T13:37:45.326693Z"
    }
   }
  },
  {
   "cell_type": "markdown",
   "source": [
    "Ожидаемая частота для интервала 155-160:"
   ],
   "metadata": {
    "collapsed": false
   }
  },
  {
   "cell_type": "code",
   "execution_count": 7,
   "outputs": [
    {
     "data": {
      "text/plain": "20.0"
     },
     "execution_count": 7,
     "metadata": {},
     "output_type": "execute_result"
    }
   ],
   "source": [
    "f1 = (100 * (160-155)) / l\n",
    "f1"
   ],
   "metadata": {
    "collapsed": false,
    "ExecuteTime": {
     "end_time": "2023-05-16T13:37:45.340549Z",
     "start_time": "2023-05-16T13:37:45.330293Z"
    }
   }
  },
  {
   "cell_type": "markdown",
   "source": [
    "Ожидаемая частота для интервала 160-165:"
   ],
   "metadata": {
    "collapsed": false
   }
  },
  {
   "cell_type": "code",
   "execution_count": 8,
   "outputs": [
    {
     "data": {
      "text/plain": "20.0"
     },
     "execution_count": 8,
     "metadata": {},
     "output_type": "execute_result"
    }
   ],
   "source": [
    "f2 = (100 * (165-160)) / l\n",
    "f2"
   ],
   "metadata": {
    "collapsed": false,
    "ExecuteTime": {
     "end_time": "2023-05-16T13:37:45.340789Z",
     "start_time": "2023-05-16T13:37:45.335125Z"
    }
   }
  },
  {
   "cell_type": "markdown",
   "source": [
    "Ожидаемая частота для интервала 165-170:"
   ],
   "metadata": {
    "collapsed": false
   }
  },
  {
   "cell_type": "code",
   "execution_count": 9,
   "outputs": [
    {
     "data": {
      "text/plain": "20.0"
     },
     "execution_count": 9,
     "metadata": {},
     "output_type": "execute_result"
    }
   ],
   "source": [
    "f3 = (100 * (170-165)) / l\n",
    "f3"
   ],
   "metadata": {
    "collapsed": false,
    "ExecuteTime": {
     "end_time": "2023-05-16T13:37:45.358658Z",
     "start_time": "2023-05-16T13:37:45.339205Z"
    }
   }
  },
  {
   "cell_type": "markdown",
   "source": [
    "Ожидаемая частота для интервала 170-175:"
   ],
   "metadata": {
    "collapsed": false
   }
  },
  {
   "cell_type": "code",
   "execution_count": 10,
   "outputs": [
    {
     "data": {
      "text/plain": "20.0"
     },
     "execution_count": 10,
     "metadata": {},
     "output_type": "execute_result"
    }
   ],
   "source": [
    "f4 = (100 * (175-170)) / l\n",
    "f4"
   ],
   "metadata": {
    "collapsed": false,
    "ExecuteTime": {
     "end_time": "2023-05-16T13:37:45.387947Z",
     "start_time": "2023-05-16T13:37:45.343679Z"
    }
   }
  },
  {
   "cell_type": "markdown",
   "source": [
    "Ожидаемая частота для интервала 175-180:"
   ],
   "metadata": {
    "collapsed": false
   }
  },
  {
   "cell_type": "code",
   "execution_count": 11,
   "outputs": [
    {
     "data": {
      "text/plain": "20.0"
     },
     "execution_count": 11,
     "metadata": {},
     "output_type": "execute_result"
    }
   ],
   "source": [
    "f5 = (100 * (180-175)) / l\n",
    "f5"
   ],
   "metadata": {
    "collapsed": false,
    "ExecuteTime": {
     "end_time": "2023-05-16T13:37:45.388659Z",
     "start_time": "2023-05-16T13:37:45.347206Z"
    }
   }
  },
  {
   "cell_type": "markdown",
   "source": [
    "Теперь вычислим значение статистики критерия Пирсона\n",
    "\n",
    "$$\\chi^2 = \\sum_{i=1}^{k} \\frac{(f_i - f_i^*)^2}{f_i^*} = \\frac{(\\text{наблюдаемая частота} - \\text{ожидаемая частота})^2}{\\text{ожидаемая частота}}$$"
   ],
   "metadata": {
    "collapsed": false
   }
  },
  {
   "cell_type": "code",
   "execution_count": 12,
   "outputs": [
    {
     "data": {
      "text/plain": "30.0"
     },
     "execution_count": 12,
     "metadata": {},
     "output_type": "execute_result"
    }
   ],
   "source": [
    "xi2 = ((4 - f1)**2 / f1) + ((26 - f2)**2 / f2) + ((32 - f3)**2 / f3) + ((28 - f4)**2 / f4) + ((10 - f5)**2 / f5)\n",
    "xi2"
   ],
   "metadata": {
    "collapsed": false,
    "ExecuteTime": {
     "end_time": "2023-05-16T13:37:45.388825Z",
     "start_time": "2023-05-16T13:37:45.353877Z"
    }
   }
  },
  {
   "cell_type": "markdown",
   "source": [
    "## Шаг 4: Определение критического значения и принятие решения"
   ],
   "metadata": {
    "collapsed": false
   }
  },
  {
   "cell_type": "markdown",
   "source": [
    "Таблица распределения хи-квадрат ($\\chi^2$) со степенями свободы 4 и уровнем значимости 0.1 даёт критическое значение $\\chi^2 = 7.779$.\n",
    "\n",
    "Так как вычисленное значение статистики критерия Пирсона ($\\chi^2 = 30$) превышает критическое значение ($\\chi^2 = 7.779$), то мы отвергаем нулевую гипотезу $H_0$ и принимаем альтернативную гипотезу $H_1$. Это означает, что результаты не получены из равномерного распределения на отрезке (155:180)."
   ],
   "metadata": {
    "collapsed": false
   }
  },
  {
   "cell_type": "markdown",
   "source": [
    "## Шаг 5: Вывод\n",
    "\n",
    "Таким образом, на основе данных выборки мы можем с уверенностью утверждать, что результаты не получены из равномерного распределения на отрезке (155:180)."
   ],
   "metadata": {
    "collapsed": false
   }
  },
  {
   "cell_type": "code",
   "execution_count": 12,
   "outputs": [],
   "source": [],
   "metadata": {
    "collapsed": false,
    "ExecuteTime": {
     "end_time": "2023-05-16T13:37:45.388900Z",
     "start_time": "2023-05-16T13:37:45.356066Z"
    }
   }
  }
 ],
 "metadata": {
  "kernelspec": {
   "display_name": "Python 3",
   "language": "python",
   "name": "python3"
  },
  "language_info": {
   "codemirror_mode": {
    "name": "ipython",
    "version": 2
   },
   "file_extension": ".py",
   "mimetype": "text/x-python",
   "name": "python",
   "nbconvert_exporter": "python",
   "pygments_lexer": "ipython2",
   "version": "2.7.6"
  }
 },
 "nbformat": 4,
 "nbformat_minor": 0
}
