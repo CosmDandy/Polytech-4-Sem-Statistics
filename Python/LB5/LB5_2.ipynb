{
 "cells": [
  {
   "cell_type": "code",
   "execution_count": 24,
   "metadata": {
    "ExecuteTime": {
     "end_time": "2023-05-11T13:26:38.492948Z",
     "start_time": "2023-05-11T13:26:38.455337Z"
    },
    "collapsed": false
   },
   "outputs": [],
   "source": [
    "import pandas as pd"
   ]
  },
  {
   "attachments": {},
   "cell_type": "markdown",
   "metadata": {
    "collapsed": false
   },
   "source": [
    "# Лабораторная работа №5\n",
    "## 1 Часть - Задание 2\n",
    "### {Фамилия Имя}, {Номер группы}, Вариант {Номер варианта}, ({Дата})"
   ]
  },
  {
   "attachments": {},
   "cell_type": "markdown",
   "metadata": {
    "collapsed": false
   },
   "source": [
    "## Задача и данные"
   ]
  },
  {
   "attachments": {},
   "cell_type": "markdown",
   "metadata": {
    "collapsed": false
   },
   "source": [
    "Семь студентов проходят аттестацию по результатам теста и на основе оценки, поставленной им преподавателем. Результаты их аттестации таковы:"
   ]
  },
  {
   "cell_type": "code",
   "execution_count": 25,
   "metadata": {
    "ExecuteTime": {
     "end_time": "2023-05-11T13:26:38.494724Z",
     "start_time": "2023-05-11T13:26:38.463570Z"
    },
    "collapsed": false
   },
   "outputs": [
    {
     "name": "stdout",
     "output_type": "stream",
     "text": [
      "Количество наблюдений: 7\n"
     ]
    }
   ],
   "source": [
    "data = pd.DataFrame({\n",
    "    ' (n)': [1, 2, 3, 4, 5, 6, 7],\n",
    "    'Результаты теста (X)': [7, 2, 5, 4, 3, 8, 9],\n",
    "    'Оценка преподавателя (Y)': [6, 3, 5, 7, 9, 10, 8]\n",
    "})\n",
    "data.set_index('Преподователи (n)', inplace=True)\n",
    "\n",
    "n = len(data)\n",
    "\n",
    "print(f'Количество наблюдений: {n}')"
   ]
  },
  {
   "cell_type": "code",
   "execution_count": 26,
   "metadata": {
    "ExecuteTime": {
     "end_time": "2023-05-11T13:26:38.494967Z",
     "start_time": "2023-05-11T13:26:38.481168Z"
    },
    "collapsed": false
   },
   "outputs": [
    {
     "data": {
      "text/html": [
       "<div>\n",
       "<style scoped>\n",
       "    .dataframe tbody tr th:only-of-type {\n",
       "        vertical-align: middle;\n",
       "    }\n",
       "\n",
       "    .dataframe tbody tr th {\n",
       "        vertical-align: top;\n",
       "    }\n",
       "\n",
       "    .dataframe thead th {\n",
       "        text-align: right;\n",
       "    }\n",
       "</style>\n",
       "<table border=\"1\" class=\"dataframe\">\n",
       "  <thead>\n",
       "    <tr style=\"text-align: right;\">\n",
       "      <th>Преподователи (n)</th>\n",
       "      <th>1</th>\n",
       "      <th>2</th>\n",
       "      <th>3</th>\n",
       "      <th>4</th>\n",
       "      <th>5</th>\n",
       "      <th>6</th>\n",
       "      <th>7</th>\n",
       "    </tr>\n",
       "  </thead>\n",
       "  <tbody>\n",
       "    <tr>\n",
       "      <th>Результаты теста (X)</th>\n",
       "      <td>7</td>\n",
       "      <td>2</td>\n",
       "      <td>5</td>\n",
       "      <td>4</td>\n",
       "      <td>3</td>\n",
       "      <td>8</td>\n",
       "      <td>9</td>\n",
       "    </tr>\n",
       "    <tr>\n",
       "      <th>Оценка преподавателя (Y)</th>\n",
       "      <td>6</td>\n",
       "      <td>3</td>\n",
       "      <td>5</td>\n",
       "      <td>7</td>\n",
       "      <td>9</td>\n",
       "      <td>10</td>\n",
       "      <td>8</td>\n",
       "    </tr>\n",
       "  </tbody>\n",
       "</table>\n",
       "</div>"
      ],
      "text/plain": [
       "Преподователи (n)         1  2  3  4  5   6  7\n",
       "Результаты теста (X)      7  2  5  4  3   8  9\n",
       "Оценка преподавателя (Y)  6  3  5  7  9  10  8"
      ]
     },
     "execution_count": 26,
     "metadata": {},
     "output_type": "execute_result"
    }
   ],
   "source": [
    "data.T"
   ]
  },
  {
   "attachments": {},
   "cell_type": "markdown",
   "metadata": {
    "collapsed": false
   },
   "source": [
    "На основе рангового коэффициента Спирмена найдите тесноту связи между двумя показателями оценки студента, рассматривая данные, как выборочные наблюдения случайных величин. Сделайте вывод"
   ]
  },
  {
   "attachments": {},
   "cell_type": "markdown",
   "metadata": {
    "collapsed": false
   },
   "source": [
    "## Ранговый коэффициент Спирмена"
   ]
  },
  {
   "attachments": {},
   "cell_type": "markdown",
   "metadata": {
    "collapsed": false
   },
   "source": [
    "### Присваиваем ранги"
   ]
  },
  {
   "cell_type": "code",
   "execution_count": 27,
   "metadata": {
    "ExecuteTime": {
     "end_time": "2023-05-11T13:26:38.505245Z",
     "start_time": "2023-05-11T13:26:38.494622Z"
    },
    "collapsed": false
   },
   "outputs": [
    {
     "data": {
      "text/html": [
       "<div>\n",
       "<style scoped>\n",
       "    .dataframe tbody tr th:only-of-type {\n",
       "        vertical-align: middle;\n",
       "    }\n",
       "\n",
       "    .dataframe tbody tr th {\n",
       "        vertical-align: top;\n",
       "    }\n",
       "\n",
       "    .dataframe thead th {\n",
       "        text-align: right;\n",
       "    }\n",
       "</style>\n",
       "<table border=\"1\" class=\"dataframe\">\n",
       "  <thead>\n",
       "    <tr style=\"text-align: right;\">\n",
       "      <th></th>\n",
       "      <th>Ранг X</th>\n",
       "      <th>Ранг Y</th>\n",
       "    </tr>\n",
       "    <tr>\n",
       "      <th>Преподователи (n)</th>\n",
       "      <th></th>\n",
       "      <th></th>\n",
       "    </tr>\n",
       "  </thead>\n",
       "  <tbody>\n",
       "    <tr>\n",
       "      <th>1</th>\n",
       "      <td>5.0</td>\n",
       "      <td>3.0</td>\n",
       "    </tr>\n",
       "    <tr>\n",
       "      <th>2</th>\n",
       "      <td>1.0</td>\n",
       "      <td>1.0</td>\n",
       "    </tr>\n",
       "    <tr>\n",
       "      <th>3</th>\n",
       "      <td>4.0</td>\n",
       "      <td>2.0</td>\n",
       "    </tr>\n",
       "    <tr>\n",
       "      <th>4</th>\n",
       "      <td>3.0</td>\n",
       "      <td>4.0</td>\n",
       "    </tr>\n",
       "    <tr>\n",
       "      <th>5</th>\n",
       "      <td>2.0</td>\n",
       "      <td>6.0</td>\n",
       "    </tr>\n",
       "    <tr>\n",
       "      <th>6</th>\n",
       "      <td>6.0</td>\n",
       "      <td>7.0</td>\n",
       "    </tr>\n",
       "    <tr>\n",
       "      <th>7</th>\n",
       "      <td>7.0</td>\n",
       "      <td>5.0</td>\n",
       "    </tr>\n",
       "  </tbody>\n",
       "</table>\n",
       "</div>"
      ],
      "text/plain": [
       "                   Ранг X  Ранг Y\n",
       "Преподователи (n)                \n",
       "1                     5.0     3.0\n",
       "2                     1.0     1.0\n",
       "3                     4.0     2.0\n",
       "4                     3.0     4.0\n",
       "5                     2.0     6.0\n",
       "6                     6.0     7.0\n",
       "7                     7.0     5.0"
      ]
     },
     "execution_count": 27,
     "metadata": {},
     "output_type": "execute_result"
    }
   ],
   "source": [
    "data['Ранг X'] = data['Результаты теста (X)'].rank()\n",
    "data['Ранг Y'] = data['Оценка преподавателя (Y)'].rank()\n",
    "pd.concat([data['Ранг X'], data['Ранг Y']], axis=1)"
   ]
  },
  {
   "attachments": {},
   "cell_type": "markdown",
   "metadata": {
    "collapsed": false
   },
   "source": [
    "### Расчет коэффициента\n",
    "\n",
    "$$p = 1 - \\frac{6 \\sum d_i^2}{n(n^2 - 1)}$$"
   ]
  },
  {
   "cell_type": "code",
   "execution_count": 28,
   "metadata": {
    "ExecuteTime": {
     "end_time": "2023-05-11T13:26:38.507754Z",
     "start_time": "2023-05-11T13:26:38.505996Z"
    },
    "collapsed": false
   },
   "outputs": [
    {
     "name": "stdout",
     "output_type": "stream",
     "text": [
      "Ранговый коэффициент Спирмена: 0.464\n"
     ]
    }
   ],
   "source": [
    "d = data['Ранг X'] - data['Ранг Y']\n",
    "p = 1 - (6 * sum(d ** 2)) / (n * (n ** 2 - 1))\n",
    "print(f'Ранговый коэффициент Спирмена: {p:.3f}')"
   ]
  },
  {
   "attachments": {},
   "cell_type": "markdown",
   "metadata": {
    "collapsed": false
   },
   "source": [
    "Получаем коэффициент корреляции Спирмена равный $0.464$, что указывает на умеренную положительную связь между результатами теста и оценками преподавателя."
   ]
  },
  {
   "attachments": {},
   "cell_type": "markdown",
   "metadata": {
    "collapsed": false
   },
   "source": [
    "## Вывод\n",
    "\n",
    "На основе рангового коэффициента Спирмена можно сделать вывод, что есть умеренная положительная связь между двумя показателями оценки студента. То есть, чем выше результаты теста, тем выше оценка преподавателя, и наоборот. Однако, необходимо учитывать, что выборка очень мала и не является репрезентативной для всей генеральной совокупности студентов."
   ]
  }
 ],
 "metadata": {
  "kernelspec": {
   "display_name": "Python 3",
   "language": "python",
   "name": "python3"
  },
  "language_info": {
   "codemirror_mode": {
    "name": "ipython",
    "version": 3
   },
   "file_extension": ".py",
   "mimetype": "text/x-python",
   "name": "python",
   "nbconvert_exporter": "python",
   "pygments_lexer": "ipython3",
   "version": "3.10.11"
  }
 },
 "nbformat": 4,
 "nbformat_minor": 0
}
