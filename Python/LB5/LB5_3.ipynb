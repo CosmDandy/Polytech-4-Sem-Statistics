{
 "cells": [
  {
   "cell_type": "code",
   "execution_count": 2,
   "metadata": {
    "ExecuteTime": {
     "end_time": "2023-04-27T13:34:28.424090Z",
     "start_time": "2023-04-27T13:34:28.280740Z"
    },
    "collapsed": false
   },
   "outputs": [],
   "source": [
    "import pandas as pd\n",
    "import numpy as np\n",
    "import scipy.stats as st\n",
    "from IPython.display import display, Markdown\n",
    "import seaborn as sns\n",
    "import matplotlib.pyplot as plt\n",
    "import plotly.express as px"
   ]
  },
  {
   "attachments": {},
   "cell_type": "markdown",
   "metadata": {
    "collapsed": false
   },
   "source": [
    "# Лабораторная работа №5\n",
    "## 2 Часть - Задание 4\n",
    "### {Фамилия Имя}, {Номер группы}, Вариант {Номер варианта}, ({Дата})"
   ]
  },
  {
   "attachments": {},
   "cell_type": "markdown",
   "metadata": {
    "collapsed": false
   },
   "source": [
    "### Данные"
   ]
  },
  {
   "attachments": {},
   "cell_type": "markdown",
   "metadata": {
    "collapsed": false
   },
   "source": [
    "Для выборки значений случайной величины $X$ из генеральной совокупности:\n",
    "1. Найти выборочные оценки математического ожидания, дисперсии и среднеквадратического отклонения случайной величины X , указать свойства этих оценок.\n",
    "2. Составить группированный вариационный ряд.\n",
    "3. Построить гистограмму и полигон относительных частот. На их основе выдвинуть нулевую гипотезу H0 о виде распределения (нормальное распределение).\n",
    "4. На одном чертеже с гистограммой построить график теоретической плотности вероятностей. Сделать вывод об их визуальном совпадении.\n",
    "5. Составить эмпирическую функцию распределения $F(x)$ и построить ее график.\n",
    "6. На одном чертеже с эмпирической функцией распределения построить график теоретической функции распределения. Сделать вывод об их визуальном совпадении.\n",
    "7. С помощью критерия согласия $\\chi^2 $Пирсона проверить гипотезу H0 о виде распределения генеральной совокупности для уровня значимости $a = 0.1$. Сделать статистический вывод.\n",
    "8. Построить доверительные интервалы для неизвестных математического ожидания и дисперсии нормально распределенной генеральной совокупности с параметрами $a = \\overline{x_в}$ и $\\sigma = S$ для уровней значимости $a = 0.1, a = 0.05, a = 0.01$. Сделать вывод о ширине доверительного интервала, в зависимости от уровня значимости $a$."
   ]
  },
  {
   "cell_type": "code",
   "execution_count": 3,
   "metadata": {
    "ExecuteTime": {
     "end_time": "2023-04-27T13:34:28.461890Z",
     "start_time": "2023-04-27T13:34:28.299473Z"
    },
    "collapsed": false
   },
   "outputs": [],
   "source": [
    "freq = pd.Series([71, 73, 19, 47, 78, 28, 35, 22, 48, 86, 27, 50, 27, 109, 20, 54, 58, 64, 56, 98, 55, 12, 52, 24, 24, 22, 67, 71, 23, 58, 19, 68, 31, 41, 95], name=\"f\")\n",
    "n = len(freq)\n",
    "alpha_1 = 0.1\n",
    "alpha_2 = 0.05\n",
    "alpha_3 = 0.01\n",
    "k = int(np.floor(np.log2(n) + 1))\n",
    "min_x = min(freq) - k/2\n",
    "h = round((max(freq) - min(freq))/k, 0)"
   ]
  },
  {
   "cell_type": "code",
   "execution_count": 4,
   "metadata": {
    "ExecuteTime": {
     "end_time": "2023-04-27T13:34:28.462017Z",
     "start_time": "2023-04-27T13:34:28.332800Z"
    },
    "collapsed": false
   },
   "outputs": [
    {
     "data": {
      "text/markdown": [
       "$n = 35$; $\\alpha=0.1, 0.05, 0.01$; min_x $= 9.0$; $h = 16.0$"
      ],
      "text/plain": [
       "<IPython.core.display.Markdown object>"
      ]
     },
     "execution_count": 4,
     "metadata": {},
     "output_type": "execute_result"
    }
   ],
   "source": [
    "Markdown(f'$n = {n}$; $\\\\alpha={alpha_1}, {alpha_2}, {alpha_3}$; min_x $= {min_x}$; $h = {h}$')"
   ]
  },
  {
   "cell_type": "code",
   "execution_count": 5,
   "metadata": {},
   "outputs": [
    {
     "data": {
      "text/html": [
       "<div>\n",
       "<style scoped>\n",
       "    .dataframe tbody tr th:only-of-type {\n",
       "        vertical-align: middle;\n",
       "    }\n",
       "\n",
       "    .dataframe tbody tr th {\n",
       "        vertical-align: top;\n",
       "    }\n",
       "\n",
       "    .dataframe thead th {\n",
       "        text-align: right;\n",
       "    }\n",
       "</style>\n",
       "<table border=\"1\" class=\"dataframe\">\n",
       "  <thead>\n",
       "    <tr style=\"text-align: right;\">\n",
       "      <th></th>\n",
       "      <th>x_i</th>\n",
       "      <th>x_(i+1)</th>\n",
       "      <th>f</th>\n",
       "    </tr>\n",
       "  </thead>\n",
       "  <tbody>\n",
       "    <tr>\n",
       "      <th>0</th>\n",
       "      <td>9.0</td>\n",
       "      <td>25.0</td>\n",
       "      <td>9</td>\n",
       "    </tr>\n",
       "    <tr>\n",
       "      <th>1</th>\n",
       "      <td>25.0</td>\n",
       "      <td>41.0</td>\n",
       "      <td>5</td>\n",
       "    </tr>\n",
       "    <tr>\n",
       "      <th>2</th>\n",
       "      <td>41.0</td>\n",
       "      <td>57.0</td>\n",
       "      <td>5</td>\n",
       "    </tr>\n",
       "    <tr>\n",
       "      <th>3</th>\n",
       "      <td>57.0</td>\n",
       "      <td>73.0</td>\n",
       "      <td>7</td>\n",
       "    </tr>\n",
       "    <tr>\n",
       "      <th>4</th>\n",
       "      <td>73.0</td>\n",
       "      <td>89.0</td>\n",
       "      <td>5</td>\n",
       "    </tr>\n",
       "    <tr>\n",
       "      <th>5</th>\n",
       "      <td>89.0</td>\n",
       "      <td>105.0</td>\n",
       "      <td>2</td>\n",
       "    </tr>\n",
       "    <tr>\n",
       "      <th>6</th>\n",
       "      <td>105.0</td>\n",
       "      <td>121.0</td>\n",
       "      <td>2</td>\n",
       "    </tr>\n",
       "  </tbody>\n",
       "</table>\n",
       "</div>"
      ],
      "text/plain": [
       "     x_i  x_(i+1)  f\n",
       "0    9.0     25.0  9\n",
       "1   25.0     41.0  5\n",
       "2   41.0     57.0  5\n",
       "3   57.0     73.0  7\n",
       "4   73.0     89.0  5\n",
       "5   89.0    105.0  2\n",
       "6  105.0    121.0  2"
      ]
     },
     "execution_count": 5,
     "metadata": {},
     "output_type": "execute_result"
    }
   ],
   "source": [
    "data = pd.DataFrame()\n",
    "data[\"x_i\"] = [min_x + h * i for i in range(k + 1)]\n",
    "data[\"x_(i+1)\"] = [min_x + h * (i + 1) for i in range(k + 1)]\n",
    "data[\"f\"] = freq.value_counts(bins=k + 1).sort_index().values\n",
    "data"
   ]
  },
  {
   "attachments": {},
   "cell_type": "markdown",
   "metadata": {
    "collapsed": false
   },
   "source": [
    "## Шаг 1: Вычисление характеристик выборки."
   ]
  },
  {
   "attachments": {},
   "cell_type": "markdown",
   "metadata": {
    "collapsed": false
   },
   "source": [
    "### Вычисление среднего значения\n",
    "\n",
    "$$\\overline{x} = \\frac{1}{n} \\sum_{i=1}^{n} x_i$$"
   ]
  },
  {
   "cell_type": "code",
   "execution_count": 6,
   "metadata": {
    "ExecuteTime": {
     "end_time": "2023-04-27T13:34:28.463179Z",
     "start_time": "2023-04-27T13:34:28.357599Z"
    },
    "collapsed": false
   },
   "outputs": [
    {
     "data": {
      "text/plain": [
       "49.48571428571429"
      ]
     },
     "execution_count": 6,
     "metadata": {},
     "output_type": "execute_result"
    }
   ],
   "source": [
    "mean = freq.sum() / n\n",
    "mean"
   ]
  },
  {
   "attachments": {},
   "cell_type": "markdown",
   "metadata": {
    "collapsed": false
   },
   "source": [
    "### Вычисление дисперсии\n",
    "\n",
    "$$s^2 = \\frac{1}{n-1} \\sum_{i=1}^{n} (x_i - \\overline{x})^2$$"
   ]
  },
  {
   "cell_type": "code",
   "execution_count": 7,
   "metadata": {
    "ExecuteTime": {
     "end_time": "2023-04-27T13:34:28.463904Z",
     "start_time": "2023-04-27T13:34:28.362027Z"
    },
    "collapsed": false
   },
   "outputs": [
    {
     "data": {
      "text/plain": [
       "660.198319327731"
      ]
     },
     "execution_count": 7,
     "metadata": {},
     "output_type": "execute_result"
    }
   ],
   "source": [
    "variance = freq.var(ddof=1)\n",
    "variance"
   ]
  },
  {
   "attachments": {},
   "cell_type": "markdown",
   "metadata": {
    "collapsed": false
   },
   "source": [
    "### Вычисление стандартного отклонения\n",
    "\n",
    "$$s = \\sqrt{s^2}$$"
   ]
  },
  {
   "cell_type": "code",
   "execution_count": 8,
   "metadata": {
    "ExecuteTime": {
     "end_time": "2023-04-27T13:34:28.464453Z",
     "start_time": "2023-04-27T13:34:28.366774Z"
    },
    "collapsed": false
   },
   "outputs": [
    {
     "data": {
      "text/plain": [
       "25.69432465210423"
      ]
     },
     "execution_count": 8,
     "metadata": {},
     "output_type": "execute_result"
    }
   ],
   "source": [
    "std = np.sqrt(variance)\n",
    "std"
   ]
  },
  {
   "cell_type": "markdown",
   "metadata": {},
   "source": [
    "Выборочное среднее:\n",
    "1) Несмещенная оценка\n",
    "2) Состоятельная\n",
    "3) Линейная\n",
    "\n",
    "\n",
    "Выборочная дисперсия:\n",
    "1) Смещенная оценка. Для получения несмещенной оценки используют исправленную выборочную дисперсию.\n",
    "2) Состоятельна\n",
    "3) Неотрицательна"
   ]
  },
  {
   "cell_type": "markdown",
   "metadata": {},
   "source": [
    "## Шаг 2: Составить группированный вариационный ряд"
   ]
  },
  {
   "cell_type": "code",
   "execution_count": 11,
   "metadata": {},
   "outputs": [
    {
     "data": {
      "text/html": [
       "<div>\n",
       "<style scoped>\n",
       "    .dataframe tbody tr th:only-of-type {\n",
       "        vertical-align: middle;\n",
       "    }\n",
       "\n",
       "    .dataframe tbody tr th {\n",
       "        vertical-align: top;\n",
       "    }\n",
       "\n",
       "    .dataframe thead th {\n",
       "        text-align: right;\n",
       "    }\n",
       "</style>\n",
       "<table border=\"1\" class=\"dataframe\">\n",
       "  <thead>\n",
       "    <tr style=\"text-align: right;\">\n",
       "      <th></th>\n",
       "      <th>x_i</th>\n",
       "      <th>x_(i+1)</th>\n",
       "      <th>f</th>\n",
       "      <th>w</th>\n",
       "    </tr>\n",
       "  </thead>\n",
       "  <tbody>\n",
       "    <tr>\n",
       "      <th>0</th>\n",
       "      <td>9.0</td>\n",
       "      <td>25.0</td>\n",
       "      <td>9</td>\n",
       "      <td>0.257143</td>\n",
       "    </tr>\n",
       "    <tr>\n",
       "      <th>1</th>\n",
       "      <td>25.0</td>\n",
       "      <td>41.0</td>\n",
       "      <td>5</td>\n",
       "      <td>0.142857</td>\n",
       "    </tr>\n",
       "    <tr>\n",
       "      <th>2</th>\n",
       "      <td>41.0</td>\n",
       "      <td>57.0</td>\n",
       "      <td>5</td>\n",
       "      <td>0.142857</td>\n",
       "    </tr>\n",
       "    <tr>\n",
       "      <th>3</th>\n",
       "      <td>57.0</td>\n",
       "      <td>73.0</td>\n",
       "      <td>7</td>\n",
       "      <td>0.200000</td>\n",
       "    </tr>\n",
       "    <tr>\n",
       "      <th>4</th>\n",
       "      <td>73.0</td>\n",
       "      <td>89.0</td>\n",
       "      <td>5</td>\n",
       "      <td>0.142857</td>\n",
       "    </tr>\n",
       "    <tr>\n",
       "      <th>5</th>\n",
       "      <td>89.0</td>\n",
       "      <td>105.0</td>\n",
       "      <td>2</td>\n",
       "      <td>0.057143</td>\n",
       "    </tr>\n",
       "    <tr>\n",
       "      <th>6</th>\n",
       "      <td>105.0</td>\n",
       "      <td>121.0</td>\n",
       "      <td>2</td>\n",
       "      <td>0.057143</td>\n",
       "    </tr>\n",
       "  </tbody>\n",
       "</table>\n",
       "</div>"
      ],
      "text/plain": [
       "     x_i  x_(i+1)  f         w\n",
       "0    9.0     25.0  9  0.257143\n",
       "1   25.0     41.0  5  0.142857\n",
       "2   41.0     57.0  5  0.142857\n",
       "3   57.0     73.0  7  0.200000\n",
       "4   73.0     89.0  5  0.142857\n",
       "5   89.0    105.0  2  0.057143\n",
       "6  105.0    121.0  2  0.057143"
      ]
     },
     "execution_count": 11,
     "metadata": {},
     "output_type": "execute_result"
    }
   ],
   "source": [
    "data[\"w\"] = data[\"f\"] / n\n",
    "data"
   ]
  },
  {
   "cell_type": "markdown",
   "metadata": {},
   "source": [
    "## Шаг 3: Гистограмма относительных частот"
   ]
  },
  {
   "cell_type": "code",
   "execution_count": 24,
   "metadata": {},
   "outputs": [
    {
     "data": {
      "image/png": "[encoded data removed]",
      "text/plain": [
       "<Figure size 1500x1000 with 1 Axes>"
      ]
     },
     "metadata": {},
     "output_type": "display_data"
    }
   ],
   "source": [
    "def plot_barplot(x, y1, y2=None, title=\"\"):\n",
    "    fig, ax = plt.subplots(figsize=(15, 10))\n",
    "    ax = sns.barplot(x=x, y=y1, ax=ax, color=\"purple\", alpha=0.5, label=\"Выборочные частоты\")\n",
    "    if y2 is not None:\n",
    "        ax = sns.barplot(x=x, y=y2, ax=ax, color=\"red\", alpha=0.5, label=\"Теоретичесие частоты\")\n",
    "    ax.set_title(title)\n",
    "    ax.set_xlabel(\"Интервалы\")\n",
    "    ax.set_ylabel(\"\")\n",
    "    ax.legend()\n",
    "\n",
    "plot_barplot(x=[f\"{data.loc[i, 'x_i']}-{data.loc[i, 'x_i'] + h}\" for i in data.index], y1=data[\"w\"], title='Гистограмма частот вариационного ряда')"
   ]
  },
  {
   "attachments": {},
   "cell_type": "markdown",
   "metadata": {
    "collapsed": false
   },
   "source": [
    "## Шаг 4: Проверка гипотезы о нормальности распределения\n",
    "\n",
    "Для проверки гипотезы о нормальности распределения воспользуемся критерием согласия хи-квадрат. Нужно вычислить теоретические (ожидаемые) частоты попадания значений в каждый интервал, если бы распределение было нормальным. Для этого воспользуемся формулой:\n",
    "$$P_i=P(x_i < X < x_{i+1})=Ф(\\frac{x_{i+1} - \\bar{x}}{S}) - Ф(\\frac{x_{i} - \\bar{x}}{S})$$\n",
    "$$f' = fP_i$$"
   ]
  },
  {
   "cell_type": "code",
   "execution_count": 21,
   "metadata": {},
   "outputs": [
    {
     "data": {
      "text/plain": [
       "0    3.946371\n",
       "1    7.010446\n",
       "2    8.554885\n",
       "3    7.172074\n",
       "4    4.130483\n",
       "5    1.633693\n",
       "6    0.443581\n",
       "Name: f', dtype: float64"
      ]
     },
     "execution_count": 21,
     "metadata": {},
     "output_type": "execute_result"
    }
   ],
   "source": [
    "p = st.norm.cdf((data[\"x_(i+1)\"] - mean) / std) - st.norm.cdf((data[\"x_i\"] - mean) / std)\n",
    "\n",
    "# assert np.isclose(p.sum(), 1, rtol=.01), \"Сумма теоретических оснований должна быть равна 1.\"\n",
    "\n",
    "data[\"f'\"] = p * n\n",
    "data[\"f'\"]"
   ]
  },
  {
   "cell_type": "markdown",
   "metadata": {},
   "source": [
    "## Шаг 5: Гистограмма относительных частот c теоретическими"
   ]
  },
  {
   "cell_type": "code",
   "execution_count": 25,
   "metadata": {},
   "outputs": [
    {
     "data": {
      "image/png": "[encoded data removed]",
      "text/plain": [
       "<Figure size 1500x1000 with 1 Axes>"
      ]
     },
     "metadata": {},
     "output_type": "display_data"
    }
   ],
   "source": [
    "plot_barplot(x=[f\"{data.loc[i, 'x_i']}-{data.loc[i, 'x_i'] + h}\" for i in data.index], y1=data[\"w\"], y2=p, title='Гистограмма частот вариационного ряда')"
   ]
  },
  {
   "cell_type": "markdown",
   "metadata": {},
   "source": [
    "Исходя из гистограммы визуально распределения не совпадают.\n"
   ]
  },
  {
   "cell_type": "markdown",
   "metadata": {},
   "source": [
    "## Шаг 6: Функция распределения"
   ]
  },
  {
   "cell_type": "code",
   "execution_count": 40,
   "metadata": {},
   "outputs": [
    {
     "data": {
      "text/html": [
       "<div>\n",
       "<style scoped>\n",
       "    .dataframe tbody tr th:only-of-type {\n",
       "        vertical-align: middle;\n",
       "    }\n",
       "\n",
       "    .dataframe tbody tr th {\n",
       "        vertical-align: top;\n",
       "    }\n",
       "\n",
       "    .dataframe thead th {\n",
       "        text-align: right;\n",
       "    }\n",
       "</style>\n",
       "<table border=\"1\" class=\"dataframe\">\n",
       "  <thead>\n",
       "    <tr style=\"text-align: right;\">\n",
       "      <th></th>\n",
       "      <th>x_i</th>\n",
       "      <th>x_(i+1)</th>\n",
       "      <th>F*</th>\n",
       "    </tr>\n",
       "  </thead>\n",
       "  <tbody>\n",
       "    <tr>\n",
       "      <th>0</th>\n",
       "      <td>9.0</td>\n",
       "      <td>25.0</td>\n",
       "      <td>0.257143</td>\n",
       "    </tr>\n",
       "    <tr>\n",
       "      <th>1</th>\n",
       "      <td>25.0</td>\n",
       "      <td>41.0</td>\n",
       "      <td>0.400000</td>\n",
       "    </tr>\n",
       "    <tr>\n",
       "      <th>2</th>\n",
       "      <td>41.0</td>\n",
       "      <td>57.0</td>\n",
       "      <td>0.542857</td>\n",
       "    </tr>\n",
       "    <tr>\n",
       "      <th>3</th>\n",
       "      <td>57.0</td>\n",
       "      <td>73.0</td>\n",
       "      <td>0.742857</td>\n",
       "    </tr>\n",
       "    <tr>\n",
       "      <th>4</th>\n",
       "      <td>73.0</td>\n",
       "      <td>89.0</td>\n",
       "      <td>0.885714</td>\n",
       "    </tr>\n",
       "    <tr>\n",
       "      <th>5</th>\n",
       "      <td>89.0</td>\n",
       "      <td>105.0</td>\n",
       "      <td>0.942857</td>\n",
       "    </tr>\n",
       "    <tr>\n",
       "      <th>6</th>\n",
       "      <td>105.0</td>\n",
       "      <td>121.0</td>\n",
       "      <td>1.000000</td>\n",
       "    </tr>\n",
       "  </tbody>\n",
       "</table>\n",
       "</div>"
      ],
      "text/plain": [
       "     x_i  x_(i+1)        F*\n",
       "0    9.0     25.0  0.257143\n",
       "1   25.0     41.0  0.400000\n",
       "2   41.0     57.0  0.542857\n",
       "3   57.0     73.0  0.742857\n",
       "4   73.0     89.0  0.885714\n",
       "5   89.0    105.0  0.942857\n",
       "6  105.0    121.0  1.000000"
      ]
     },
     "execution_count": 40,
     "metadata": {},
     "output_type": "execute_result"
    }
   ],
   "source": [
    "emp_func = data[\"w\"].cumsum()\n",
    "data[\"F*\"] = emp_func\n",
    "data[[\"x_i\", \"x_(i+1)\", \"F*\"]]"
   ]
  },
  {
   "cell_type": "code",
   "execution_count": 45,
   "metadata": {},
   "outputs": [
    {
     "data": {
      "image/png": "[encoded data removed]",
      "text/plain": [
       "<Figure size 1000x500 with 1 Axes>"
      ]
     },
     "metadata": {},
     "output_type": "display_data"
    }
   ],
   "source": [
    "def plot_cdf_func(x, y, title, c=1):\n",
    "    fig, ax = plt.subplots(figsize=(10, 5))\n",
    "    min_y, max_y = min(y), max(y)\n",
    "    arrow_length = ((max_y - min_y) / len(y)) * c\n",
    "    for idx in range(len(y) - 1):\n",
    "        dx = x[idx] - x[idx + 1]\n",
    "        ax.arrow(x=x[idx + 1], y=y[idx], dx=dx, dy=0, color=\"blue\", head_width=.05, head_length=arrow_length)\n",
    "    ax.set_title(title)\n",
    "    ax.set_ylabel(\"F*\")\n",
    "    ax.set_xlabel(\"x\")\n",
    "    plt.plot()\n",
    "\n",
    "\n",
    "plot_cdf_func(data[\"x_i\"], emp_func.values, 'График эмпирической функции распределения')"
   ]
  },
  {
   "cell_type": "code",
   "execution_count": 47,
   "metadata": {},
   "outputs": [
    {
     "data": {
      "image/png": "[encoded data removed]",
      "text/plain": [
       "<Figure size 1000x500 with 1 Axes>"
      ]
     },
     "metadata": {},
     "output_type": "display_data"
    }
   ],
   "source": [
    "plot_cdf_func(data[\"x_i\"], p.cumsum(), 'График теоретической функции распределения')"
   ]
  },
  {
   "attachments": {},
   "cell_type": "markdown",
   "metadata": {
    "collapsed": false
   },
   "source": [
    "## Шаг 7: Вычисление значения статистики критерия\n",
    "\n",
    "Вычислим значение статистики критерия $\\chi^2$:\n",
    "\n",
    "\n",
    "$$\\chi^2 = \\sum_{i=1}^{k} \\frac{(f_i - f_i^*)^2}{f_i^*} = \\frac{(\\text{наблюдаемая частота} - \\text{ожидаемая частота})^2}{\\text{ожидаемая частота}}$$"
   ]
  },
  {
   "cell_type": "code",
   "execution_count": 49,
   "metadata": {},
   "outputs": [
    {
     "data": {
      "text/html": [
       "<div>\n",
       "<style scoped>\n",
       "    .dataframe tbody tr th:only-of-type {\n",
       "        vertical-align: middle;\n",
       "    }\n",
       "\n",
       "    .dataframe tbody tr th {\n",
       "        vertical-align: top;\n",
       "    }\n",
       "\n",
       "    .dataframe thead th {\n",
       "        text-align: right;\n",
       "    }\n",
       "</style>\n",
       "<table border=\"1\" class=\"dataframe\">\n",
       "  <thead>\n",
       "    <tr style=\"text-align: right;\">\n",
       "      <th></th>\n",
       "      <th>x_i</th>\n",
       "      <th>x_(i+1)</th>\n",
       "      <th>f</th>\n",
       "      <th>w</th>\n",
       "      <th>f'</th>\n",
       "      <th>F*</th>\n",
       "    </tr>\n",
       "  </thead>\n",
       "  <tbody>\n",
       "    <tr>\n",
       "      <th>0</th>\n",
       "      <td>9.0</td>\n",
       "      <td>25.0</td>\n",
       "      <td>9</td>\n",
       "      <td>0.257143</td>\n",
       "      <td>3.946371</td>\n",
       "      <td>0.257143</td>\n",
       "    </tr>\n",
       "    <tr>\n",
       "      <th>1</th>\n",
       "      <td>25.0</td>\n",
       "      <td>41.0</td>\n",
       "      <td>5</td>\n",
       "      <td>0.142857</td>\n",
       "      <td>7.010446</td>\n",
       "      <td>0.400000</td>\n",
       "    </tr>\n",
       "    <tr>\n",
       "      <th>2</th>\n",
       "      <td>41.0</td>\n",
       "      <td>57.0</td>\n",
       "      <td>5</td>\n",
       "      <td>0.142857</td>\n",
       "      <td>8.554885</td>\n",
       "      <td>0.542857</td>\n",
       "    </tr>\n",
       "    <tr>\n",
       "      <th>3</th>\n",
       "      <td>57.0</td>\n",
       "      <td>73.0</td>\n",
       "      <td>7</td>\n",
       "      <td>0.200000</td>\n",
       "      <td>7.172074</td>\n",
       "      <td>0.742857</td>\n",
       "    </tr>\n",
       "    <tr>\n",
       "      <th>4</th>\n",
       "      <td>73.0</td>\n",
       "      <td>89.0</td>\n",
       "      <td>5</td>\n",
       "      <td>0.142857</td>\n",
       "      <td>4.130483</td>\n",
       "      <td>0.885714</td>\n",
       "    </tr>\n",
       "    <tr>\n",
       "      <th>5</th>\n",
       "      <td>89.0</td>\n",
       "      <td>105.0</td>\n",
       "      <td>2</td>\n",
       "      <td>0.057143</td>\n",
       "      <td>1.633693</td>\n",
       "      <td>0.942857</td>\n",
       "    </tr>\n",
       "    <tr>\n",
       "      <th>6</th>\n",
       "      <td>105.0</td>\n",
       "      <td>121.0</td>\n",
       "      <td>2</td>\n",
       "      <td>0.057143</td>\n",
       "      <td>0.443581</td>\n",
       "      <td>1.000000</td>\n",
       "    </tr>\n",
       "  </tbody>\n",
       "</table>\n",
       "</div>"
      ],
      "text/plain": [
       "     x_i  x_(i+1)  f         w        f'        F*\n",
       "0    9.0     25.0  9  0.257143  3.946371  0.257143\n",
       "1   25.0     41.0  5  0.142857  7.010446  0.400000\n",
       "2   41.0     57.0  5  0.142857  8.554885  0.542857\n",
       "3   57.0     73.0  7  0.200000  7.172074  0.742857\n",
       "4   73.0     89.0  5  0.142857  4.130483  0.885714\n",
       "5   89.0    105.0  2  0.057143  1.633693  0.942857\n",
       "6  105.0    121.0  2  0.057143  0.443581  1.000000"
      ]
     },
     "execution_count": 49,
     "metadata": {},
     "output_type": "execute_result"
    }
   ],
   "source": [
    "data"
   ]
  },
  {
   "cell_type": "code",
   "execution_count": 50,
   "metadata": {
    "ExecuteTime": {
     "end_time": "2023-04-27T13:34:28.468764Z",
     "start_time": "2023-04-27T13:34:28.468722Z"
    },
    "collapsed": false
   },
   "outputs": [
    {
     "data": {
      "text/plain": [
       "14.255702789201939"
      ]
     },
     "execution_count": 50,
     "metadata": {},
     "output_type": "execute_result"
    }
   ],
   "source": [
    "chi2_value = ((data[\"f\"] - data[\"f'\"])**2 / data[\"f'\"]).sum()\n",
    "chi2_value"
   ]
  },
  {
   "attachments": {},
   "cell_type": "markdown",
   "metadata": {
    "collapsed": false
   },
   "source": [
    "#### Степени свободы:"
   ]
  },
  {
   "cell_type": "code",
   "execution_count": 52,
   "metadata": {
    "ExecuteTime": {
     "end_time": "2023-04-27T13:35:12.092276Z",
     "start_time": "2023-04-27T13:35:12.084227Z"
    },
    "collapsed": false
   },
   "outputs": [
    {
     "data": {
      "text/plain": [
       "2"
      ]
     },
     "execution_count": 52,
     "metadata": {},
     "output_type": "execute_result"
    }
   ],
   "source": [
    "# два параметра у норм. распр. мат. ожидание и стандартное отклонение \n",
    "df = (data[\"f\"] >= 5).sum() - 3\n",
    "df"
   ]
  },
  {
   "attachments": {},
   "cell_type": "markdown",
   "metadata": {},
   "source": [
    "#### Критическое значение"
   ]
  },
  {
   "cell_type": "code",
   "execution_count": 53,
   "metadata": {},
   "outputs": [
    {
     "data": {
      "text/plain": [
       "0.1"
      ]
     },
     "execution_count": 53,
     "metadata": {},
     "output_type": "execute_result"
    }
   ],
   "source": [
    "alpha_1"
   ]
  },
  {
   "cell_type": "code",
   "execution_count": 54,
   "metadata": {},
   "outputs": [
    {
     "data": {
      "text/plain": [
       "4.605170185988092"
      ]
     },
     "execution_count": 54,
     "metadata": {},
     "output_type": "execute_result"
    }
   ],
   "source": [
    "chi2_critical = st.chi2.ppf(1-alpha_1, df=df)\n",
    "chi2_critical"
   ]
  },
  {
   "cell_type": "code",
   "execution_count": 57,
   "metadata": {},
   "outputs": [
    {
     "data": {
      "text/markdown": [
       "## Вывод"
      ],
      "text/plain": [
       "<IPython.core.display.Markdown object>"
      ]
     },
     "metadata": {},
     "output_type": "display_data"
    },
    {
     "data": {
      "text/markdown": [
       "Таблица распределения хи-квадрат ($\\chi^2$) со степенями свободы 2 и уровнем значимости 0.1 даёт критическое значение $\\chi^2 = 4.605170185988092$."
      ],
      "text/plain": [
       "<IPython.core.display.Markdown object>"
      ]
     },
     "metadata": {},
     "output_type": "display_data"
    },
    {
     "data": {
      "text/markdown": [
       "Так как вычисленное значение статистики критерия Пирсона ($\\chi^2 = 14.255702789201939$) превышает критическое значение ($\\chi^2 = 4.605170185988092$), то мы отвергаем нулевую гипотезу $H_0$ и принимаем альтернативную гипотезу $H_1$. Это означает, что закон распределения генеральной совокупности не является нормальным."
      ],
      "text/plain": [
       "<IPython.core.display.Markdown object>"
      ]
     },
     "metadata": {},
     "output_type": "display_data"
    }
   ],
   "source": [
    "from IPython.display import Markdown, display\n",
    "\n",
    "display(Markdown(\"## Вывод\"))\n",
    "display(Markdown(f\"Таблица распределения хи-квадрат ($\\chi^2$) со степенями свободы {df} и уровнем значимости {alpha_1} даёт критическое значение $\\chi^2 = {chi2_critical}$.\"))\n",
    "display(Markdown(f\"Так как вычисленное значение статистики критерия Пирсона ($\\chi^2 = {chi2_value}$) превышает критическое значение ($\\chi^2 = {chi2_critical}$), то мы отвергаем нулевую гипотезу $H_0$ и принимаем альтернативную гипотезу $H_1$. Это означает, что закон распределения генеральной совокупности не является нормальным.\"))"
   ]
  },
  {
   "cell_type": "markdown",
   "metadata": {},
   "source": [
    "## Шаг 8: Доверительные интервалы "
   ]
  },
  {
   "cell_type": "markdown",
   "metadata": {},
   "source": [
    "Доверительный интверал для мат. ожидания."
   ]
  },
  {
   "cell_type": "code",
   "execution_count": 63,
   "metadata": {},
   "outputs": [
    {
     "data": {
      "text/markdown": [
       "Таким образом с вероятностью 0.9 можно утверждать, что можно утверждать, что мат. ожидание лежит в интервал (42.34189529652223, 56.62953327490634)"
      ],
      "text/plain": [
       "<IPython.core.display.Markdown object>"
      ]
     },
     "metadata": {},
     "output_type": "display_data"
    },
    {
     "data": {
      "text/markdown": [
       "Таким образом с вероятностью 0.95 можно утверждать, что можно утверждать, что мат. ожидание лежит в интервал (42.34189529652223, 56.62953327490634)"
      ],
      "text/plain": [
       "<IPython.core.display.Markdown object>"
      ]
     },
     "metadata": {},
     "output_type": "display_data"
    },
    {
     "data": {
      "text/markdown": [
       "Таким образом с вероятностью 0.99 можно утверждать, что можно утверждать, что мат. ожидание лежит в интервал (42.34189529652223, 56.62953327490634)"
      ],
      "text/plain": [
       "<IPython.core.display.Markdown object>"
      ]
     },
     "metadata": {},
     "output_type": "display_data"
    }
   ],
   "source": [
    "def calc_confidence_interval_mean(alpha, mean):\n",
    "    x_gamma = st.norm.ppf(1 - alpha/2)\n",
    "    delta = (x_gamma * std) / np.sqrt(n)\n",
    "    return (mean - delta, mean + delta)\n",
    "\n",
    "for a in [alpha_1, alpha_2, alpha_3]:\n",
    "    display(Markdown(f\"Таким образом с вероятностью {1 - a} можно утверждать, что можно утверждать, что мат. ожидание лежит в интервал {calc_confidence_interval_mean(alpha_1, mean)}\"))"
   ]
  },
  {
   "cell_type": "markdown",
   "metadata": {},
   "source": [
    "Чем меньше уровень значимости тем шире доверительный интервал.\n"
   ]
  },
  {
   "cell_type": "markdown",
   "metadata": {},
   "source": [
    "Доверительный интервал для стандартного отклонения."
   ]
  },
  {
   "cell_type": "code",
   "execution_count": 76,
   "metadata": {},
   "outputs": [
    {
     "data": {
      "text/markdown": [
       "Таким образом с вероятностью 0.9 можно утверждать, что стандартное отклонение генеральной совокупности лежит в интервале (21.49057095433622, 32.18878088323685)"
      ],
      "text/plain": [
       "<IPython.core.display.Markdown object>"
      ]
     },
     "metadata": {},
     "output_type": "display_data"
    },
    {
     "data": {
      "text/markdown": [
       "Таким образом с вероятностью 0.95 можно утверждать, что стандартное отклонение генеральной совокупности лежит в интервале (20.783421302089437, 33.6647586477339)"
      ],
      "text/plain": [
       "<IPython.core.display.Markdown object>"
      ]
     },
     "metadata": {},
     "output_type": "display_data"
    },
    {
     "data": {
      "text/markdown": [
       "Таким образом с вероятностью 0.99 можно утверждать, что стандартное отклонение генеральной совокупности лежит в интервале (19.511177054199333, 36.88229591213995)"
      ],
      "text/plain": [
       "<IPython.core.display.Markdown object>"
      ]
     },
     "metadata": {},
     "output_type": "display_data"
    }
   ],
   "source": [
    "def calc_confidence_interval_std(alpha, std):\n",
    "    chi2_left = np.sqrt(st.chi2.ppf((2 - alpha)/2, n - 1))\n",
    "    chi2_right = np.sqrt(st.chi2.ppf(alpha/2, n - 1))\n",
    "    return (std * np.sqrt(n - 1))/chi2_left, (std * np.sqrt(n - 1))/chi2_right\n",
    "    \n",
    "for a in [alpha_1, alpha_2, alpha_3]:\n",
    "    display(Markdown(f\"Таким образом с вероятностью {1 - a} можно утверждать, что стандартное отклонение генеральной совокупности лежит в интервале {calc_confidence_interval_std(a, std)}\"))"
   ]
  }
 ],
 "metadata": {
  "kernelspec": {
   "display_name": "Python 3",
   "language": "python",
   "name": "python3"
  },
  "language_info": {
   "codemirror_mode": {
    "name": "ipython",
    "version": 3
   },
   "file_extension": ".py",
   "mimetype": "text/x-python",
   "name": "python",
   "nbconvert_exporter": "python",
   "pygments_lexer": "ipython3",
   "version": "3.11.4"
  }
 },
 "nbformat": 4,
 "nbformat_minor": 0
}
