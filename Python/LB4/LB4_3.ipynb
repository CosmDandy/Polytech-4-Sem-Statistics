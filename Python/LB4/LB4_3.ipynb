{
 "cells": [
  {
   "cell_type": "code",
   "execution_count": 32,
   "metadata": {
    "ExecuteTime": {
     "end_time": "2023-05-04T12:55:02.981642Z",
     "start_time": "2023-05-04T12:55:02.978099Z"
    },
    "collapsed": false
   },
   "outputs": [],
   "source": [
    "import pandas as pd\n",
    "import scipy.stats as st\n",
    "import numpy as np\n",
    "from IPython.display import Markdown, display"
   ]
  },
  {
   "cell_type": "markdown",
   "metadata": {
    "collapsed": false
   },
   "source": [
    "# Лабораторная работа №4\n",
    "## Задание 3\n",
    "### {Фамилия Имя}, {Номер группы}, Вариант {Номер варианта}, ({Дата})"
   ]
  },
  {
   "cell_type": "markdown",
   "metadata": {
    "collapsed": false
   },
   "source": [
    "## Задача и данные"
   ]
  },
  {
   "cell_type": "markdown",
   "metadata": {
    "collapsed": false
   },
   "source": [
    "По данным двух выборок нормального закона распределения (первая – с дисперсией $S_1^2$, вторая – с дисперсией $S_2^2$ проверить гипотезу о равенстве средних значений при уровне значимости α (при конкурирующей гипотезе об их неравенстве).\n",
    "\n",
    "В ответе привести:\n",
    "1) выборочное среднее для первой выборки;\n",
    "2) выборочное среднее для второй выборки;\n",
    "3) вычисленное значение критерия;\n",
    "4) критическое значение;\n",
    "5) вывод о принятии или не принятии гипотезы"
   ]
  },
  {
   "cell_type": "code",
   "execution_count": 7,
   "metadata": {
    "ExecuteTime": {
     "end_time": "2023-05-04T12:55:03.641895Z",
     "start_time": "2023-05-04T12:55:03.637123Z"
    },
    "collapsed": false
   },
   "outputs": [
    {
     "name": "stdout",
     "output_type": "stream",
     "text": [
      "Уровень значимости: 0.1\n"
     ]
    }
   ],
   "source": [
    "x = pd.Series([124.1, 82.5, 69, 85.4, 32.4, 77.7, 78.2, 96.6, 39.6, 34.2, 67.8, 35.1, 30.9, 69.6, 101, 61.6, \n",
    "                115.1, 39.2, 66.6, 92.3, 53, 95.3, 55.5, 92.2, 66.1, 57.2, 29.5, 68.2, 40.5, 54, 40.4, 72, \n",
    "                69.2, 35.2, 98.5, 26.9, 47, 106.4, 50.2, 46.2, 88.4, 56.6, 45.4, 69.3, 63.5, 42.6, 66, 80.1, \n",
    "                66.4, 92, 60.9, 75.7, 109.2, 47.1, 64.5, 93.3, 49.4, 65.9, 98.7, 46.2, 24.2, 50.5, 92.4, 75.1, \n",
    "                112, 14.6, 41, 59.5, 59.7, 44.9, 108.7, 68.8, 49.9, 44.4, 48.2, 48.3, 87.9, 59.5, 67.8, 62.7, \n",
    "                61.5, 40.7, 68.1, 65.1, 59.6, 77.3, 77, 74, 99.4, 67.2, 76.9, 99.9, 29, 18.3, 56.5, 81.8, 28.3, \n",
    "                66.7, 63.1], name=\"X\")\n",
    "y = pd.Series([65.3, 67.8, 91.3, 87.9, 58.2, 124.8, 37.1, 86.1, 53.6, 59.4, 94.4, 79.7, 73.1, 18.5, 54.7, 107, \n",
    "                78, 70.2, 99.7, 117.4, 97, 82.8, 68.3, 98.3, 42.1, 76.9, 71.2, 54.4, 98.5, 103.8, 119.6, 47.1, \n",
    "                91.8, 99.1, 90.8, 36.4, 64.3, 72.6, 81.1, 120.5, 79.2, 99.4, 96.3, 77.4, 148.4, 85.6, 92.8, \n",
    "                104.3, 61.4, 83.5, 43.1, 97, 111.4, 169.8, 88.1, 52, 138.4, 49.9, 79.3, 45.2, 18.6, 108.2, 142.9, \n",
    "                22.3, 79, 39.9, 146.6, 76.9, 65.4, 125.8, 27, 54.4, 43.7, 88, 54.7, 115.8, 66.1, 78.8, 76.6, 55.8, \n",
    "                61.8, 47.1, 80.3, 90.9, 52.5, 16.2, 35, 89.4, 30.5, 87, 94.1, 73.6, 99.2, 66.9, 62.3, 85.8, 64.6, \n",
    "                96.4, 22], name=\"Y\")\n",
    "n_x = len(x)\n",
    "n_y = len(y)\n",
    "a = 0.1\n",
    "\n",
    "print(f'Уровень значимости: {a}')"
   ]
  },
  {
   "cell_type": "markdown",
   "metadata": {
    "collapsed": false
   },
   "source": [
    "### Количество элементов в выборках:"
   ]
  },
  {
   "cell_type": "code",
   "execution_count": 8,
   "metadata": {
    "ExecuteTime": {
     "end_time": "2023-05-04T12:55:05.116492Z",
     "start_time": "2023-05-04T12:55:05.112476Z"
    },
    "collapsed": false
   },
   "outputs": [
    {
     "name": "stdout",
     "output_type": "stream",
     "text": [
      "Количество элементов в первой выборке: 99\n"
     ]
    }
   ],
   "source": [
    "print(f'Количество элементов в первой выборке: {n_x}')"
   ]
  },
  {
   "cell_type": "code",
   "execution_count": 9,
   "metadata": {
    "ExecuteTime": {
     "end_time": "2023-05-04T12:55:05.537283Z",
     "start_time": "2023-05-04T12:55:05.533931Z"
    },
    "collapsed": false
   },
   "outputs": [
    {
     "name": "stdout",
     "output_type": "stream",
     "text": [
      "Количество элементов во второй выборке: 99\n"
     ]
    }
   ],
   "source": [
    "print(f'Количество элементов во второй выборке: {n_y}')"
   ]
  },
  {
   "cell_type": "markdown",
   "metadata": {
    "collapsed": false
   },
   "source": [
    "### Выборки:"
   ]
  },
  {
   "cell_type": "markdown",
   "metadata": {
    "collapsed": false
   },
   "source": [
    "#### Первая выборка:"
   ]
  },
  {
   "cell_type": "code",
   "execution_count": 12,
   "metadata": {
    "ExecuteTime": {
     "end_time": "2023-05-04T12:55:07.731794Z",
     "start_time": "2023-05-04T12:55:07.727960Z"
    },
    "collapsed": false
   },
   "outputs": [
    {
     "data": {
      "text/plain": [
       "0     124.1\n",
       "1      82.5\n",
       "2      69.0\n",
       "3      85.4\n",
       "4      32.4\n",
       "      ...  \n",
       "94     56.5\n",
       "95     81.8\n",
       "96     28.3\n",
       "97     66.7\n",
       "98     63.1\n",
       "Name: X, Length: 99, dtype: float64"
      ]
     },
     "execution_count": 12,
     "metadata": {},
     "output_type": "execute_result"
    }
   ],
   "source": [
    "x"
   ]
  },
  {
   "cell_type": "markdown",
   "metadata": {
    "collapsed": false
   },
   "source": [
    "#### Вторая выборка:"
   ]
  },
  {
   "cell_type": "code",
   "execution_count": 13,
   "metadata": {
    "ExecuteTime": {
     "end_time": "2023-05-04T12:55:08.504100Z",
     "start_time": "2023-05-04T12:55:08.500232Z"
    },
    "collapsed": false
   },
   "outputs": [
    {
     "data": {
      "text/plain": [
       "0     65.3\n",
       "1     67.8\n",
       "2     91.3\n",
       "3     87.9\n",
       "4     58.2\n",
       "      ... \n",
       "94    62.3\n",
       "95    85.8\n",
       "96    64.6\n",
       "97    96.4\n",
       "98    22.0\n",
       "Name: Y, Length: 99, dtype: float64"
      ]
     },
     "execution_count": 13,
     "metadata": {},
     "output_type": "execute_result"
    }
   ],
   "source": [
    "y"
   ]
  },
  {
   "cell_type": "markdown",
   "metadata": {
    "collapsed": false
   },
   "source": [
    "## Проверка гипотезы о равенстве генеральных средних\n",
    "\n",
    "$$\n",
    "H_0: \\mu_x = \\mu_y \\\\\n",
    "H_1: \\mu_x \\neq \\mu_y\n",
    "$$"
   ]
  },
  {
   "cell_type": "markdown",
   "metadata": {
    "collapsed": false
   },
   "source": [
    "### Вычисление выборочных средних:\n",
    "\n",
    "$$\n",
    "\\overline{x} = \\frac{1}{n_x} \\sum_{i = 1}^{n_x} x_i, \\quad \\overline{y} = \\frac{1}{n_y} \\sum_{i = 1}^{n_y} y_i\n",
    "$$"
   ]
  },
  {
   "cell_type": "code",
   "execution_count": 14,
   "metadata": {
    "ExecuteTime": {
     "end_time": "2023-05-04T12:55:11.570245Z",
     "start_time": "2023-05-04T12:55:11.565512Z"
    },
    "collapsed": false
   },
   "outputs": [
    {
     "name": "stdout",
     "output_type": "stream",
     "text": [
      "Выборочное среднее первой выборки: 64.78888888888889\n"
     ]
    }
   ],
   "source": [
    "x_mean = x.mean()\n",
    "print(f'Выборочное среднее первой выборки: {x_mean}')"
   ]
  },
  {
   "cell_type": "code",
   "execution_count": 15,
   "metadata": {
    "ExecuteTime": {
     "end_time": "2023-05-04T12:55:12.279344Z",
     "start_time": "2023-05-04T12:55:12.275652Z"
    },
    "collapsed": false
   },
   "outputs": [
    {
     "name": "stdout",
     "output_type": "stream",
     "text": [
      "Выборочное среднее второй выборки: 77.63030303030303\n"
     ]
    }
   ],
   "source": [
    "y_mean = y.mean()\n",
    "print(f'Выборочное среднее второй выборки: {y_mean}')"
   ]
  },
  {
   "cell_type": "markdown",
   "metadata": {
    "collapsed": false
   },
   "source": [
    "### Вычисление дисперсий выборок:\n",
    "\n",
    "$$\n",
    "\\sigma^2_x = \\frac{1}{n_x} \\sum_{i = 1}^{n_x} (x_i - \\overline{x})^2, \\quad \\sigma^2_y = \\frac{1}{n_y} \\sum_{i = 1}^{n_y} (y_i - \\overline{y})^2\n",
    "$$"
   ]
  },
  {
   "cell_type": "code",
   "execution_count": 22,
   "metadata": {
    "ExecuteTime": {
     "end_time": "2023-05-04T12:55:14.440398Z",
     "start_time": "2023-05-04T12:55:14.436079Z"
    },
    "collapsed": false
   },
   "outputs": [
    {
     "name": "stdout",
     "output_type": "stream",
     "text": [
      "Дисперсия первой выборки: 557.3467120181406\n"
     ]
    }
   ],
   "source": [
    "x_var = x.var()\n",
    "print(f'Дисперсия первой выборки: {x_var}')"
   ]
  },
  {
   "cell_type": "code",
   "execution_count": 23,
   "metadata": {
    "ExecuteTime": {
     "end_time": "2023-05-04T12:55:14.798824Z",
     "start_time": "2023-05-04T12:55:14.795272Z"
    },
    "collapsed": false
   },
   "outputs": [
    {
     "name": "stdout",
     "output_type": "stream",
     "text": [
      "Дисперсия второй выборки: 928.972745825603\n"
     ]
    }
   ],
   "source": [
    "y_var = y.var()\n",
    "print(f'Дисперсия второй выборки: {y_var}')"
   ]
  },
  {
   "cell_type": "markdown",
   "metadata": {
    "collapsed": false
   },
   "source": [
    "### Вычисление Z:\n",
    "\n",
    "$$\n",
    "Z = \\frac{\\overline{x} - \\overline{y}}{\\sqrt{\\frac{\\sigma_x^2}{n_x} + \\frac{\\sigma_y^2}{n_y}}}\n",
    "$$"
   ]
  },
  {
   "cell_type": "code",
   "execution_count": 25,
   "metadata": {
    "ExecuteTime": {
     "end_time": "2023-05-04T12:55:31.074707Z",
     "start_time": "2023-05-04T12:55:31.070876Z"
    },
    "collapsed": false
   },
   "outputs": [
    {
     "name": "stdout",
     "output_type": "stream",
     "text": [
      "Вычисленное значение критерия: -3.3141668429483055\n"
     ]
    }
   ],
   "source": [
    "z = (x_mean - y_mean) / ((x_var / n_x + y_var / n_y) ** 0.5)\n",
    "print(f'Вычисленное значение критерия: {z}')"
   ]
  },
  {
   "cell_type": "markdown",
   "metadata": {
    "collapsed": false
   },
   "source": [
    "### Вычисление табличного Z"
   ]
  },
  {
   "cell_type": "code",
   "execution_count": 30,
   "metadata": {
    "ExecuteTime": {
     "end_time": "2023-05-04T12:55:34.290015Z",
     "start_time": "2023-05-04T12:55:34.287527Z"
    },
    "collapsed": false
   },
   "outputs": [
    {
     "name": "stdout",
     "output_type": "stream",
     "text": [
      "Табличное значение критерия: 1.6448536269514722\n"
     ]
    }
   ],
   "source": [
    "z_critical = st.norm.ppf(1 - a/2)\n",
    "print(f'Табличное значение критерия: {z_critical}')"
   ]
  },
  {
   "cell_type": "markdown",
   "metadata": {
    "collapsed": false
   },
   "source": [
    "## Вывод о принятии или не принятии гипотезы"
   ]
  },
  {
   "cell_type": "code",
   "execution_count": 36,
   "metadata": {
    "ExecuteTime": {
     "end_time": "2023-05-04T12:55:37.001765Z",
     "start_time": "2023-05-04T12:55:36.998266Z"
    },
    "collapsed": false
   },
   "outputs": [
    {
     "data": {
      "text/markdown": [
       "Гипотеза о равенстве дисперсий отвергается (H0), принимается альтернативная гипотеза (H1), $Z_{кр}<Z$"
      ],
      "text/plain": [
       "<IPython.core.display.Markdown object>"
      ]
     },
     "metadata": {},
     "output_type": "display_data"
    }
   ],
   "source": [
    "if abs(z) < z_critical:\n",
    "    display(Markdown('Гипотеза о равенстве дисперсий принимается (H0), $Z_{кр}>Z$'))\n",
    "else:\n",
    "    display(Markdown('Гипотеза о равенстве дисперсий отвергается (H0), принимается альтернативная гипотеза (H1), $Z_{кр}<Z$'))"
   ]
  }
 ],
 "metadata": {
  "kernelspec": {
   "display_name": "Python 3",
   "language": "python",
   "name": "python3"
  },
  "language_info": {
   "codemirror_mode": {
    "name": "ipython",
    "version": 3
   },
   "file_extension": ".py",
   "mimetype": "text/x-python",
   "name": "python",
   "nbconvert_exporter": "python",
   "pygments_lexer": "ipython3",
   "version": "3.11.4"
  }
 },
 "nbformat": 4,
 "nbformat_minor": 0
}
