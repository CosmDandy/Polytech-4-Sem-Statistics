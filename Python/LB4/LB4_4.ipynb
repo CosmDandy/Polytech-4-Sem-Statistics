{
 "cells": [
  {
   "cell_type": "code",
   "execution_count": 1,
   "metadata": {
    "ExecuteTime": {
     "end_time": "2023-05-04T12:55:42.323930Z",
     "start_time": "2023-05-04T12:55:42.319374Z"
    },
    "collapsed": false
   },
   "outputs": [],
   "source": [
    "import pandas as pd\n",
    "import scipy.stats as st\n",
    "import numpy as np\n",
    "from IPython.display import Markdown, display"
   ]
  },
  {
   "cell_type": "markdown",
   "metadata": {
    "collapsed": false
   },
   "source": [
    "# Лабораторная работа №4\n",
    "## Задание 4\n",
    "### {Фамилия Имя}, {Номер группы}, Вариант {Номер варианта}, ({Дата})"
   ]
  },
  {
   "cell_type": "markdown",
   "metadata": {
    "collapsed": false
   },
   "source": [
    "## Задача и данные"
   ]
  },
  {
   "cell_type": "markdown",
   "metadata": {
    "collapsed": false
   },
   "source": [
    "При проведении $n_1$ испытаний в первой серии число благоприятных исходов равнялось $m_1$. Во второй серии из $n_2$ испытаний число благоприятных исходов равнялось $m_2$. Проверить гипотезу о равенстве вероятностей благоприятного исхода в двух сериях (при конкурирующей гипотезе об их неравенстве) при уровне значимости $α$.\n",
    "\n",
    "В ответе привести:\n",
    "1) вычисленное значение критерия;\n",
    "2) критическое значение;\n",
    "3) вывод о принятии или не принятии гипотезы."
   ]
  },
  {
   "cell_type": "code",
   "execution_count": 8,
   "metadata": {
    "ExecuteTime": {
     "end_time": "2023-05-04T12:55:43.522754Z",
     "start_time": "2023-05-04T12:55:43.518654Z"
    },
    "collapsed": false
   },
   "outputs": [
    {
     "data": {
      "text/markdown": [
       "- Уровень значимости: a = 0.01,\n",
       "- Количество испытаний в первой серии: n1 = 500,\n",
       "- Количество благоприятных исходов в первой серии: m1 = 327,\n",
       "- Количество испытаний во второй серии: n2 = 700,\n",
       "- Количество благоприятных исходов во второй серии: m2 = 403"
      ],
      "text/plain": [
       "<IPython.core.display.Markdown object>"
      ]
     },
     "execution_count": 8,
     "metadata": {},
     "output_type": "execute_result"
    }
   ],
   "source": [
    "a = 0.01\n",
    "n1 = 500\n",
    "m1 = 327\n",
    "n2 = 700\n",
    "m2 = 403\n",
    "Markdown(f'- Уровень значимости: a = {a},\\n- Количество испытаний в первой серии: n1 = {n1},\\n- Количество благоприятных исходов в первой серии: m1 = {m1},\\n- Количество испытаний во второй серии: n2 = {n2},\\n- Количество благоприятных исходов во второй серии: m2 = {m2}')"
   ]
  },
  {
   "cell_type": "markdown",
   "metadata": {
    "collapsed": false
   },
   "source": [
    "## Проверка гипотезы о равенстве вероятностей благоприятного исхода в двух сериях\n",
    "\n",
    "$$\n",
    "H_0: p_1 = p_2 \\\\\n",
    "H_1: p_1 \\neq p_2\n",
    "$$"
   ]
  },
  {
   "cell_type": "markdown",
   "metadata": {
    "collapsed": false
   },
   "source": [
    "### Вычисление вероятностей\n",
    "\n",
    "$$\n",
    "W_1 = \\frac{m_1}{n_1}\n",
    "$$"
   ]
  },
  {
   "cell_type": "code",
   "execution_count": 10,
   "metadata": {
    "ExecuteTime": {
     "end_time": "2023-05-04T12:55:48.056895Z",
     "start_time": "2023-05-04T12:55:48.054503Z"
    },
    "collapsed": false
   },
   "outputs": [
    {
     "data": {
      "text/markdown": [
       "Вероятность благоприятного исхода в первой серии: $W_1 = 0.654$"
      ],
      "text/plain": [
       "<IPython.core.display.Markdown object>"
      ]
     },
     "execution_count": 10,
     "metadata": {},
     "output_type": "execute_result"
    }
   ],
   "source": [
    "w1 = m1 / n1\n",
    "Markdown(f'Вероятность благоприятного исхода в первой серии: $W_1 = {w1}$')"
   ]
  },
  {
   "cell_type": "markdown",
   "metadata": {
    "collapsed": false
   },
   "source": [
    "$$\n",
    "W_2 = \\frac{m_2}{n_2}\n",
    "$$"
   ]
  },
  {
   "cell_type": "code",
   "execution_count": 12,
   "metadata": {
    "ExecuteTime": {
     "end_time": "2023-05-04T12:55:55.114241Z",
     "start_time": "2023-05-04T12:55:55.111417Z"
    },
    "collapsed": false
   },
   "outputs": [
    {
     "data": {
      "text/markdown": [
       "Вероятность благоприятного исхода в первой серии: $W_2 = 0.5757142857142857$"
      ],
      "text/plain": [
       "<IPython.core.display.Markdown object>"
      ]
     },
     "execution_count": 12,
     "metadata": {},
     "output_type": "execute_result"
    }
   ],
   "source": [
    "w2 = m2 / n2\n",
    "Markdown(f'Вероятность благоприятного исхода в первой серии: $W_2 = {w2}$')"
   ]
  },
  {
   "cell_type": "markdown",
   "metadata": {
    "collapsed": false
   },
   "source": [
    "$$\n",
    "p = \\frac{m_1 + m_2}{n_1 + n_2}\n",
    "$$"
   ]
  },
  {
   "cell_type": "code",
   "execution_count": 14,
   "metadata": {
    "ExecuteTime": {
     "end_time": "2023-05-04T12:55:56.042977Z",
     "start_time": "2023-05-04T12:55:56.040563Z"
    },
    "collapsed": false
   },
   "outputs": [
    {
     "data": {
      "text/markdown": [
       "Вероятность благоприятного исхода в обеих сериях: $p = 0.6083333333333333$"
      ],
      "text/plain": [
       "<IPython.core.display.Markdown object>"
      ]
     },
     "execution_count": 14,
     "metadata": {},
     "output_type": "execute_result"
    }
   ],
   "source": [
    "p = (m1 + m2) / (n1 + n2)\n",
    "Markdown(f'Вероятность благоприятного исхода в обеих сериях: $p = {p}$')"
   ]
  },
  {
   "cell_type": "markdown",
   "metadata": {
    "collapsed": false
   },
   "source": [
    "### Вычисление критерия\n",
    "\n",
    "$$\n",
    "z = \\frac{W_1 - W_2}{\\sqrt{p(1 - p)(\\frac{1}{n_1} + \\frac{1}{n_2})}}\n",
    "$$"
   ]
  },
  {
   "cell_type": "code",
   "execution_count": 15,
   "metadata": {
    "ExecuteTime": {
     "end_time": "2023-05-04T12:55:58.093022Z",
     "start_time": "2023-05-04T12:55:58.090568Z"
    },
    "collapsed": false
   },
   "outputs": [
    {
     "name": "stdout",
     "output_type": "stream",
     "text": [
      "Вычисленное значение критерия: 2.739030098563068\n"
     ]
    }
   ],
   "source": [
    "z = (w1 - w2) / np.sqrt(p * (1 - p) * (1 / n1 + 1 / n2))\n",
    "print(f'Вычисленное значение критерия: {z}')"
   ]
  },
  {
   "cell_type": "markdown",
   "metadata": {
    "collapsed": false
   },
   "source": [
    "### Табличное значение критерия\n",
    "\n",
    "$$\n",
    "z_t = \\Phi^{-1}(1 - \\frac{a}{2})\n",
    "$$"
   ]
  },
  {
   "cell_type": "code",
   "execution_count": 17,
   "metadata": {
    "ExecuteTime": {
     "end_time": "2023-05-04T12:56:00.446535Z",
     "start_time": "2023-05-04T12:56:00.442748Z"
    },
    "collapsed": false
   },
   "outputs": [
    {
     "name": "stdout",
     "output_type": "stream",
     "text": [
      "Табличное значение критерия: 2.5758293035489004\n"
     ]
    }
   ],
   "source": [
    "z_critical = st.norm.ppf(1 - a / 2)\n",
    "print(f'Табличное значение критерия: {z_critical}')"
   ]
  },
  {
   "cell_type": "markdown",
   "metadata": {
    "collapsed": false
   },
   "source": [
    "## Вывод о принятии или не принятии гипотезы"
   ]
  },
  {
   "cell_type": "code",
   "execution_count": 19,
   "metadata": {
    "ExecuteTime": {
     "end_time": "2023-05-04T12:56:02.468393Z",
     "start_time": "2023-05-04T12:56:02.465905Z"
    },
    "collapsed": false
   },
   "outputs": [
    {
     "data": {
      "text/markdown": [
       "Отвергаем гипотезу о равенстве вероятностей благоприятного исхода в двух сериях (H0), принимаем гипотезу о неравенстве вероятностей благоприятного исхода в двух сериях (H1)"
      ],
      "text/plain": [
       "<IPython.core.display.Markdown object>"
      ]
     },
     "metadata": {},
     "output_type": "display_data"
    }
   ],
   "source": [
    "if np.abs(z) < z_critical:\n",
    "    display(Markdown('Принимаем гипотезу о равенстве вероятностей благоприятного исхода в двух сериях (H0)'))\n",
    "else:\n",
    "    display(Markdown('Отвергаем гипотезу о равенстве вероятностей благоприятного исхода в двух сериях (H0), принимаем гипотезу о неравенстве вероятностей благоприятного исхода в двух сериях (H1)'))"
   ]
  }
 ],
 "metadata": {
  "kernelspec": {
   "display_name": "Python 3",
   "language": "python",
   "name": "python3"
  },
  "language_info": {
   "codemirror_mode": {
    "name": "ipython",
    "version": 3
   },
   "file_extension": ".py",
   "mimetype": "text/x-python",
   "name": "python",
   "nbconvert_exporter": "python",
   "pygments_lexer": "ipython3",
   "version": "3.11.4"
  }
 },
 "nbformat": 4,
 "nbformat_minor": 0
}
