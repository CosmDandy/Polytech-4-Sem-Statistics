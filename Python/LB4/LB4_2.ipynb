{
 "cells": [
  {
   "cell_type": "code",
   "execution_count": 1,
   "metadata": {
    "collapsed": false,
    "ExecuteTime": {
     "end_time": "2023-09-08T03:59:52.127946Z",
     "start_time": "2023-09-08T03:59:51.578921Z"
    }
   },
   "outputs": [],
   "source": [
    "import pandas as pd\n",
    "import numpy as np\n",
    "import scipy.stats as st\n",
    "from IPython.display import display, Markdown"
   ]
  },
  {
   "cell_type": "markdown",
   "metadata": {
    "collapsed": false
   },
   "source": [
    "# Лабораторная работа №4\n",
    "## Задание 2\n",
    "### {Фамилия Имя}, {Номер группы}, Вариант {Номер варианта}, ({Дата})"
   ]
  },
  {
   "cell_type": "markdown",
   "metadata": {
    "collapsed": false
   },
   "source": [
    "## Задача и данные"
   ]
  },
  {
   "cell_type": "markdown",
   "metadata": {
    "collapsed": false
   },
   "source": [
    "По данным двух выборок нормального закона распределения проверить гипотезу о равенстве генеральных средних (при конкурирующей гипотезе об их неравенстве) при уровне значимости α = 0,1.\n",
    "\n",
    "В ответе привести:\n",
    "1) выборочное среднее для первой выборки;\n",
    "2) выборочное среднее для второй выборки;\n",
    "3) вычисленное значение критерия;\n",
    "4) табличное значение;\n",
    "5) вывод о принятии или не принятии гипотезы."
   ]
  },
  {
   "cell_type": "code",
   "execution_count": 2,
   "metadata": {
    "collapsed": false,
    "ExecuteTime": {
     "end_time": "2023-09-08T03:59:52.137916Z",
     "start_time": "2023-09-08T03:59:52.134195Z"
    }
   },
   "outputs": [
    {
     "data": {
      "text/plain": "<IPython.core.display.Markdown object>",
      "text/markdown": "Уровень значимости: $0.1$"
     },
     "execution_count": 2,
     "metadata": {},
     "output_type": "execute_result"
    }
   ],
   "source": [
    "x = pd.Series([74.9, 72.2, 110, 29.7, 68.8, 65.2, 70.9, 73.2, 70.7, 65.2, 82.4, 43.8, 60.9])\n",
    "y = pd.Series([57, 84, 22.7,\t45.2, 45.3,\t20.9, 3, 24.2, 71.9, 43.9, 10.3])\n",
    "n_x = len(x)\n",
    "n_y = len(y)\n",
    "a = 0.1\n",
    "\n",
    "Markdown(f'Уровень значимости: ${a}$')"
   ]
  },
  {
   "cell_type": "markdown",
   "metadata": {
    "collapsed": false
   },
   "source": [
    "### Количество элементов в выборках:"
   ]
  },
  {
   "cell_type": "code",
   "execution_count": 3,
   "metadata": {
    "collapsed": false,
    "ExecuteTime": {
     "end_time": "2023-09-08T03:59:52.145582Z",
     "start_time": "2023-09-08T03:59:52.140235Z"
    }
   },
   "outputs": [
    {
     "name": "stdout",
     "output_type": "stream",
     "text": [
      "Количество элементов в первой выборке: 13\n"
     ]
    }
   ],
   "source": [
    "print(f'Количество элементов в первой выборке: {n_x}')"
   ]
  },
  {
   "cell_type": "code",
   "execution_count": 4,
   "metadata": {
    "collapsed": false,
    "ExecuteTime": {
     "end_time": "2023-09-08T03:59:52.230988Z",
     "start_time": "2023-09-08T03:59:52.147308Z"
    }
   },
   "outputs": [
    {
     "name": "stdout",
     "output_type": "stream",
     "text": [
      "Количество элементов во второй выборке: 11\n"
     ]
    }
   ],
   "source": [
    "print(f'Количество элементов во второй выборке: {n_y}')"
   ]
  },
  {
   "cell_type": "markdown",
   "metadata": {
    "collapsed": false
   },
   "source": [
    "### Выборки:"
   ]
  },
  {
   "cell_type": "markdown",
   "metadata": {
    "collapsed": false
   },
   "source": [
    "#### Первая выборка:"
   ]
  },
  {
   "cell_type": "code",
   "execution_count": 5,
   "metadata": {
    "collapsed": false,
    "ExecuteTime": {
     "end_time": "2023-09-08T03:59:52.257876Z",
     "start_time": "2023-09-08T03:59:52.207079Z"
    }
   },
   "outputs": [
    {
     "data": {
      "text/plain": "0      74.9\n1      72.2\n2     110.0\n3      29.7\n4      68.8\n5      65.2\n6      70.9\n7      73.2\n8      70.7\n9      65.2\n10     82.4\n11     43.8\n12     60.9\ndtype: float64"
     },
     "execution_count": 5,
     "metadata": {},
     "output_type": "execute_result"
    }
   ],
   "source": [
    "x"
   ]
  },
  {
   "cell_type": "markdown",
   "metadata": {
    "collapsed": false
   },
   "source": [
    "#### Вторая выборка:"
   ]
  },
  {
   "cell_type": "code",
   "execution_count": 6,
   "metadata": {
    "collapsed": false,
    "ExecuteTime": {
     "end_time": "2023-09-08T03:59:52.258497Z",
     "start_time": "2023-09-08T03:59:52.218746Z"
    }
   },
   "outputs": [
    {
     "data": {
      "text/plain": "0     57.0\n1     84.0\n2     22.7\n3     45.2\n4     45.3\n5     20.9\n6      3.0\n7     24.2\n8     71.9\n9     43.9\n10    10.3\ndtype: float64"
     },
     "execution_count": 6,
     "metadata": {},
     "output_type": "execute_result"
    }
   ],
   "source": [
    "y"
   ]
  },
  {
   "cell_type": "markdown",
   "metadata": {
    "collapsed": false
   },
   "source": [
    "## Проверка гипотезы о равенстве генеральных средних\n",
    "\n",
    "$$\n",
    "H_0: \\mu_x = \\mu_y \\\\\n",
    "H_1: \\mu_x \\neq \\mu_y\n",
    "$$"
   ]
  },
  {
   "cell_type": "markdown",
   "metadata": {
    "collapsed": false
   },
   "source": [
    "### Вычисление выборочных средних:\n",
    "\n",
    "$$\n",
    "\\overline{x} = \\frac{1}{n_x} \\sum_{i = 1}^{n_x} x_i, \\quad \\overline{y} = \\frac{1}{n_y} \\sum_{i = 1}^{n_y} y_i\n",
    "$$"
   ]
  },
  {
   "cell_type": "code",
   "execution_count": 7,
   "metadata": {
    "collapsed": false,
    "ExecuteTime": {
     "end_time": "2023-09-08T03:59:52.259082Z",
     "start_time": "2023-09-08T03:59:52.227407Z"
    }
   },
   "outputs": [
    {
     "name": "stdout",
     "output_type": "stream",
     "text": [
      "Выборочное среднее первой выборки: 68.30000000000001\n"
     ]
    }
   ],
   "source": [
    "x_mean = x.mean()\n",
    "print(f'Выборочное среднее первой выборки: {x_mean}')"
   ]
  },
  {
   "cell_type": "code",
   "execution_count": 8,
   "metadata": {
    "collapsed": false,
    "ExecuteTime": {
     "end_time": "2023-09-08T03:59:52.259206Z",
     "start_time": "2023-09-08T03:59:52.238186Z"
    }
   },
   "outputs": [
    {
     "name": "stdout",
     "output_type": "stream",
     "text": [
      "Выборочное среднее второй выборки: 38.945454545454545\n"
     ]
    }
   ],
   "source": [
    "y_mean = y.mean()\n",
    "print(f'Выборочное среднее второй выборки: {y_mean}')"
   ]
  },
  {
   "cell_type": "markdown",
   "metadata": {
    "collapsed": false
   },
   "source": [
    "### Вычисление дисперсий выборок:\n",
    "\n",
    "$$S^2 = \\frac{(n_x - 1)S^2_x + (n_y - 1)S^2_y}{n_x + n_y - 2}$$"
   ]
  },
  {
   "cell_type": "code",
   "execution_count": 9,
   "metadata": {
    "collapsed": false,
    "ExecuteTime": {
     "end_time": "2023-09-08T03:59:52.259570Z",
     "start_time": "2023-09-08T03:59:52.244077Z"
    }
   },
   "outputs": [
    {
     "data": {
      "text/plain": "<IPython.core.display.Markdown object>",
      "text/markdown": "$S^2 = 443.28773854244935$"
     },
     "execution_count": 9,
     "metadata": {},
     "output_type": "execute_result"
    }
   ],
   "source": [
    "S_pow_2 = ((n_x - 1) * x.var(ddof=0) + (n_y - 1) * y.var(ddof=0))/(n_x + n_y - 2)\n",
    "Markdown(f\"$S^2 = {S_pow_2}$\")"
   ]
  },
  {
   "cell_type": "markdown",
   "metadata": {
    "collapsed": false
   },
   "source": [
    "### Вычисление t-критерия Стьюдента:\n",
    "\n",
    "$$\n",
    "t = \\frac{\\overline{X} - \\overline{Y}}{S\\sqrt{\\frac{1}{n_x} + \\frac{1}{n_y}}}\n",
    "$$"
   ]
  },
  {
   "cell_type": "code",
   "execution_count": 10,
   "metadata": {
    "collapsed": false,
    "ExecuteTime": {
     "end_time": "2023-09-08T03:59:52.319072Z",
     "start_time": "2023-09-08T03:59:52.251576Z"
    }
   },
   "outputs": [
    {
     "name": "stdout",
     "output_type": "stream",
     "text": [
      "Вычисленное значение критерия: 3.4032581901981716\n"
     ]
    }
   ],
   "source": [
    "t_r = (x_mean - y_mean) / ((S_pow_2 * (1 / n_x + 1 / n_y) ) ** 0.5)\n",
    "print(f'Вычисленное значение критерия: {t_r}')"
   ]
  },
  {
   "cell_type": "markdown",
   "metadata": {
    "collapsed": false
   },
   "source": [
    "### Вычисление табличного t-криетрия Стьюдента:\n",
    "\n",
    "$$\n",
    "t_{кр} = t_{1 - \\frac{\\alpha}{2}, n_x + n_y - 2}\n",
    "$$"
   ]
  },
  {
   "cell_type": "code",
   "execution_count": 11,
   "metadata": {
    "collapsed": false,
    "ExecuteTime": {
     "end_time": "2023-09-08T03:59:52.321425Z",
     "start_time": "2023-09-08T03:59:52.256725Z"
    }
   },
   "outputs": [
    {
     "name": "stdout",
     "output_type": "stream",
     "text": [
      "Табличное значение критерия: 1.717144374380242\n"
     ]
    }
   ],
   "source": [
    "t_t = st.t.ppf(1 - a / 2, n_x + n_y - 2)\n",
    "print(f'Табличное значение критерия: {t_t}')"
   ]
  },
  {
   "cell_type": "markdown",
   "metadata": {
    "collapsed": false
   },
   "source": [
    "## Вывод о принятии или не принятии гипотезы"
   ]
  },
  {
   "cell_type": "code",
   "execution_count": 12,
   "metadata": {
    "collapsed": false,
    "ExecuteTime": {
     "end_time": "2023-09-08T03:59:52.321987Z",
     "start_time": "2023-09-08T03:59:52.266210Z"
    }
   },
   "outputs": [
    {
     "data": {
      "text/plain": "<IPython.core.display.Markdown object>",
      "text/markdown": "Гипотеза о равенстве дисперсий отвергается ($H_0$), принимается альтернативная гипотеза ($H_1$), т.к. $|t| > t_{кр}$"
     },
     "metadata": {},
     "output_type": "display_data"
    }
   ],
   "source": [
    "if abs(t_r) < t_t:\n",
    "    display(Markdown('Гипотеза о равенстве дисперсий принимается ($H_0$)'))\n",
    "else:\n",
    "    display(Markdown('Гипотеза о равенстве дисперсий отвергается ($H_0$), принимается альтернативная гипотеза ($H_1$), т.к. $|t| > t_{кр}$'))"
   ]
  }
 ],
 "metadata": {
  "kernelspec": {
   "display_name": "Python 3",
   "language": "python",
   "name": "python3"
  },
  "language_info": {
   "codemirror_mode": {
    "name": "ipython",
    "version": 3
   },
   "file_extension": ".py",
   "mimetype": "text/x-python",
   "name": "python",
   "nbconvert_exporter": "python",
   "pygments_lexer": "ipython3",
   "version": "3.9.12"
  }
 },
 "nbformat": 4,
 "nbformat_minor": 0
}
