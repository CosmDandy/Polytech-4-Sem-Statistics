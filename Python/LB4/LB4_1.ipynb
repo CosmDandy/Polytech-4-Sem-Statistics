{
 "cells": [
  {
   "cell_type": "code",
   "execution_count": 90,
   "outputs": [],
   "source": [
    "import pandas as pd\n",
    "from scipy.stats import f"
   ],
   "metadata": {
    "collapsed": false,
    "ExecuteTime": {
     "start_time": "2023-05-04T11:34:07.069181Z",
     "end_time": "2023-05-04T11:34:07.118377Z"
    }
   }
  },
  {
   "cell_type": "markdown",
   "source": [
    "# Лабораторная работа №4\n",
    "## Задание 1\n",
    "## Кондрашин Тимофей 211-365 Вариант 37 (04.05.2023)"
   ],
   "metadata": {
    "collapsed": false
   }
  },
  {
   "cell_type": "markdown",
   "source": [
    "## Задача и данные"
   ],
   "metadata": {
    "collapsed": false
   }
  },
  {
   "cell_type": "markdown",
   "source": [
    "По двум выборкам нормальных законов распределения проверить гипотезу о равенстве дисперсий (при конкурирующей гипотезе об их неравенстве) при уровне значимости 0,1.\n",
    "\n",
    "Определить:\n",
    "1) дисперсию первой выборки;\n",
    "2) дисперсию второй выборки;\n",
    "3) вычисленное значение критерия;\n",
    "4) теоретическое значение критерия;\n",
    "5) вывод о принятии или не принятии гипотезы.\n"
   ],
   "metadata": {
    "collapsed": false
   }
  },
  {
   "cell_type": "code",
   "execution_count": 104,
   "outputs": [
    {
     "name": "stdout",
     "output_type": "stream",
     "text": [
      "Уровень значимости: 0.1\n"
     ]
    }
   ],
   "source": [
    "x = pd.DataFrame({'X': [39.8, 48.3, 16.9, 28.4, 41.5, 35.9, 36.9, 29.1, 42.5, 41.1, 34.0, 36.4]})\n",
    "y = pd.DataFrame({'Y': [54.6, 36.3, 29.4, 56.4, 36.1, 43.3, 30.1, 60.8, 45.4]})\n",
    "n_x = len(x)\n",
    "n_y = len(y)\n",
    "a = 0.1\n",
    "\n",
    "print(f'Уровень значимости: {a}')"
   ],
   "metadata": {
    "collapsed": false,
    "ExecuteTime": {
     "start_time": "2023-05-04T12:53:55.114335Z",
     "end_time": "2023-05-04T12:53:55.119431Z"
    }
   }
  },
  {
   "cell_type": "markdown",
   "source": [
    "### Количество элементов в выборках:"
   ],
   "metadata": {
    "collapsed": false
   }
  },
  {
   "cell_type": "code",
   "execution_count": 92,
   "outputs": [
    {
     "name": "stdout",
     "output_type": "stream",
     "text": [
      "Количество элементов в первой выборке: 12\n"
     ]
    }
   ],
   "source": [
    "print(f'Количество элементов в первой выборке: {n_x}')"
   ],
   "metadata": {
    "collapsed": false,
    "ExecuteTime": {
     "start_time": "2023-05-04T11:34:07.086037Z",
     "end_time": "2023-05-04T11:34:07.120094Z"
    }
   }
  },
  {
   "cell_type": "code",
   "execution_count": 93,
   "outputs": [
    {
     "name": "stdout",
     "output_type": "stream",
     "text": [
      "Количество элементов во второй выборке: 9\n"
     ]
    }
   ],
   "source": [
    "print(f'Количество элементов во второй выборке: {n_y}')"
   ],
   "metadata": {
    "collapsed": false,
    "ExecuteTime": {
     "start_time": "2023-05-04T11:34:07.090189Z",
     "end_time": "2023-05-04T11:34:07.120508Z"
    }
   }
  },
  {
   "cell_type": "markdown",
   "source": [
    "### Выборки:"
   ],
   "metadata": {
    "collapsed": false
   }
  },
  {
   "cell_type": "markdown",
   "source": [
    "#### Первая выборка:"
   ],
   "metadata": {
    "collapsed": false
   }
  },
  {
   "cell_type": "code",
   "execution_count": 94,
   "outputs": [
    {
     "data": {
      "text/plain": "     0     1     2     3     4     5     6     7     8     9     10    11\nX  39.8  48.3  16.9  28.4  41.5  35.9  36.9  29.1  42.5  41.1  34.0  36.4",
      "text/html": "<div>\n<style scoped>\n    .dataframe tbody tr th:only-of-type {\n        vertical-align: middle;\n    }\n\n    .dataframe tbody tr th {\n        vertical-align: top;\n    }\n\n    .dataframe thead th {\n        text-align: right;\n    }\n</style>\n<table border=\"1\" class=\"dataframe\">\n  <thead>\n    <tr style=\"text-align: right;\">\n      <th></th>\n      <th>0</th>\n      <th>1</th>\n      <th>2</th>\n      <th>3</th>\n      <th>4</th>\n      <th>5</th>\n      <th>6</th>\n      <th>7</th>\n      <th>8</th>\n      <th>9</th>\n      <th>10</th>\n      <th>11</th>\n    </tr>\n  </thead>\n  <tbody>\n    <tr>\n      <th>X</th>\n      <td>39.8</td>\n      <td>48.3</td>\n      <td>16.9</td>\n      <td>28.4</td>\n      <td>41.5</td>\n      <td>35.9</td>\n      <td>36.9</td>\n      <td>29.1</td>\n      <td>42.5</td>\n      <td>41.1</td>\n      <td>34.0</td>\n      <td>36.4</td>\n    </tr>\n  </tbody>\n</table>\n</div>"
     },
     "execution_count": 94,
     "metadata": {},
     "output_type": "execute_result"
    }
   ],
   "source": [
    "x.T"
   ],
   "metadata": {
    "collapsed": false,
    "ExecuteTime": {
     "start_time": "2023-05-04T11:34:07.098952Z",
     "end_time": "2023-05-04T11:34:07.120881Z"
    }
   }
  },
  {
   "cell_type": "markdown",
   "source": [
    "#### Вторая выборка:"
   ],
   "metadata": {
    "collapsed": false
   }
  },
  {
   "cell_type": "code",
   "execution_count": 95,
   "outputs": [
    {
     "data": {
      "text/plain": "      0     1     2     3     4     5     6     7     8\nY  54.6  36.3  29.4  56.4  36.1  43.3  30.1  60.8  45.4",
      "text/html": "<div>\n<style scoped>\n    .dataframe tbody tr th:only-of-type {\n        vertical-align: middle;\n    }\n\n    .dataframe tbody tr th {\n        vertical-align: top;\n    }\n\n    .dataframe thead th {\n        text-align: right;\n    }\n</style>\n<table border=\"1\" class=\"dataframe\">\n  <thead>\n    <tr style=\"text-align: right;\">\n      <th></th>\n      <th>0</th>\n      <th>1</th>\n      <th>2</th>\n      <th>3</th>\n      <th>4</th>\n      <th>5</th>\n      <th>6</th>\n      <th>7</th>\n      <th>8</th>\n    </tr>\n  </thead>\n  <tbody>\n    <tr>\n      <th>Y</th>\n      <td>54.6</td>\n      <td>36.3</td>\n      <td>29.4</td>\n      <td>56.4</td>\n      <td>36.1</td>\n      <td>43.3</td>\n      <td>30.1</td>\n      <td>60.8</td>\n      <td>45.4</td>\n    </tr>\n  </tbody>\n</table>\n</div>"
     },
     "execution_count": 95,
     "metadata": {},
     "output_type": "execute_result"
    }
   ],
   "source": [
    "y.T"
   ],
   "metadata": {
    "collapsed": false,
    "ExecuteTime": {
     "start_time": "2023-05-04T11:34:07.104838Z",
     "end_time": "2023-05-04T11:34:07.121013Z"
    }
   }
  },
  {
   "cell_type": "markdown",
   "source": [
    "## Проверка гипотезы о равенстве дисперсий\n",
    "\n",
    "$$\n",
    "H_0: \\sigma^2_x = \\sigma^2_y \\\\\n",
    "H_1: \\sigma^2_x \\neq \\sigma^2_y\n",
    "$$"
   ],
   "metadata": {
    "collapsed": false
   }
  },
  {
   "cell_type": "markdown",
   "source": [
    "### Расчет дисперсий:\n",
    "\n",
    "$$\n",
    "s^2_x = \\frac{1}{n_x - 1} \\sum_{i=1}^{n_x} (x_i - \\overline{x})^2, \\quad s^2_y = \\frac{1}{n_y - 1} \\sum_{i=1}^{n_y} (y_i - \\overline{y})^2\n",
    "$$"
   ],
   "metadata": {
    "collapsed": false
   }
  },
  {
   "cell_type": "code",
   "execution_count": 101,
   "outputs": [
    {
     "name": "stdout",
     "output_type": "stream",
     "text": [
      "Дисперсия первой выборки: 67.20727272727274\n"
     ]
    }
   ],
   "source": [
    "x_var = x.var()[0]\n",
    "print(f'Дисперсия первой выборки: {x_var}')"
   ],
   "metadata": {
    "collapsed": false,
    "ExecuteTime": {
     "start_time": "2023-05-04T12:52:49.748798Z",
     "end_time": "2023-05-04T12:52:49.752268Z"
    }
   }
  },
  {
   "cell_type": "code",
   "execution_count": 102,
   "outputs": [
    {
     "name": "stdout",
     "output_type": "stream",
     "text": [
      "Дисперсия второй выборки: 134.68\n"
     ]
    }
   ],
   "source": [
    "y_var = y.var()[0]\n",
    "print(f'Дисперсия второй выборки: {y_var}')"
   ],
   "metadata": {
    "collapsed": false,
    "ExecuteTime": {
     "start_time": "2023-05-04T12:52:50.447477Z",
     "end_time": "2023-05-04T12:52:50.450079Z"
    }
   }
  },
  {
   "cell_type": "markdown",
   "source": [
    "### Вычисленное значение критерия Фишера\n",
    "\n",
    "$$\n",
    "F = \\frac{\\sigma^2_x}{\\sigma^2_y} \\text{если } S_x > S_y, \\quad\n",
    "F = \\frac{\\sigma^2_y}{\\sigma^2_x} \\text{если } S_x < S_y\n",
    "$$"
   ],
   "metadata": {
    "collapsed": false
   }
  },
  {
   "cell_type": "code",
   "execution_count": 98,
   "outputs": [
    {
     "name": "stdout",
     "output_type": "stream",
     "text": [
      "Вычисленное значение критерия: 2.003949788983876\n"
     ]
    }
   ],
   "source": [
    "f_r = y_var / x_var\n",
    "print(f'Вычисленное значение критерия: {f_r}')"
   ],
   "metadata": {
    "collapsed": false,
    "ExecuteTime": {
     "start_time": "2023-05-04T11:34:07.117823Z",
     "end_time": "2023-05-04T11:34:07.121684Z"
    }
   }
  },
  {
   "cell_type": "markdown",
   "source": [
    "### Теоретическое значение критерия Фишера\n",
    "\n",
    "$$\n",
    "F_t = F_{1 - \\alpha}(n_x - 1, n_y - 1)\n",
    "$$"
   ],
   "metadata": {
    "collapsed": false
   }
  },
  {
   "cell_type": "code",
   "execution_count": 99,
   "outputs": [
    {
     "name": "stdout",
     "output_type": "stream",
     "text": [
      "Теоретическое значение критерия: 2.518554220730918\n"
     ]
    }
   ],
   "source": [
    "f_t = f.ppf(1 - a, n_x - 1, n_y - 1)\n",
    "print(f'Теоретическое значение критерия: {f_t}')"
   ],
   "metadata": {
    "collapsed": false,
    "ExecuteTime": {
     "start_time": "2023-05-04T11:34:07.124663Z",
     "end_time": "2023-05-04T11:34:07.128079Z"
    }
   }
  },
  {
   "cell_type": "markdown",
   "source": [
    "## Вывод о принятии или не принятии гипотезы"
   ],
   "metadata": {
    "collapsed": false
   }
  },
  {
   "cell_type": "code",
   "execution_count": 103,
   "outputs": [
    {
     "name": "stdout",
     "output_type": "stream",
     "text": [
      "Гипотеза о равенстве дисперсий принимается (H0)\n"
     ]
    }
   ],
   "source": [
    "if f_r < f_t:\n",
    "    print('Гипотеза о равенстве дисперсий принимается (H0)')\n",
    "else:\n",
    "    print('Гипотеза о равенстве дисперсий отвергается (H0), принимается альтернативная гипотеза (H1)')"
   ],
   "metadata": {
    "collapsed": false,
    "ExecuteTime": {
     "start_time": "2023-05-04T12:53:25.318672Z",
     "end_time": "2023-05-04T12:53:25.322912Z"
    }
   }
  },
  {
   "cell_type": "code",
   "execution_count": 100,
   "outputs": [],
   "source": [],
   "metadata": {
    "collapsed": false,
    "ExecuteTime": {
     "start_time": "2023-05-04T11:34:07.131885Z",
     "end_time": "2023-05-04T11:34:07.133332Z"
    }
   }
  }
 ],
 "metadata": {
  "kernelspec": {
   "display_name": "Python 3",
   "language": "python",
   "name": "python3"
  },
  "language_info": {
   "codemirror_mode": {
    "name": "ipython",
    "version": 2
   },
   "file_extension": ".py",
   "mimetype": "text/x-python",
   "name": "python",
   "nbconvert_exporter": "python",
   "pygments_lexer": "ipython2",
   "version": "2.7.6"
  }
 },
 "nbformat": 4,
 "nbformat_minor": 0
}
