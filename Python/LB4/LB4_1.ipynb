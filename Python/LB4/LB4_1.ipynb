{
 "cells": [
  {
   "cell_type": "code",
   "execution_count": 1,
   "outputs": [],
   "source": [
    "import pandas as pd\n",
    "import numpy as np\n",
    "import scipy.stats as st\n",
    "from IPython.display import display, Markdown"
   ],
   "metadata": {
    "collapsed": false,
    "ExecuteTime": {
     "end_time": "2023-09-08T03:57:45.531005Z",
     "start_time": "2023-09-08T03:57:44.687936Z"
    }
   }
  },
  {
   "cell_type": "markdown",
   "metadata": {
    "collapsed": false
   },
   "source": [
    "# Лабораторная работа №4\n",
    "## Задание 1\n",
    "### {Фамилия Имя}, {Номер группы}, Вариант {Номер варианта}, ({Дата})"
   ]
  },
  {
   "cell_type": "markdown",
   "metadata": {
    "collapsed": false
   },
   "source": [
    "## Задача и данные"
   ]
  },
  {
   "cell_type": "markdown",
   "metadata": {
    "collapsed": false
   },
   "source": [
    "По двум выборкам нормальных законов распределения проверить гипотезу о равенстве дисперсий (при конкурирующей гипотезе об их неравенстве) при уровне значимости 0,1.\n",
    "\n",
    "Определить:\n",
    "1) дисперсию первой выборки;\n",
    "2) дисперсию второй выборки;\n",
    "3) вычисленное значение критерия;\n",
    "4) теоретическое значение критерия;\n",
    "5) вывод о принятии или не принятии гипотезы.\n"
   ]
  },
  {
   "cell_type": "code",
   "execution_count": 2,
   "metadata": {
    "collapsed": false,
    "ExecuteTime": {
     "end_time": "2023-09-08T03:57:45.541114Z",
     "start_time": "2023-09-08T03:57:45.531941Z"
    }
   },
   "outputs": [
    {
     "data": {
      "text/plain": "<IPython.core.display.Markdown object>",
      "text/markdown": "Уровень значимости: $0.1$"
     },
     "execution_count": 2,
     "metadata": {},
     "output_type": "execute_result"
    }
   ],
   "source": [
    "data = pd.DataFrame({\n",
    "    'X': [37.5, 39.9, 43.5, 37.8, 43.1, 35.2, 38.7, 32.2, 45.1, 35.7, 14.2, 38.2], \n",
    "    'Y': [32.7, 28.2, 24.7, 40.6, 26.8, 35.1, 44.3, 22.1, 25.7, 48.6, 41.3, 39]\n",
    "    })\n",
    "n_x = len(data.X)\n",
    "n_y = len(data.Y)\n",
    "a = 0.1\n",
    "\n",
    "Markdown(f'Уровень значимости: ${a}$')"
   ]
  },
  {
   "cell_type": "markdown",
   "metadata": {
    "collapsed": false
   },
   "source": [
    "### Количество элементов в выборках:"
   ]
  },
  {
   "cell_type": "code",
   "execution_count": 3,
   "metadata": {
    "collapsed": false,
    "ExecuteTime": {
     "end_time": "2023-09-08T03:57:45.547240Z",
     "start_time": "2023-09-08T03:57:45.540474Z"
    }
   },
   "outputs": [
    {
     "data": {
      "text/plain": "<IPython.core.display.Markdown object>",
      "text/markdown": "Количество элементов в первой выборке: $12$"
     },
     "execution_count": 3,
     "metadata": {},
     "output_type": "execute_result"
    }
   ],
   "source": [
    "Markdown(f'Количество элементов в первой выборке: ${n_x}$')"
   ]
  },
  {
   "cell_type": "code",
   "execution_count": 4,
   "metadata": {
    "collapsed": false,
    "ExecuteTime": {
     "end_time": "2023-09-08T03:57:45.547588Z",
     "start_time": "2023-09-08T03:57:45.542937Z"
    }
   },
   "outputs": [
    {
     "data": {
      "text/plain": "<IPython.core.display.Markdown object>",
      "text/markdown": "Количество элементов во второй выборке: $12$"
     },
     "execution_count": 4,
     "metadata": {},
     "output_type": "execute_result"
    }
   ],
   "source": [
    "Markdown(f'Количество элементов во второй выборке: ${n_y}$')"
   ]
  },
  {
   "cell_type": "markdown",
   "metadata": {
    "collapsed": false
   },
   "source": [
    "### Выборки:"
   ]
  },
  {
   "cell_type": "markdown",
   "metadata": {
    "collapsed": false
   },
   "source": [
    "#### Первая выборка:"
   ]
  },
  {
   "cell_type": "code",
   "execution_count": 5,
   "metadata": {
    "collapsed": false,
    "ExecuteTime": {
     "end_time": "2023-09-08T03:57:45.591785Z",
     "start_time": "2023-09-08T03:57:45.585838Z"
    }
   },
   "outputs": [
    {
     "data": {
      "text/plain": "0     37.5\n1     39.9\n2     43.5\n3     37.8\n4     43.1\n5     35.2\n6     38.7\n7     32.2\n8     45.1\n9     35.7\n10    14.2\n11    38.2\nName: X, dtype: float64"
     },
     "execution_count": 5,
     "metadata": {},
     "output_type": "execute_result"
    }
   ],
   "source": [
    "data.X"
   ]
  },
  {
   "cell_type": "markdown",
   "metadata": {
    "collapsed": false
   },
   "source": [
    "#### Вторая выборка:"
   ]
  },
  {
   "cell_type": "code",
   "execution_count": 6,
   "metadata": {
    "collapsed": false,
    "ExecuteTime": {
     "end_time": "2023-09-08T03:57:45.601984Z",
     "start_time": "2023-09-08T03:57:45.591041Z"
    }
   },
   "outputs": [
    {
     "data": {
      "text/plain": "0     32.7\n1     28.2\n2     24.7\n3     40.6\n4     26.8\n5     35.1\n6     44.3\n7     22.1\n8     25.7\n9     48.6\n10    41.3\n11    39.0\nName: Y, dtype: float64"
     },
     "execution_count": 6,
     "metadata": {},
     "output_type": "execute_result"
    }
   ],
   "source": [
    "data.Y"
   ]
  },
  {
   "cell_type": "markdown",
   "metadata": {
    "collapsed": false
   },
   "source": [
    "## Проверка гипотезы о равенстве дисперсий\n",
    "\n",
    "$$\n",
    "H_0: \\sigma^2_x = \\sigma^2_y \\\\\n",
    "H_1: \\sigma^2_x \\neq \\sigma^2_y\n",
    "$$"
   ]
  },
  {
   "cell_type": "markdown",
   "metadata": {
    "collapsed": false
   },
   "source": [
    "### Расчет дисперсий:\n",
    "\n",
    "$$\n",
    "s^2_x = \\frac{1}{n_x - 1} \\sum_{i=1}^{n_x} (x_i - \\overline{x})^2, \\quad s^2_y = \\frac{1}{n_y - 1} \\sum_{i=1}^{n_y} (y_i - \\overline{y})^2\n",
    "$$"
   ]
  },
  {
   "cell_type": "code",
   "execution_count": 7,
   "metadata": {
    "collapsed": false,
    "ExecuteTime": {
     "end_time": "2023-09-08T03:57:45.602364Z",
     "start_time": "2023-09-08T03:57:45.596071Z"
    }
   },
   "outputs": [
    {
     "name": "stdout",
     "output_type": "stream",
     "text": [
      "Дисперсия первой выборки: 64.1644696969697\n"
     ]
    }
   ],
   "source": [
    "x_var = data.X.var(ddof=1)\n",
    "print(f'Дисперсия первой выборки: {x_var}')"
   ]
  },
  {
   "cell_type": "code",
   "execution_count": 8,
   "metadata": {
    "collapsed": false,
    "ExecuteTime": {
     "end_time": "2023-09-08T03:57:45.616184Z",
     "start_time": "2023-09-08T03:57:45.602125Z"
    }
   },
   "outputs": [
    {
     "name": "stdout",
     "output_type": "stream",
     "text": [
      "Дисперсия второй выборки: 75.12446969696968\n"
     ]
    }
   ],
   "source": [
    "y_var = data.Y.var(ddof=1)\n",
    "print(f'Дисперсия второй выборки: {y_var}')"
   ]
  },
  {
   "cell_type": "markdown",
   "metadata": {
    "collapsed": false
   },
   "source": [
    "### Вычисленное значение критерия Фишера\n",
    "\n",
    "$$\n",
    "F = \\frac{\\sigma^2_x}{\\sigma^2_y} \\text{если } S_x > S_y, \\quad\n",
    "F = \\frac{\\sigma^2_y}{\\sigma^2_x} \\text{если } S_x < S_y\n",
    "$$"
   ]
  },
  {
   "cell_type": "code",
   "execution_count": 9,
   "metadata": {
    "collapsed": false,
    "ExecuteTime": {
     "end_time": "2023-09-08T03:57:45.654430Z",
     "start_time": "2023-09-08T03:57:45.608529Z"
    }
   },
   "outputs": [
    {
     "data": {
      "text/plain": "<IPython.core.display.Markdown object>",
      "text/markdown": "Вычисленное значение критерия: $F=1.1708110431171783$"
     },
     "execution_count": 9,
     "metadata": {},
     "output_type": "execute_result"
    }
   ],
   "source": [
    "f_r = y_var / x_var\n",
    "Markdown(f'Вычисленное значение критерия: $F={f_r}$')"
   ]
  },
  {
   "cell_type": "markdown",
   "metadata": {
    "collapsed": false
   },
   "source": [
    "### Теоретическое значение критерия Фишера\n",
    "\n",
    "$$\n",
    "F_{кр} = F(\\alpha/2, n_x - 1, n_y - 1)\n",
    "$$"
   ]
  },
  {
   "cell_type": "code",
   "execution_count": 10,
   "metadata": {
    "collapsed": false,
    "ExecuteTime": {
     "end_time": "2023-09-08T03:57:45.655635Z",
     "start_time": "2023-09-08T03:57:45.614595Z"
    }
   },
   "outputs": [
    {
     "name": "stdout",
     "output_type": "stream",
     "text": [
      "Теоретическое значение критерия: 2.8179304699530863\n"
     ]
    }
   ],
   "source": [
    "f_t = st.f.ppf(1-a/2, n_x - 1, n_y - 1)\n",
    "print(f'Теоретическое значение критерия: {f_t}')"
   ]
  },
  {
   "cell_type": "markdown",
   "metadata": {
    "collapsed": false
   },
   "source": [
    "## Вывод о принятии или не принятии гипотезы"
   ]
  },
  {
   "cell_type": "code",
   "execution_count": 11,
   "metadata": {
    "collapsed": false,
    "ExecuteTime": {
     "end_time": "2023-09-08T03:57:45.656203Z",
     "start_time": "2023-09-08T03:57:45.619013Z"
    }
   },
   "outputs": [
    {
     "data": {
      "text/plain": "<IPython.core.display.Markdown object>",
      "text/markdown": "Гипотеза о равенстве дисперсий принимается, т.к. $F<F_{кр}$ ($H_0$)"
     },
     "metadata": {},
     "output_type": "display_data"
    }
   ],
   "source": [
    "if f_r < f_t:\n",
    "    display(Markdown('Гипотеза о равенстве дисперсий принимается, т.к. $F<F_{кр}$ ($H_0$)'))\n",
    "else:\n",
    "    display(Markdown('Гипотеза о равенстве дисперсий отвергается ($H_0$), принимается альтернативная гипотеза ($H_1$)'))"
   ]
  }
 ],
 "metadata": {
  "kernelspec": {
   "display_name": "Python 3",
   "language": "python",
   "name": "python3"
  },
  "language_info": {
   "codemirror_mode": {
    "name": "ipython",
    "version": 3
   },
   "file_extension": ".py",
   "mimetype": "text/x-python",
   "name": "python",
   "nbconvert_exporter": "python",
   "pygments_lexer": "ipython3",
   "version": "3.9.12"
  }
 },
 "nbformat": 4,
 "nbformat_minor": 0
}
