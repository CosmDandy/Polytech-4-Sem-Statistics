{
 "cells": [
  {
   "cell_type": "code",
   "execution_count": 14,
   "metadata": {
    "collapsed": true,
    "ExecuteTime": {
     "end_time": "2023-05-20T10:44:51.586911Z",
     "start_time": "2023-05-20T10:44:51.582598Z"
    }
   },
   "outputs": [],
   "source": [
    "import pandas as pd\n",
    "import glob\n",
    "\n",
    "\n",
    "def answer_check(answer_path, reference_path='Reference Answers/'):\n",
    "    student_answer, reference_answer = [], []\n",
    "    student_csv_files = glob.glob(answer_path + \"/*.csv\")\n",
    "    reference_csv_files = glob.glob(reference_path + \"/*.csv\")\n",
    "    for student_file in student_csv_files:\n",
    "        student_answer = pd.read_csv(student_file)\n",
    "        for reference_file in reference_csv_files:\n",
    "            reference_answer = pd.read_csv(reference_file)\n",
    "            if student_answer['Номер лабораторной работы'][0] == reference_answer['Номер лабораторной работы'][0] and \\\n",
    "                    student_answer['Номер задания лабораторной работы'][0] == \\\n",
    "                    reference_answer['Номер задания лабораторной работы'][0]:\n",
    "                break\n",
    "        reference_data = pd.DataFrame(reference_answer.iloc[student_answer['Вариант лабораторной работы'][0] - 1])\n",
    "        reference_data = reference_data.drop(reference_data.iloc[:, 1:3], axis=0)\n",
    "        return reference_data"
   ]
  },
  {
   "cell_type": "code",
   "execution_count": 15,
   "outputs": [
    {
     "data": {
      "text/plain": "  Номер лабораторной работы Номер задания лабораторной работы  \\\n0                         1                                 1   \n\n  Вариант лабораторной работы  \\\n0                           1   \n\n                                    Вариационный ряд  \\\n0  [250, 250, 250, 255, 260, 270, 270, 288, 300, ...   \n\n                                        Варианты                      Частота  \\\n0  [250, 255, 260, 270, 288, 300, 305, 306, 320]  [3, 1, 1, 2, 1, 3, 1, 1, 2]   \n\n                               Относительная частота  \\\n0  [0.2, 0.06666666666666667, 0.06666666666666667...   \n\n                  Эмпирическая функция распределения  \n0  [0.0, 0.2, 0.26666666666666666, 0.333333333333...  ",
      "text/html": "<div>\n<style scoped>\n    .dataframe tbody tr th:only-of-type {\n        vertical-align: middle;\n    }\n\n    .dataframe tbody tr th {\n        vertical-align: top;\n    }\n\n    .dataframe thead th {\n        text-align: right;\n    }\n</style>\n<table border=\"1\" class=\"dataframe\">\n  <thead>\n    <tr style=\"text-align: right;\">\n      <th></th>\n      <th>Номер лабораторной работы</th>\n      <th>Номер задания лабораторной работы</th>\n      <th>Вариант лабораторной работы</th>\n      <th>Вариационный ряд</th>\n      <th>Варианты</th>\n      <th>Частота</th>\n      <th>Относительная частота</th>\n      <th>Эмпирическая функция распределения</th>\n    </tr>\n  </thead>\n  <tbody>\n    <tr>\n      <th>0</th>\n      <td>1</td>\n      <td>1</td>\n      <td>1</td>\n      <td>[250, 250, 250, 255, 260, 270, 270, 288, 300, ...</td>\n      <td>[250, 255, 260, 270, 288, 300, 305, 306, 320]</td>\n      <td>[3, 1, 1, 2, 1, 3, 1, 1, 2]</td>\n      <td>[0.2, 0.06666666666666667, 0.06666666666666667...</td>\n      <td>[0.0, 0.2, 0.26666666666666666, 0.333333333333...</td>\n    </tr>\n  </tbody>\n</table>\n</div>"
     },
     "execution_count": 15,
     "metadata": {},
     "output_type": "execute_result"
    }
   ],
   "source": [
    "# call function and pass in directory\n",
    "df_list = answer_check(\"../LB1/output\")\n",
    "df_list.T"
   ],
   "metadata": {
    "collapsed": false,
    "ExecuteTime": {
     "end_time": "2023-05-20T10:44:52.652456Z",
     "start_time": "2023-05-20T10:44:52.635872Z"
    }
   }
  },
  {
   "cell_type": "code",
   "execution_count": null,
   "outputs": [],
   "source": [],
   "metadata": {
    "collapsed": false
   }
  }
 ],
 "metadata": {
  "kernelspec": {
   "display_name": "Python 3",
   "language": "python",
   "name": "python3"
  },
  "language_info": {
   "codemirror_mode": {
    "name": "ipython",
    "version": 2
   },
   "file_extension": ".py",
   "mimetype": "text/x-python",
   "name": "python",
   "nbconvert_exporter": "python",
   "pygments_lexer": "ipython2",
   "version": "2.7.6"
  }
 },
 "nbformat": 4,
 "nbformat_minor": 0
}
