{
 "cells": [
  {
   "cell_type": "code",
   "execution_count": 1,
   "metadata": {
    "collapsed": true,
    "ExecuteTime": {
     "end_time": "2023-05-25T07:39:25.998499Z",
     "start_time": "2023-05-25T07:39:25.996828Z"
    }
   },
   "outputs": [],
   "source": [
    "import pandas as pd\n",
    "import glob\n",
    "\n",
    "\n",
    "def answer_check(answer_path='', reference_path=''):\n",
    "    student_answer, reference_answer = [], []\n",
    "    student_csv_files = glob.glob(answer_path + \"/*.csv\")\n",
    "    reference_csv_files = glob.glob(reference_path + \"/*.csv\")\n",
    "    for student_file in student_csv_files:\n",
    "        student_answer = pd.read_csv(student_file)\n",
    "        for reference_file in reference_csv_files:\n",
    "            reference_answer = pd.read_csv(reference_file)\n",
    "            if student_answer['Номер лабораторной работы'][0] == reference_answer['Номер лабораторной работы'][0] and \\\n",
    "                    student_answer['Номер задания лабораторной работы'][0] == \\\n",
    "                    reference_answer['Номер задания лабораторной работы'][0]:\n",
    "                break\n",
    "        reference_data = pd.DataFrame(reference_answer.iloc[student_answer['Вариант лабораторной работы'][0] - 1])\n",
    "        return reference_data"
   ]
  },
  {
   "cell_type": "code",
   "execution_count": 2,
   "outputs": [
    {
     "data": {
      "text/plain": "                                                                                   58\nНомер лабораторной работы                                                           1\nВариант лабораторной работы                                                        59\nНомер задания лабораторной работы                                                   1\nВариационный ряд                    [7818, 7959, 8240, 8240, 8285, 8333, 8333, 850...\nВарианты                            [7818, 7959, 8240, 8285, 8333, 8500, 8647, 895...\nЧастота                                                [1, 1, 2, 1, 2, 1, 1, 1, 1, 2]\nОтносительная частота               [0.07692307692307693, 0.07692307692307693, 0.1...\nЭмпирическая функция распределения  [0.07692307692307693, 0.15384615384615385, 0.3...",
      "text/html": "<div>\n<style scoped>\n    .dataframe tbody tr th:only-of-type {\n        vertical-align: middle;\n    }\n\n    .dataframe tbody tr th {\n        vertical-align: top;\n    }\n\n    .dataframe thead th {\n        text-align: right;\n    }\n</style>\n<table border=\"1\" class=\"dataframe\">\n  <thead>\n    <tr style=\"text-align: right;\">\n      <th></th>\n      <th>58</th>\n    </tr>\n  </thead>\n  <tbody>\n    <tr>\n      <th>Номер лабораторной работы</th>\n      <td>1</td>\n    </tr>\n    <tr>\n      <th>Вариант лабораторной работы</th>\n      <td>59</td>\n    </tr>\n    <tr>\n      <th>Номер задания лабораторной работы</th>\n      <td>1</td>\n    </tr>\n    <tr>\n      <th>Вариационный ряд</th>\n      <td>[7818, 7959, 8240, 8240, 8285, 8333, 8333, 850...</td>\n    </tr>\n    <tr>\n      <th>Варианты</th>\n      <td>[7818, 7959, 8240, 8285, 8333, 8500, 8647, 895...</td>\n    </tr>\n    <tr>\n      <th>Частота</th>\n      <td>[1, 1, 2, 1, 2, 1, 1, 1, 1, 2]</td>\n    </tr>\n    <tr>\n      <th>Относительная частота</th>\n      <td>[0.07692307692307693, 0.07692307692307693, 0.1...</td>\n    </tr>\n    <tr>\n      <th>Эмпирическая функция распределения</th>\n      <td>[0.07692307692307693, 0.15384615384615385, 0.3...</td>\n    </tr>\n  </tbody>\n</table>\n</div>"
     },
     "execution_count": 2,
     "metadata": {},
     "output_type": "execute_result"
    }
   ],
   "source": [
    "# call function and pass in directory\n",
    "df_list = answer_check(\"../LB1/output\", \"../LB1/reference_output\")\n",
    "df_list"
   ],
   "metadata": {
    "collapsed": false,
    "ExecuteTime": {
     "end_time": "2023-05-25T07:39:26.013055Z",
     "start_time": "2023-05-25T07:39:26.000830Z"
    }
   }
  },
  {
   "cell_type": "code",
   "execution_count": null,
   "outputs": [],
   "source": [],
   "metadata": {
    "collapsed": false
   }
  }
 ],
 "metadata": {
  "kernelspec": {
   "display_name": "Python 3",
   "language": "python",
   "name": "python3"
  },
  "language_info": {
   "codemirror_mode": {
    "name": "ipython",
    "version": 2
   },
   "file_extension": ".py",
   "mimetype": "text/x-python",
   "name": "python",
   "nbconvert_exporter": "python",
   "pygments_lexer": "ipython2",
   "version": "2.7.6"
  }
 },
 "nbformat": 4,
 "nbformat_minor": 0
}
