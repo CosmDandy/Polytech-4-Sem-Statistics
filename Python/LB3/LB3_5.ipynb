{
 "cells": [
  {
   "cell_type": "code",
   "execution_count": 3,
   "metadata": {
    "ExecuteTime": {
     "end_time": "2023-04-27T13:45:21.730075Z",
     "start_time": "2023-04-27T13:45:21.486892Z"
    },
    "collapsed": false
   },
   "outputs": [],
   "source": [
    "import pandas as pd\n",
    "import numpy as np\n",
    "import scipy.stats as st\n",
    "from IPython.display import display, Markdown\n",
    "import matplotlib.pyplot as plt\n",
    "import seaborn as sns"
   ]
  },
  {
   "attachments": {},
   "cell_type": "markdown",
   "metadata": {
    "collapsed": false
   },
   "source": [
    "# Лабораторная работа №3\n",
    "## Задание 5\n",
    "### {Фамилия Имя}, {Номер группы}, Вариант {Номер варианта}, ({Дата})"
   ]
  },
  {
   "attachments": {},
   "cell_type": "markdown",
   "metadata": {
    "collapsed": false
   },
   "source": [
    "### Данные"
   ]
  },
  {
   "attachments": {},
   "cell_type": "markdown",
   "metadata": {
    "collapsed": false
   },
   "source": [
    "По данным выборки проверить с помощью критерия Пирсона при уровне значимости α гипотезу:\n",
    "- о показательном;\n",
    "- равномерном;\n",
    "- нормальном законе распределения генеральной совокупности.\n",
    "\n",
    "В ответе привести:\n",
    "1) выбранную гипотезу о виде закона распределения;\n",
    "2) вычисленное значение критерия;\n",
    "3) критическое значение;\n",
    "4) вывод о принятии или не принятии гипотезы.\n"
   ]
  },
  {
   "cell_type": "code",
   "execution_count": 29,
   "metadata": {
    "ExecuteTime": {
     "end_time": "2023-04-27T13:45:21.731618Z",
     "start_time": "2023-04-27T13:45:21.524254Z"
    },
    "collapsed": false
   },
   "outputs": [
    {
     "data": {
      "text/plain": [
       "0     15.6\n",
       "1     29.1\n",
       "2     -5.3\n",
       "3      8.8\n",
       "4      8.7\n",
       "      ... \n",
       "95    -0.4\n",
       "96     9.9\n",
       "97    16.3\n",
       "98     4.8\n",
       "99    16.0\n",
       "Length: 100, dtype: float64"
      ]
     },
     "execution_count": 29,
     "metadata": {},
     "output_type": "execute_result"
    }
   ],
   "source": [
    "src_data = pd.Series([15.6, 29.1, -5.3, 8.8, 8.7, 2.5, 10.3, 14.4, 21.5, 9.9, 33.5, 15.9, 8.0, 21.4, 9.9, 1.7, 11.2, 9.0, 4.5, 26.2, 3.2, 11.0, 18.3, 5.7, 21.4, 14.4, 17.5, -1.4, 0.3, 17.5, 8.8, 16.0, 0.7, 4.2, 12.2, 14.6, 16.8, 15.2, 17.0, 17.2, -1.7, 24.0, 23.6, 33.2, 21.4, 10.4, 1.5, 8.1, 12.2, 8.2, 17.6, 9.5, 22.9, 9.0, 30.0, 18.2, -10.0, -4.6, 21.4, 20.1, 18.4, 24.3, 7.5, 12.5, 7.7, 0.2, -11.0, 24.2, 24.8, 6.0, 6.6, 15.9, 15.5, 18.6, 4.3, 21.4, 8.0, 13.9, 3.9, 25.2, 16.8, 14.2, 11.8, 16.4, 14.2, 2.9, -2.3, 14.8, 19.7, -1.3, 6.0, 14.7, 9.5, 2.8, 25.0, -0.4, 9.9, 16.3, 4.8, 16.0])\n",
    "n = len(src_data)\n",
    "alpha = 0.025\n",
    "\n",
    "src_data"
   ]
  },
  {
   "cell_type": "code",
   "execution_count": 30,
   "metadata": {
    "ExecuteTime": {
     "end_time": "2023-04-27T13:45:21.732289Z",
     "start_time": "2023-04-27T13:45:21.533031Z"
    },
    "collapsed": false
   },
   "outputs": [
    {
     "data": {
      "text/markdown": [
       "$n = 100$, $\\alpha = 0.025$"
      ],
      "text/plain": [
       "<IPython.core.display.Markdown object>"
      ]
     },
     "execution_count": 30,
     "metadata": {},
     "output_type": "execute_result"
    }
   ],
   "source": [
    "Markdown(f'$n = {n}$, $\\\\alpha = {alpha}$')"
   ]
  },
  {
   "attachments": {},
   "cell_type": "markdown",
   "metadata": {},
   "source": [
    "## Шаг 1: Построение интервального ряда"
   ]
  },
  {
   "cell_type": "code",
   "execution_count": 31,
   "metadata": {},
   "outputs": [
    {
     "data": {
      "text/plain": [
       "8"
      ]
     },
     "execution_count": 31,
     "metadata": {},
     "output_type": "execute_result"
    }
   ],
   "source": [
    "m = int(np.ceil(np.log2(n) + 1))\n",
    "m"
   ]
  },
  {
   "cell_type": "code",
   "execution_count": 34,
   "metadata": {},
   "outputs": [
    {
     "data": {
      "text/html": [
       "<div>\n",
       "<style scoped>\n",
       "    .dataframe tbody tr th:only-of-type {\n",
       "        vertical-align: middle;\n",
       "    }\n",
       "\n",
       "    .dataframe tbody tr th {\n",
       "        vertical-align: top;\n",
       "    }\n",
       "\n",
       "    .dataframe thead th {\n",
       "        text-align: right;\n",
       "    }\n",
       "</style>\n",
       "<table border=\"1\" class=\"dataframe\">\n",
       "  <thead>\n",
       "    <tr style=\"text-align: right;\">\n",
       "      <th></th>\n",
       "      <th>x_i</th>\n",
       "      <th>x_(i+1)</th>\n",
       "      <th>f</th>\n",
       "    </tr>\n",
       "  </thead>\n",
       "  <tbody>\n",
       "    <tr>\n",
       "      <th>0</th>\n",
       "      <td>-11.045</td>\n",
       "      <td>-5.438</td>\n",
       "      <td>2</td>\n",
       "    </tr>\n",
       "    <tr>\n",
       "      <th>1</th>\n",
       "      <td>-5.438</td>\n",
       "      <td>0.125</td>\n",
       "      <td>7</td>\n",
       "    </tr>\n",
       "    <tr>\n",
       "      <th>2</th>\n",
       "      <td>0.125</td>\n",
       "      <td>5.688</td>\n",
       "      <td>14</td>\n",
       "    </tr>\n",
       "    <tr>\n",
       "      <th>3</th>\n",
       "      <td>5.688</td>\n",
       "      <td>11.250</td>\n",
       "      <td>24</td>\n",
       "    </tr>\n",
       "    <tr>\n",
       "      <th>4</th>\n",
       "      <td>11.250</td>\n",
       "      <td>16.812</td>\n",
       "      <td>23</td>\n",
       "    </tr>\n",
       "    <tr>\n",
       "      <th>5</th>\n",
       "      <td>16.812</td>\n",
       "      <td>22.375</td>\n",
       "      <td>17</td>\n",
       "    </tr>\n",
       "    <tr>\n",
       "      <th>6</th>\n",
       "      <td>22.375</td>\n",
       "      <td>27.938</td>\n",
       "      <td>9</td>\n",
       "    </tr>\n",
       "    <tr>\n",
       "      <th>7</th>\n",
       "      <td>27.938</td>\n",
       "      <td>33.500</td>\n",
       "      <td>4</td>\n",
       "    </tr>\n",
       "  </tbody>\n",
       "</table>\n",
       "</div>"
      ],
      "text/plain": [
       "      x_i  x_(i+1)   f\n",
       "0 -11.045   -5.438   2\n",
       "1  -5.438    0.125   7\n",
       "2   0.125    5.688  14\n",
       "3   5.688   11.250  24\n",
       "4  11.250   16.812  23\n",
       "5  16.812   22.375  17\n",
       "6  22.375   27.938   9\n",
       "7  27.938   33.500   4"
      ]
     },
     "execution_count": 34,
     "metadata": {},
     "output_type": "execute_result"
    }
   ],
   "source": [
    "bins = src_data.value_counts(bins=m).sort_index()\n",
    "data = pd.DataFrame()\n",
    "data['x_i'] = list(map(lambda x: x.left, bins.index))\n",
    "data['x_(i+1)'] = list(map(lambda x: x.right, bins.index))\n",
    "data['f'] = bins.values\n",
    "data"
   ]
  },
  {
   "cell_type": "code",
   "execution_count": 94,
   "metadata": {},
   "outputs": [
    {
     "data": {
      "image/png": "[encoded data removed]",
      "text/plain": [
       "<Figure size 720x360 with 1 Axes>"
      ]
     },
     "metadata": {},
     "output_type": "display_data"
    }
   ],
   "source": [
    "def hist(data):\n",
    "    sns.set_theme()\n",
    "    fig, ax = plt.subplots(figsize=(10, 5))\n",
    "    ax = sns.histplot(data, bins=m, kde=True, ax=ax)\n",
    "    ax.set_xlabel(\"x\")\n",
    "    ax.set_ylabel(\"f\")\n",
    "    ax.set_title(\"Гистограмма интервального ряда\")\n",
    "    plt.plot()\n",
    "\n",
    "hist(src_data)"
   ]
  },
  {
   "attachments": {},
   "cell_type": "markdown",
   "metadata": {
    "collapsed": false
   },
   "source": [
    "## Шаг 2: Проверка гипотезы о показательном распределение"
   ]
  },
  {
   "cell_type": "code",
   "execution_count": 35,
   "metadata": {},
   "outputs": [
    {
     "data": {
      "text/markdown": [
       "\n",
       "- $H_0$: закон распределения генеральной совокупности является показательным.\n",
       "- $H_1$: закон распределения генеральной совокупности не является показательным.\n"
      ],
      "text/plain": [
       "<IPython.core.display.Markdown object>"
      ]
     },
     "execution_count": 35,
     "metadata": {},
     "output_type": "execute_result"
    }
   ],
   "source": [
    "dist = \"показательным\"\n",
    "Markdown(f\"\"\"\n",
    "- $H_0$: закон распределения генеральной совокупности является {dist}.\n",
    "- $H_1$: закон распределения генеральной совокупности не является {dist}.\n",
    "\"\"\")"
   ]
  },
  {
   "attachments": {},
   "cell_type": "markdown",
   "metadata": {},
   "source": [
    "### Вычисление среднего значения\n",
    "\n",
    "$$\\overline{x} = \\frac{1}{n} \\sum_{i=1}^{n} x_i$$"
   ]
  },
  {
   "cell_type": "code",
   "execution_count": 36,
   "metadata": {},
   "outputs": [
    {
     "data": {
      "text/plain": [
       "12.139555"
      ]
     },
     "execution_count": 36,
     "metadata": {},
     "output_type": "execute_result"
    }
   ],
   "source": [
    "def mean_interval_row(xi, xj, f):\n",
    "    x_mean = (xi + xj) / 2\n",
    "    return (x_mean * f).sum() / f.sum()\n",
    "\n",
    "mean = mean_interval_row(data[\"x_i\"], data[\"x_(i+1)\"], data[\"f\"])\n",
    "mean"
   ]
  },
  {
   "attachments": {},
   "cell_type": "markdown",
   "metadata": {},
   "source": [
    "Для проверки гипотезы о показательном распределения воспользуемся критерием согласия хи-квадрат. Нужно вычислить теоретические (ожидаемые) частоты попадания значений в каждый интервал, если бы распределение было равномерным. Для этого воспользуемся формулой:\n",
    "$$P_i=P(x_i < X < x_{i+1})=e^{-\\lambda x_i} - e^{-\\lambda x_{i+1}}$$\n",
    "$$f' = fP_i$$\n",
    "$$\\lambda = 1/\\bar{x}$$"
   ]
  },
  {
   "cell_type": "code",
   "execution_count": 37,
   "metadata": {},
   "outputs": [
    {
     "data": {
      "text/plain": [
       "0.08237534242400155"
      ]
     },
     "execution_count": 37,
     "metadata": {},
     "output_type": "execute_result"
    }
   ],
   "source": [
    "lmbda = 1 / mean\n",
    "lmbda"
   ]
  },
  {
   "cell_type": "code",
   "execution_count": 41,
   "metadata": {},
   "outputs": [
    {
     "data": {
      "text/plain": [
       "(array([0.        , 0.01024409, 0.36384733, 0.23005964, 0.14549867,\n",
       "        0.09203206, 0.05819986, 0.03679961]),\n",
       " 0.9366812617799309)"
      ]
     },
     "execution_count": 41,
     "metadata": {},
     "output_type": "execute_result"
    }
   ],
   "source": [
    "p = st.expon.cdf(data[\"x_(i+1)\"], scale=1/lmbda) - st.expon.cdf(data[\"x_i\"], scale=1/lmbda)\n",
    "p, p.sum()"
   ]
  },
  {
   "cell_type": "code",
   "execution_count": 40,
   "metadata": {},
   "outputs": [
    {
     "data": {
      "text/plain": [
       "0     0.000000\n",
       "1     1.024409\n",
       "2    36.384733\n",
       "3    23.005964\n",
       "4    14.549867\n",
       "5     9.203206\n",
       "6     5.819986\n",
       "7     3.679961\n",
       "Name: f', dtype: float64"
      ]
     },
     "execution_count": 40,
     "metadata": {},
     "output_type": "execute_result"
    }
   ],
   "source": [
    "data[\"f'\"] = p * data[\"f\"].sum()\n",
    "data[\"f'\"]"
   ]
  },
  {
   "attachments": {},
   "cell_type": "markdown",
   "metadata": {},
   "source": [
    "Вычислим значение статистики критерия $\\chi^2$:\n",
    "\n",
    "\n",
    "$$\\chi^2 = \\sum_{i=1}^{k} \\frac{(f_i - f_i^*)^2}{f_i^*} = \\frac{(\\text{наблюдаемая частота} - \\text{ожидаемая частота})^2}{\\text{ожидаемая частота}}$$"
   ]
  },
  {
   "cell_type": "code",
   "execution_count": 42,
   "metadata": {},
   "outputs": [
    {
     "data": {
      "text/plain": [
       "inf"
      ]
     },
     "execution_count": 42,
     "metadata": {},
     "output_type": "execute_result"
    }
   ],
   "source": [
    "chi2_value_expon = ((data[\"f\"] - data[\"f'\"])**2 / data[\"f'\"]).sum()\n",
    "chi2_value_expon"
   ]
  },
  {
   "attachments": {},
   "cell_type": "markdown",
   "metadata": {},
   "source": [
    "#### Степени свободы:"
   ]
  },
  {
   "cell_type": "code",
   "execution_count": 43,
   "metadata": {},
   "outputs": [
    {
     "data": {
      "text/plain": [
       "4"
      ]
     },
     "execution_count": 43,
     "metadata": {},
     "output_type": "execute_result"
    }
   ],
   "source": [
    "df = (data[\"f\"] >= 5).sum() - 2\n",
    "df"
   ]
  },
  {
   "attachments": {},
   "cell_type": "markdown",
   "metadata": {},
   "source": [
    "#### Критическое значение"
   ]
  },
  {
   "cell_type": "code",
   "execution_count": 44,
   "metadata": {},
   "outputs": [
    {
     "data": {
      "text/plain": [
       "11.143286781877796"
      ]
     },
     "execution_count": 44,
     "metadata": {},
     "output_type": "execute_result"
    }
   ],
   "source": [
    "chi2_critical_expon = st.chi2.ppf(1-alpha, df=df)\n",
    "chi2_critical_expon"
   ]
  },
  {
   "cell_type": "code",
   "execution_count": 46,
   "metadata": {},
   "outputs": [
    {
     "data": {
      "text/markdown": [
       "Так как вычисленное значение статистики критерия Пирсона ($\\chi^2 = inf$) превышает критическое значение ($\\chi^2 = 11.143286781877796$), то мы отвергаем нулевую гипотезу $H_0$ и приниамаем альтернативную гипотезу $H_1$. Это означает, что закон распределения генеральной совокупности не является показательным."
      ],
      "text/plain": [
       "<IPython.core.display.Markdown object>"
      ]
     },
     "metadata": {},
     "output_type": "display_data"
    }
   ],
   "source": [
    "display(Markdown(f\"Так как вычисленное значение статистики критерия Пирсона ($\\chi^2 = {chi2_value_expon}$) превышает критическое значение ($\\chi^2 = {chi2_critical_expon}$), то мы отвергаем нулевую гипотезу $H_0$ и приниамаем альтернативную гипотезу $H_1$. Это означает, что закон распределения генеральной совокупности не является {dist}.\"))"
   ]
  },
  {
   "attachments": {},
   "cell_type": "markdown",
   "metadata": {},
   "source": [
    "## Шаг 3: Проверка гипотезы о равномерном распределение"
   ]
  },
  {
   "cell_type": "code",
   "execution_count": 47,
   "metadata": {},
   "outputs": [
    {
     "data": {
      "text/markdown": [
       "\n",
       "- $H_0$: закон распределения генеральной совокупности является равномерным.\n",
       "- $H_1$: закон распределения генеральной совокупности не является равномерным.\n"
      ],
      "text/plain": [
       "<IPython.core.display.Markdown object>"
      ]
     },
     "execution_count": 47,
     "metadata": {},
     "output_type": "execute_result"
    }
   ],
   "source": [
    "dist = \"равномерным\"\n",
    "Markdown(f\"\"\"\n",
    "- $H_0$: закон распределения генеральной совокупности является {dist}.\n",
    "- $H_1$: закон распределения генеральной совокупности не является {dist}.\n",
    "\"\"\")"
   ]
  },
  {
   "attachments": {},
   "cell_type": "markdown",
   "metadata": {},
   "source": [
    "### Вычисление дисперсии\n",
    "\n",
    "$$s^2 = \\frac{1}{n-1} \\sum_{i=1}^{n} (x_i - \\overline{x})^2$$"
   ]
  },
  {
   "cell_type": "code",
   "execution_count": 49,
   "metadata": {},
   "outputs": [
    {
     "data": {
      "text/plain": [
       "78.126559814475"
      ]
     },
     "execution_count": 49,
     "metadata": {},
     "output_type": "execute_result"
    }
   ],
   "source": [
    "def var_interval_row(xi, xj, f):\n",
    "    x_mean = (xi + xj) / 2\n",
    "    mean_square = ((x_mean ** 2) * f).sum() / f.sum()\n",
    "    mean = mean_interval_row(xi, xj, f)\n",
    "    return mean_square - mean ** 2\n",
    "\n",
    "variance = var_interval_row(data[\"x_i\"], data[\"x_(i+1)\"], data[\"f\"])\n",
    "variance"
   ]
  },
  {
   "attachments": {},
   "cell_type": "markdown",
   "metadata": {},
   "source": [
    "### Вычисление стандартного отклонения\n",
    "\n",
    "$$s = \\sqrt{s^2}$$"
   ]
  },
  {
   "cell_type": "code",
   "execution_count": 50,
   "metadata": {},
   "outputs": [
    {
     "data": {
      "text/plain": [
       "8.838923000822838"
      ]
     },
     "execution_count": 50,
     "metadata": {},
     "output_type": "execute_result"
    }
   ],
   "source": [
    "std = np.sqrt(variance)\n",
    "std"
   ]
  },
  {
   "attachments": {},
   "cell_type": "markdown",
   "metadata": {},
   "source": [
    "Для проверки гипотезы о равномерном распределения воспользуемся критерием согласия хи-квадрат. Нужно вычислить теоретические (ожидаемые) частоты попадания значений в каждый интервал, если бы распределение было равнромерным. Для этого воспользуемся формулой:\n",
    "$$P_i=P(x_i < X < x_{i+1})=\\frac{1}{b^{*} - a^{*}}$$\n",
    "$$\\text{при} \\space a^{*} \\leq x_j \\leq b^{*} $$\n",
    "$$f' = fP_i$$\n",
    "$$a^{*} = \\bar{x} - \\sqrt{3} \\cdot S$$\n",
    "$$b^{*} = \\bar{x} + \\sqrt{3} \\cdot S$$"
   ]
  },
  {
   "cell_type": "code",
   "execution_count": 51,
   "metadata": {},
   "outputs": [
    {
     "data": {
      "text/plain": [
       "(-3.16990872161432, 27.44901872161432)"
      ]
     },
     "execution_count": 51,
     "metadata": {},
     "output_type": "execute_result"
    }
   ],
   "source": [
    "a = mean - np.sqrt(3) * std\n",
    "b = mean + np.sqrt(3) * std\n",
    "a, b"
   ]
  },
  {
   "cell_type": "code",
   "execution_count": 52,
   "metadata": {},
   "outputs": [
    {
     "data": {
      "text/plain": [
       "array([0.        , 0.10761019, 0.18168501, 0.18165235, 0.18165235,\n",
       "       0.18168501, 0.1657151 , 0.        ])"
      ]
     },
     "execution_count": 52,
     "metadata": {},
     "output_type": "execute_result"
    }
   ],
   "source": [
    "p = st.uniform.cdf(data[\"x_(i+1)\"], loc=a, scale=b-a) - st.uniform.cdf(data[\"x_i\"], loc=a, scale=b-a)\n",
    "\n",
    "assert np.isclose(p.sum(), 1, rtol=.01), \"Сумма теоретических оснований должна быть равна 1.\"\n",
    "p"
   ]
  },
  {
   "cell_type": "code",
   "execution_count": 53,
   "metadata": {},
   "outputs": [
    {
     "data": {
      "text/plain": [
       "0     0.000000\n",
       "1    10.761019\n",
       "2    18.168501\n",
       "3    18.165235\n",
       "4    18.165235\n",
       "5    18.168501\n",
       "6    16.571510\n",
       "7     0.000000\n",
       "Name: f', dtype: float64"
      ]
     },
     "execution_count": 53,
     "metadata": {},
     "output_type": "execute_result"
    }
   ],
   "source": [
    "data[\"f'\"] = p * data[\"f\"].sum()\n",
    "data[\"f'\"]"
   ]
  },
  {
   "attachments": {},
   "cell_type": "markdown",
   "metadata": {},
   "source": [
    "Вычислим значение статистики критерия $\\chi^2$:\n",
    "\n",
    "\n",
    "$$\\chi^2 = \\sum_{i=1}^{k} \\frac{(f_i - f_i^*)^2}{f_i^*} = \\frac{(\\text{наблюдаемая частота} - \\text{ожидаемая частота})^2}{\\text{ожидаемая частота}}$$"
   ]
  },
  {
   "cell_type": "code",
   "execution_count": 56,
   "metadata": {},
   "outputs": [
    {
     "data": {
      "text/plain": [
       "0         inf\n",
       "1    1.314491\n",
       "2    0.956402\n",
       "3    1.874156\n",
       "4    1.286796\n",
       "5    0.075152\n",
       "6    3.459417\n",
       "7         inf\n",
       "dtype: float64"
      ]
     },
     "execution_count": 56,
     "metadata": {},
     "output_type": "execute_result"
    }
   ],
   "source": [
    "((data[\"f\"] - data[\"f'\"])**2 / data[\"f'\"])"
   ]
  },
  {
   "cell_type": "code",
   "execution_count": 54,
   "metadata": {},
   "outputs": [
    {
     "data": {
      "text/plain": [
       "inf"
      ]
     },
     "execution_count": 54,
     "metadata": {},
     "output_type": "execute_result"
    }
   ],
   "source": [
    "chi2_value_uniform = ((data[\"f\"] - data[\"f'\"])**2 / data[\"f'\"]).sum()\n",
    "chi2_value_uniform"
   ]
  },
  {
   "attachments": {},
   "cell_type": "markdown",
   "metadata": {},
   "source": [
    "#### Степени свободы:"
   ]
  },
  {
   "cell_type": "code",
   "execution_count": 57,
   "metadata": {},
   "outputs": [
    {
     "data": {
      "text/plain": [
       "3"
      ]
     },
     "execution_count": 57,
     "metadata": {},
     "output_type": "execute_result"
    }
   ],
   "source": [
    "df = (data[\"f\"] >= 5).sum() - 3\n",
    "df"
   ]
  },
  {
   "attachments": {},
   "cell_type": "markdown",
   "metadata": {},
   "source": [
    "#### Критическое значение"
   ]
  },
  {
   "cell_type": "code",
   "execution_count": 67,
   "metadata": {},
   "outputs": [
    {
     "data": {
      "text/plain": [
       "9.348403604496148"
      ]
     },
     "execution_count": 67,
     "metadata": {},
     "output_type": "execute_result"
    }
   ],
   "source": [
    "chi2_critical_uniform = st.chi2.ppf(1-alpha, df=df)\n",
    "chi2_critical_uniform"
   ]
  },
  {
   "cell_type": "code",
   "execution_count": 68,
   "metadata": {},
   "outputs": [
    {
     "data": {
      "text/markdown": [
       "Так как вычисленное значение статистики критерия Пирсона ($\\chi^2 = inf$) превышает критическое значение ($\\chi^2 = 9.348403604496148$), то мы отвергаем нулевую гипотезу $H_0$ и приниамаем альтернативную гипотезу $H_1$. Это означает, что закон распределения генеральной совокупности не является нормальным."
      ],
      "text/plain": [
       "<IPython.core.display.Markdown object>"
      ]
     },
     "metadata": {},
     "output_type": "display_data"
    }
   ],
   "source": [
    "display(Markdown(f\"Так как вычисленное значение статистики критерия Пирсона ($\\chi^2 = {chi2_value_uniform}$) превышает критическое значение ($\\chi^2 = {chi2_critical_uniform}$), то мы отвергаем нулевую гипотезу $H_0$ и приниамаем альтернативную гипотезу $H_1$. Это означает, что закон распределения генеральной совокупности не является {dist}.\"))"
   ]
  },
  {
   "attachments": {},
   "cell_type": "markdown",
   "metadata": {},
   "source": [
    "## Шаг 4: Проверка гипотезы о нормальном распределение"
   ]
  },
  {
   "cell_type": "code",
   "execution_count": 60,
   "metadata": {},
   "outputs": [
    {
     "data": {
      "text/markdown": [
       "\n",
       "- $H_0$: закон распределения генеральной совокупности является нормальным.\n",
       "- $H_1$: закон распределения генеральной совокупности не является нормальным.\n"
      ],
      "text/plain": [
       "<IPython.core.display.Markdown object>"
      ]
     },
     "execution_count": 60,
     "metadata": {},
     "output_type": "execute_result"
    }
   ],
   "source": [
    "dist = \"нормальным\"\n",
    "Markdown(f\"\"\"\n",
    "- $H_0$: закон распределения генеральной совокупности является {dist}.\n",
    "- $H_1$: закон распределения генеральной совокупности не является {dist}.\n",
    "\"\"\")"
   ]
  },
  {
   "attachments": {},
   "cell_type": "markdown",
   "metadata": {},
   "source": [
    "Для проверки гипотезы о нормальности распределения воспользуемся критерием согласия хи-квадрат. Нужно вычислить теоретические (ожидаемые) частоты попадания значений в каждый интервал, если бы распределение было нормальным. Для этого воспользуемся формулой:\n",
    "$$P_i=P(x_i < X < x_{i+1})=Ф(\\frac{x_{i+1} - \\bar{x}}{S}) - Ф(\\frac{x_{i} - \\bar{x}}{S})$$\n",
    "$$f' = fP_i$$"
   ]
  },
  {
   "cell_type": "code",
   "execution_count": 62,
   "metadata": {},
   "outputs": [
    {
     "data": {
      "text/plain": [
       "0     1.901186\n",
       "1     6.365950\n",
       "2    14.569556\n",
       "3    22.719307\n",
       "4    24.154813\n",
       "5    17.510135\n",
       "6     8.649398\n",
       "7     2.910631\n",
       "Name: f', dtype: float64"
      ]
     },
     "execution_count": 62,
     "metadata": {},
     "output_type": "execute_result"
    }
   ],
   "source": [
    "p = st.norm.cdf((data[\"x_(i+1)\"] - mean) / std) - st.norm.cdf((data[\"x_i\"] - mean) / std)\n",
    "\n",
    "data[\"f'\"] = p * data[\"f\"].sum()\n",
    "data[\"f'\"]"
   ]
  },
  {
   "attachments": {},
   "cell_type": "markdown",
   "metadata": {},
   "source": [
    "Вычислим значение статистики критерия $\\chi^2$:\n",
    "\n",
    "\n",
    "$$\\chi^2 = \\sum_{i=1}^{k} \\frac{(f_i - f_i^*)^2}{f_i^*} = \\frac{(\\text{наблюдаемая частота} - \\text{ожидаемая частота})^2}{\\text{ожидаемая частота}}$$"
   ]
  },
  {
   "cell_type": "code",
   "execution_count": 69,
   "metadata": {},
   "outputs": [
    {
     "data": {
      "text/plain": [
       "0.6547506282482705"
      ]
     },
     "execution_count": 69,
     "metadata": {},
     "output_type": "execute_result"
    }
   ],
   "source": [
    "chi2_value_norm = ((data[\"f\"] - data[\"f'\"])**2 / data[\"f'\"]).sum()\n",
    "chi2_value_norm"
   ]
  },
  {
   "attachments": {},
   "cell_type": "markdown",
   "metadata": {},
   "source": [
    "#### Степени свободы:"
   ]
  },
  {
   "cell_type": "code",
   "execution_count": 65,
   "metadata": {},
   "outputs": [
    {
     "data": {
      "text/plain": [
       "3"
      ]
     },
     "execution_count": 65,
     "metadata": {},
     "output_type": "execute_result"
    }
   ],
   "source": [
    "df = (data[\"f\"] >= 5).sum() - 3\n",
    "df"
   ]
  },
  {
   "attachments": {},
   "cell_type": "markdown",
   "metadata": {},
   "source": [
    "#### Критическое значение"
   ]
  },
  {
   "cell_type": "code",
   "execution_count": 70,
   "metadata": {},
   "outputs": [
    {
     "data": {
      "text/plain": [
       "9.348403604496148"
      ]
     },
     "execution_count": 70,
     "metadata": {},
     "output_type": "execute_result"
    }
   ],
   "source": [
    "chi2_critical_norm = st.chi2.ppf(1-alpha, df=df)\n",
    "chi2_critical_norm"
   ]
  },
  {
   "cell_type": "code",
   "execution_count": 71,
   "metadata": {},
   "outputs": [
    {
     "data": {
      "text/markdown": [
       "Так как вычисленное значение статистики критерия Пирсона ($\\chi^2 = 0.6547506282482705$) превышает критическое значение ($\\chi^2 = 9.348403604496148$), то мы принимаем нулевую гипотезу $H_0$ и отвергаем альтернативную гипотезу $H_1$. Это означает, что закон распределения генеральной совокупности не является нормальным."
      ],
      "text/plain": [
       "<IPython.core.display.Markdown object>"
      ]
     },
     "metadata": {},
     "output_type": "display_data"
    }
   ],
   "source": [
    "display(Markdown(f\"Так как вычисленное значение статистики критерия Пирсона ($\\chi^2 = {chi2_value_norm}$) превышает критическое значение ($\\chi^2 = {chi2_critical_norm}$), то мы принимаем нулевую гипотезу $H_0$ и отвергаем альтернативную гипотезу $H_1$. Это означает, что закон распределения генеральной совокупности является {dist}.\"))"
   ]
  },
  {
   "attachments": {},
   "cell_type": "markdown",
   "metadata": {
    "collapsed": false
   },
   "source": [
    "## Шаг 5: Вывод"
   ]
  },
  {
   "cell_type": "code",
   "execution_count": 76,
   "metadata": {},
   "outputs": [
    {
     "data": {
      "text/markdown": [
       "## Вывод"
      ],
      "text/plain": [
       "<IPython.core.display.Markdown object>"
      ]
     },
     "metadata": {},
     "output_type": "display_data"
    },
    {
     "data": {
      "text/markdown": [
       "Таблица распределения хи-квадрат ($\\chi^2$) со степенями свободы 3 и уровнем значимости 0.025 даёт критическое значение $\\chi^2 = 9.348403604496148$."
      ],
      "text/plain": [
       "<IPython.core.display.Markdown object>"
      ]
     },
     "metadata": {},
     "output_type": "display_data"
    },
    {
     "data": {
      "text/markdown": [
       "Так как вычисленное значение статистики критерия Пирсона ($\\chi^2 = 0.6547506282482705$) превышает критическое значение ($\\chi^2 = 9.348403604496148$), то мы принимаем нулевую гипотезу $H_0$ и отвергаем альтернативную гипотезу $H_1$. Это означает, что закон распределения генеральной совокупности является нормальным."
      ],
      "text/plain": [
       "<IPython.core.display.Markdown object>"
      ]
     },
     "metadata": {},
     "output_type": "display_data"
    }
   ],
   "source": [
    "display(Markdown(\"## Вывод\"))\n",
    "display(Markdown(f\"Таблица распределения хи-квадрат ($\\chi^2$) со степенями свободы {df} и уровнем значимости {alpha} даёт критическое значение $\\chi^2 = {chi2_critical_norm}$.\"))\n",
    "display(Markdown(f\"Так как вычисленное значение статистики критерия Пирсона ($\\chi^2 = {chi2_value_norm}$) превышает критическое значение ($\\chi^2 = {chi2_critical_norm}$), то мы принимаем нулевую гипотезу $H_0$ и отвергаем альтернативную гипотезу $H_1$. Это означает, что закон распределения генеральной совокупности является {dist}.\"))"
   ]
  }
 ],
 "metadata": {
  "kernelspec": {
   "display_name": "Python 3",
   "language": "python",
   "name": "python3"
  },
  "language_info": {
   "codemirror_mode": {
    "name": "ipython",
    "version": 3
   },
   "file_extension": ".py",
   "mimetype": "text/x-python",
   "name": "python",
   "nbconvert_exporter": "python",
   "pygments_lexer": "ipython3",
   "version": "3.9.7"
  }
 },
 "nbformat": 4,
 "nbformat_minor": 0
}
