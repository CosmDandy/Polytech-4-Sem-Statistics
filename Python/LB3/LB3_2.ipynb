{
 "cells": [
  {
   "cell_type": "code",
   "execution_count": 1,
   "metadata": {
    "ExecuteTime": {
     "end_time": "2023-04-27T13:34:28.424090Z",
     "start_time": "2023-04-27T13:34:28.280740Z"
    },
    "collapsed": false
   },
   "outputs": [],
   "source": [
    "import pandas as pd\n",
    "import numpy as np\n",
    "import scipy.stats as st\n",
    "from IPython.display import display, Markdown"
   ]
  },
  {
   "attachments": {},
   "cell_type": "markdown",
   "metadata": {
    "collapsed": false
   },
   "source": [
    "# Лабораторная работа №3\n",
    "## Задание 2\n",
    "### {Фамилия Имя}, {Номер группы}, Вариант {Номер варианта}, ({Дата})"
   ]
  },
  {
   "attachments": {},
   "cell_type": "markdown",
   "metadata": {
    "collapsed": false
   },
   "source": [
    "### Данные"
   ]
  },
  {
   "attachments": {},
   "cell_type": "markdown",
   "metadata": {
    "collapsed": false
   },
   "source": [
    "Для заданного интервального выборочного ряда проверить гипотезу: закон распределения генеральной совокупности является нормальным при уровне значимости $\\alpha$\n",
    "\n",
    "**Замечание**\n",
    "Начальное значение – это левая граница первого интервала, шаг – длина каждого интервала; число интервалов определяется длиной таблицы."
   ]
  },
  {
   "cell_type": "code",
   "execution_count": 2,
   "metadata": {
    "ExecuteTime": {
     "end_time": "2023-04-27T13:34:28.461890Z",
     "start_time": "2023-04-27T13:34:28.299473Z"
    },
    "collapsed": false
   },
   "outputs": [],
   "source": [
    "freq = pd.Series([2, 9, 30, 61, 92, 107, 75, 40, 11, 4], name=\"f\")\n",
    "n = sum(freq)\n",
    "alpha = 0.05\n",
    "min_x = -2.9\n",
    "h = 1.3"
   ]
  },
  {
   "cell_type": "code",
   "execution_count": 3,
   "metadata": {
    "ExecuteTime": {
     "end_time": "2023-04-27T13:34:28.462017Z",
     "start_time": "2023-04-27T13:34:28.332800Z"
    },
    "collapsed": false
   },
   "outputs": [
    {
     "data": {
      "text/markdown": [
       "$n = 431$; $\\alpha=0.05$; min_x $= -2.9$; $h = 1.3$"
      ],
      "text/plain": [
       "<IPython.core.display.Markdown object>"
      ]
     },
     "execution_count": 3,
     "metadata": {},
     "output_type": "execute_result"
    }
   ],
   "source": [
    "Markdown(f'$n = {n}$; $\\\\alpha={alpha}$; min_x $= {min_x}$; $h = {h}$')"
   ]
  },
  {
   "cell_type": "code",
   "execution_count": 4,
   "metadata": {},
   "outputs": [
    {
     "data": {
      "text/html": [
       "<div>\n",
       "<style scoped>\n",
       "    .dataframe tbody tr th:only-of-type {\n",
       "        vertical-align: middle;\n",
       "    }\n",
       "\n",
       "    .dataframe tbody tr th {\n",
       "        vertical-align: top;\n",
       "    }\n",
       "\n",
       "    .dataframe thead th {\n",
       "        text-align: right;\n",
       "    }\n",
       "</style>\n",
       "<table border=\"1\" class=\"dataframe\">\n",
       "  <thead>\n",
       "    <tr style=\"text-align: right;\">\n",
       "      <th></th>\n",
       "      <th>x_i</th>\n",
       "      <th>x_(i+1)</th>\n",
       "      <th>f</th>\n",
       "    </tr>\n",
       "  </thead>\n",
       "  <tbody>\n",
       "    <tr>\n",
       "      <th>0</th>\n",
       "      <td>-2.9</td>\n",
       "      <td>-1.6</td>\n",
       "      <td>2</td>\n",
       "    </tr>\n",
       "    <tr>\n",
       "      <th>1</th>\n",
       "      <td>-1.6</td>\n",
       "      <td>-0.3</td>\n",
       "      <td>9</td>\n",
       "    </tr>\n",
       "    <tr>\n",
       "      <th>2</th>\n",
       "      <td>-0.3</td>\n",
       "      <td>1.0</td>\n",
       "      <td>30</td>\n",
       "    </tr>\n",
       "    <tr>\n",
       "      <th>3</th>\n",
       "      <td>1.0</td>\n",
       "      <td>2.3</td>\n",
       "      <td>61</td>\n",
       "    </tr>\n",
       "    <tr>\n",
       "      <th>4</th>\n",
       "      <td>2.3</td>\n",
       "      <td>3.6</td>\n",
       "      <td>92</td>\n",
       "    </tr>\n",
       "    <tr>\n",
       "      <th>5</th>\n",
       "      <td>3.6</td>\n",
       "      <td>4.9</td>\n",
       "      <td>107</td>\n",
       "    </tr>\n",
       "    <tr>\n",
       "      <th>6</th>\n",
       "      <td>4.9</td>\n",
       "      <td>6.2</td>\n",
       "      <td>75</td>\n",
       "    </tr>\n",
       "    <tr>\n",
       "      <th>7</th>\n",
       "      <td>6.2</td>\n",
       "      <td>7.5</td>\n",
       "      <td>40</td>\n",
       "    </tr>\n",
       "    <tr>\n",
       "      <th>8</th>\n",
       "      <td>7.5</td>\n",
       "      <td>8.8</td>\n",
       "      <td>11</td>\n",
       "    </tr>\n",
       "    <tr>\n",
       "      <th>9</th>\n",
       "      <td>8.8</td>\n",
       "      <td>10.1</td>\n",
       "      <td>4</td>\n",
       "    </tr>\n",
       "  </tbody>\n",
       "</table>\n",
       "</div>"
      ],
      "text/plain": [
       "   x_i  x_(i+1)    f\n",
       "0 -2.9     -1.6    2\n",
       "1 -1.6     -0.3    9\n",
       "2 -0.3      1.0   30\n",
       "3  1.0      2.3   61\n",
       "4  2.3      3.6   92\n",
       "5  3.6      4.9  107\n",
       "6  4.9      6.2   75\n",
       "7  6.2      7.5   40\n",
       "8  7.5      8.8   11\n",
       "9  8.8     10.1    4"
      ]
     },
     "execution_count": 4,
     "metadata": {},
     "output_type": "execute_result"
    }
   ],
   "source": [
    "data = pd.DataFrame()\n",
    "data[\"x_i\"] = [min_x + h * i for i in range(len(freq))]\n",
    "data[\"x_(i+1)\"] = [min_x + h * (i + 1) for i in range(len(freq))]\n",
    "data[\"f\"] = freq\n",
    "data"
   ]
  },
  {
   "attachments": {},
   "cell_type": "markdown",
   "metadata": {
    "collapsed": false
   },
   "source": [
    "## Шаг 1: Формулировка гипотезы"
   ]
  },
  {
   "attachments": {},
   "cell_type": "markdown",
   "metadata": {
    "collapsed": false
   },
   "source": [
    "- $H_0$: закон распределения генеральной совокупности является нормальным.\n",
    "- $H_1$: закон распределения генеральной совокупности не является нормальным."
   ]
  },
  {
   "attachments": {},
   "cell_type": "markdown",
   "metadata": {
    "collapsed": false
   },
   "source": [
    "## Шаг 2: Вычисление характеристик выборки."
   ]
  },
  {
   "attachments": {},
   "cell_type": "markdown",
   "metadata": {
    "collapsed": false
   },
   "source": [
    "### Вычисление среднего значения\n",
    "\n",
    "$$\\overline{x} = \\frac{1}{n} \\sum_{i=1}^{n} x_i$$"
   ]
  },
  {
   "cell_type": "code",
   "execution_count": 5,
   "metadata": {
    "ExecuteTime": {
     "end_time": "2023-04-27T13:34:28.463179Z",
     "start_time": "2023-04-27T13:34:28.357599Z"
    },
    "collapsed": false
   },
   "outputs": [
    {
     "data": {
      "text/plain": [
       "3.8096287703016247"
      ]
     },
     "execution_count": 5,
     "metadata": {},
     "output_type": "execute_result"
    }
   ],
   "source": [
    "def mean_interval_row(xi, xj, f):\n",
    "    x_mean = (xi + xj) / 2\n",
    "    return (x_mean * f).sum() / f.sum()\n",
    "\n",
    "mean = mean_interval_row(data[\"x_i\"], data[\"x_(i+1)\"], data[\"f\"])\n",
    "mean"
   ]
  },
  {
   "attachments": {},
   "cell_type": "markdown",
   "metadata": {
    "collapsed": false
   },
   "source": [
    "### Вычисление дисперсии\n",
    "\n",
    "$$s^2 = \\frac{1}{n-1} \\sum_{i=1}^{n} (x_i - \\overline{x})^2$$"
   ]
  },
  {
   "cell_type": "code",
   "execution_count": 6,
   "metadata": {
    "ExecuteTime": {
     "end_time": "2023-04-27T13:34:28.463904Z",
     "start_time": "2023-04-27T13:34:28.362027Z"
    },
    "collapsed": false
   },
   "outputs": [
    {
     "data": {
      "text/plain": [
       "4.503567379589899"
      ]
     },
     "execution_count": 6,
     "metadata": {},
     "output_type": "execute_result"
    }
   ],
   "source": [
    "def var_interval_row(xi, xj, f):\n",
    "    x_mean = (xi + xj) / 2\n",
    "    mean_square = ((x_mean ** 2) * f).sum() / f.sum()\n",
    "    mean = mean_interval_row(xi, xj, f)\n",
    "    return mean_square - mean ** 2\n",
    "\n",
    "variance = var_interval_row(data[\"x_i\"], data[\"x_(i+1)\"], data[\"f\"])\n",
    "variance"
   ]
  },
  {
   "attachments": {},
   "cell_type": "markdown",
   "metadata": {
    "collapsed": false
   },
   "source": [
    "### Вычисление стандартного отклонения\n",
    "\n",
    "$$s = \\sqrt{s^2}$$"
   ]
  },
  {
   "cell_type": "code",
   "execution_count": 7,
   "metadata": {
    "ExecuteTime": {
     "end_time": "2023-04-27T13:34:28.464453Z",
     "start_time": "2023-04-27T13:34:28.366774Z"
    },
    "collapsed": false
   },
   "outputs": [
    {
     "data": {
      "text/plain": [
       "2.122161016414612"
      ]
     },
     "execution_count": 7,
     "metadata": {},
     "output_type": "execute_result"
    }
   ],
   "source": [
    "std = np.sqrt(variance)\n",
    "std"
   ]
  },
  {
   "attachments": {},
   "cell_type": "markdown",
   "metadata": {
    "collapsed": false
   },
   "source": [
    "## Шаг 3: Проверка гипотезы о нормальности распределения\n",
    "\n",
    "Для проверки гипотезы о нормальности распределения воспользуемся критерием согласия хи-квадрат. Нужно вычислить теоретические (ожидаемые) частоты попадания значений в каждый интервал, если бы распределение было нормальным. Для этого воспользуемся формулой:\n",
    "$$P_i=P(x_i < X < x_{i+1})=Ф(\\frac{x_{i+1} - \\bar{x}}{S}) - Ф(\\frac{x_{i} - \\bar{x}}{S})$$\n",
    "$$f' = fP_i$$"
   ]
  },
  {
   "cell_type": "code",
   "execution_count": 8,
   "metadata": {},
   "outputs": [
    {
     "data": {
      "text/plain": [
       "0      1.989322\n",
       "1      9.051664\n",
       "2     28.600693\n",
       "3     62.783364\n",
       "4     95.779742\n",
       "5    101.564606\n",
       "6     74.862071\n",
       "7     38.350836\n",
       "8     13.650848\n",
       "9      3.374717\n",
       "Name: f', dtype: float64"
      ]
     },
     "execution_count": 8,
     "metadata": {},
     "output_type": "execute_result"
    }
   ],
   "source": [
    "p = st.norm.cdf((data[\"x_(i+1)\"] - mean) / std) - st.norm.cdf((data[\"x_i\"] - mean) / std)\n",
    "\n",
    "assert np.isclose(p.sum(), 1, rtol=.01), \"Сумма теоретических оснований должна быть равна 1.\"\n",
    "\n",
    "data[\"f'\"] = p * data[\"f\"].sum()\n",
    "data[\"f'\"]"
   ]
  },
  {
   "attachments": {},
   "cell_type": "markdown",
   "metadata": {
    "collapsed": false
   },
   "source": [
    "## Шаг 4: Вычисление значения статистики критерия\n",
    "\n",
    "Вычислим значение статистики критерия $\\chi^2$:\n",
    "\n",
    "\n",
    "$$\\chi^2 = \\sum_{i=1}^{k} \\frac{(f_i - f_i^*)^2}{f_i^*} = \\frac{(\\text{наблюдаемая частота} - \\text{ожидаемая частота})^2}{\\text{ожидаемая частота}}$$"
   ]
  },
  {
   "cell_type": "code",
   "execution_count": 9,
   "metadata": {
    "ExecuteTime": {
     "end_time": "2023-04-27T13:34:28.468764Z",
     "start_time": "2023-04-27T13:34:28.468722Z"
    },
    "collapsed": false
   },
   "outputs": [
    {
     "data": {
      "text/plain": [
       "1.2613069812716673"
      ]
     },
     "execution_count": 9,
     "metadata": {},
     "output_type": "execute_result"
    }
   ],
   "source": [
    "chi2_value = ((data[\"f\"] - data[\"f'\"])**2 / data[\"f'\"]).sum()\n",
    "chi2_value"
   ]
  },
  {
   "attachments": {},
   "cell_type": "markdown",
   "metadata": {
    "collapsed": false
   },
   "source": [
    "## Шаг 5: Определение критического значения и принятие решения"
   ]
  },
  {
   "attachments": {},
   "cell_type": "markdown",
   "metadata": {
    "collapsed": false
   },
   "source": [
    "#### Степени свободы:"
   ]
  },
  {
   "cell_type": "code",
   "execution_count": 10,
   "metadata": {
    "ExecuteTime": {
     "end_time": "2023-04-27T13:35:12.092276Z",
     "start_time": "2023-04-27T13:35:12.084227Z"
    },
    "collapsed": false
   },
   "outputs": [
    {
     "data": {
      "text/plain": [
       "5"
      ]
     },
     "execution_count": 10,
     "metadata": {},
     "output_type": "execute_result"
    }
   ],
   "source": [
    "# два параметра у норм. распр. мат. ожидание и стандартное отклонение \n",
    "df = (data[\"f\"] >= 5).sum() - 3\n",
    "df"
   ]
  },
  {
   "attachments": {},
   "cell_type": "markdown",
   "metadata": {},
   "source": [
    "#### Критическое значение"
   ]
  },
  {
   "cell_type": "code",
   "execution_count": 11,
   "metadata": {},
   "outputs": [
    {
     "data": {
      "text/plain": [
       "11.070497693516351"
      ]
     },
     "execution_count": 11,
     "metadata": {},
     "output_type": "execute_result"
    }
   ],
   "source": [
    "chi2_critical = st.chi2.ppf(1-alpha, df=df)\n",
    "chi2_critical"
   ]
  },
  {
   "cell_type": "code",
   "execution_count": 12,
   "metadata": {},
   "outputs": [
    {
     "data": {
      "text/markdown": [
       "## Вывод"
      ],
      "text/plain": [
       "<IPython.core.display.Markdown object>"
      ]
     },
     "metadata": {},
     "output_type": "display_data"
    },
    {
     "data": {
      "text/markdown": [
       "Таблица распределения хи-квадрат ($\\chi^2$) со степенями свободы 5 и уровнем значимости 0.05 даёт критическое значение $\\chi^2 = 11.070497693516351$."
      ],
      "text/plain": [
       "<IPython.core.display.Markdown object>"
      ]
     },
     "metadata": {},
     "output_type": "display_data"
    },
    {
     "data": {
      "text/markdown": [
       "Так как вычисленное значение статистики критерия Пирсона ($\\chi^2 = 1.2613069812716673$) не превышает критическое значение ($\\chi^2 = 11.070497693516351$), то мы принимаем нулевую гипотезу $H_0$ и отвергаем альтернативную гипотезу $H_1$. Это означает, что закон распределения генеральной совокупности является нормальным."
      ],
      "text/plain": [
       "<IPython.core.display.Markdown object>"
      ]
     },
     "metadata": {},
     "output_type": "display_data"
    }
   ],
   "source": [
    "from IPython.display import Markdown, display\n",
    "\n",
    "display(Markdown(\"## Вывод\"))\n",
    "display(Markdown(f\"Таблица распределения хи-квадрат ($\\chi^2$) со степенями свободы {df} и уровнем значимости {alpha} даёт критическое значение $\\chi^2 = {chi2_critical}$.\"))\n",
    "display(Markdown(f\"Так как вычисленное значение статистики критерия Пирсона ($\\chi^2 = {chi2_value}$) не превышает критическое значение ($\\chi^2 = {chi2_critical}$), то мы принимаем нулевую гипотезу $H_0$ и отвергаем альтернативную гипотезу $H_1$. Это означает, что закон распределения генеральной совокупности является нормальным.\"))"
   ]
  }
 ],
 "metadata": {
  "kernelspec": {
   "display_name": "Python 3",
   "language": "python",
   "name": "python3"
  },
  "language_info": {
   "codemirror_mode": {
    "name": "ipython",
    "version": 3
   },
   "file_extension": ".py",
   "mimetype": "text/x-python",
   "name": "python",
   "nbconvert_exporter": "python",
   "pygments_lexer": "ipython3",
   "version": "3.11.3"
  }
 },
 "nbformat": 4,
 "nbformat_minor": 0
}
