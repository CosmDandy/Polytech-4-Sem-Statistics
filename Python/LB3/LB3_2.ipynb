{
 "cells": [
  {
   "cell_type": "code",
   "execution_count": 49,
   "outputs": [],
   "source": [
    "import pandas as pd\n",
    "import numpy as np\n",
    "import scipy as sp"
   ],
   "metadata": {
    "collapsed": false,
    "ExecuteTime": {
     "start_time": "2023-04-27T13:34:28.280740Z",
     "end_time": "2023-04-27T13:34:28.424090Z"
    }
   }
  },
  {
   "cell_type": "markdown",
   "source": [
    "# Лабораторная работа №3\n",
    "## Задание 2\n",
    "## Кондрашин Тимофей 211-365 Вариант 11 (27.04.2023)"
   ],
   "metadata": {
    "collapsed": false
   }
  },
  {
   "cell_type": "markdown",
   "source": [
    "### Данные"
   ],
   "metadata": {
    "collapsed": false
   }
  },
  {
   "cell_type": "markdown",
   "source": [
    "Для заданного интервального выборочного ряда проверить гипотезу: закон распределения генеральной совокупности является нормальным при уровне значимости $\\alpha=0.10$\n",
    "\n",
    "**Замечание**\n",
    "Начальное значение – это левая граница первого интервала, шаг – длина каждого интервала; число интервалов определяется длиной таблицы."
   ],
   "metadata": {
    "collapsed": false
   }
  },
  {
   "cell_type": "code",
   "execution_count": 50,
   "outputs": [
    {
     "data": {
      "text/plain": "   0   1   2   3   4   5   6   7   8  9\n0  2  14  27  55  74  98  90  34  14  7",
      "text/html": "<div>\n<style scoped>\n    .dataframe tbody tr th:only-of-type {\n        vertical-align: middle;\n    }\n\n    .dataframe tbody tr th {\n        vertical-align: top;\n    }\n\n    .dataframe thead th {\n        text-align: right;\n    }\n</style>\n<table border=\"1\" class=\"dataframe\">\n  <thead>\n    <tr style=\"text-align: right;\">\n      <th></th>\n      <th>0</th>\n      <th>1</th>\n      <th>2</th>\n      <th>3</th>\n      <th>4</th>\n      <th>5</th>\n      <th>6</th>\n      <th>7</th>\n      <th>8</th>\n      <th>9</th>\n    </tr>\n  </thead>\n  <tbody>\n    <tr>\n      <th>0</th>\n      <td>2</td>\n      <td>14</td>\n      <td>27</td>\n      <td>55</td>\n      <td>74</td>\n      <td>98</td>\n      <td>90</td>\n      <td>34</td>\n      <td>14</td>\n      <td>7</td>\n    </tr>\n  </tbody>\n</table>\n</div>"
     },
     "execution_count": 50,
     "metadata": {},
     "output_type": "execute_result"
    }
   ],
   "source": [
    "data = pd.DataFrame([2, 14, 27, 55, 74, 98, 90, 34, 14, 7])\n",
    "n = len(data)\n",
    "a = 0.10\n",
    "min_x = 13.6\n",
    "h = 1.1\n",
    "\n",
    "data.T"
   ],
   "metadata": {
    "collapsed": false,
    "ExecuteTime": {
     "start_time": "2023-04-27T13:34:28.299473Z",
     "end_time": "2023-04-27T13:34:28.461890Z"
    }
   }
  },
  {
   "cell_type": "code",
   "execution_count": 51,
   "outputs": [
    {
     "name": "stdout",
     "output_type": "stream",
     "text": [
      "n = 10, a = 0.1, min_x = 13.6, h = 1.1\n"
     ]
    }
   ],
   "source": [
    "print(f'n = {n}, a = {a}, min_x = {min_x}, h = {h}')"
   ],
   "metadata": {
    "collapsed": false,
    "ExecuteTime": {
     "start_time": "2023-04-27T13:34:28.332800Z",
     "end_time": "2023-04-27T13:34:28.462017Z"
    }
   }
  },
  {
   "cell_type": "markdown",
   "source": [
    "## Шаг 1: Формулировка гипотезы"
   ],
   "metadata": {
    "collapsed": false
   }
  },
  {
   "cell_type": "markdown",
   "source": [
    "$H_0$: закон распределения генеральной совокупности является нормальным.\n",
    "$H_1$: закон распределения генеральной совокупности не является нормальным."
   ],
   "metadata": {
    "collapsed": false
   }
  },
  {
   "cell_type": "markdown",
   "source": [
    "## Шаг 2: Вычисление характеристик выборки."
   ],
   "metadata": {
    "collapsed": false
   }
  },
  {
   "cell_type": "markdown",
   "source": [
    "### Вычисление среднего значения\n",
    "\n",
    "$$\\overline{x} = \\frac{1}{n} \\sum_{i=1}^{n} x_i$$"
   ],
   "metadata": {
    "collapsed": false
   }
  },
  {
   "cell_type": "code",
   "execution_count": 53,
   "outputs": [
    {
     "data": {
      "text/plain": "0    41.5\ndtype: float64"
     },
     "execution_count": 53,
     "metadata": {},
     "output_type": "execute_result"
    }
   ],
   "source": [
    "mean = data.mean()\n",
    "mean"
   ],
   "metadata": {
    "collapsed": false,
    "ExecuteTime": {
     "start_time": "2023-04-27T13:34:28.357599Z",
     "end_time": "2023-04-27T13:34:28.463179Z"
    }
   }
  },
  {
   "cell_type": "markdown",
   "source": [
    "### Вычисление дисперсии\n",
    "\n",
    "$$s^2 = \\frac{1}{n-1} \\sum_{i=1}^{n} (x_i - \\overline{x})^2$$"
   ],
   "metadata": {
    "collapsed": false
   }
  },
  {
   "cell_type": "code",
   "execution_count": 54,
   "outputs": [
    {
     "data": {
      "text/plain": "0    1256.944444\ndtype: float64"
     },
     "execution_count": 54,
     "metadata": {},
     "output_type": "execute_result"
    }
   ],
   "source": [
    "variance = data.var()\n",
    "variance"
   ],
   "metadata": {
    "collapsed": false,
    "ExecuteTime": {
     "start_time": "2023-04-27T13:34:28.362027Z",
     "end_time": "2023-04-27T13:34:28.463904Z"
    }
   }
  },
  {
   "cell_type": "markdown",
   "source": [
    "### Вычисление стандартного отклонения\n",
    "\n",
    "$$s = \\sqrt{s^2}$$"
   ],
   "metadata": {
    "collapsed": false
   }
  },
  {
   "cell_type": "code",
   "execution_count": 55,
   "outputs": [
    {
     "data": {
      "text/plain": "0    35.453412\ndtype: float64"
     },
     "execution_count": 55,
     "metadata": {},
     "output_type": "execute_result"
    }
   ],
   "source": [
    "std = data.std()\n",
    "std"
   ],
   "metadata": {
    "collapsed": false,
    "ExecuteTime": {
     "start_time": "2023-04-27T13:34:28.366774Z",
     "end_time": "2023-04-27T13:34:28.464453Z"
    }
   }
  },
  {
   "cell_type": "markdown",
   "source": [
    "## Шаг 3: Проверка гипотезы о нормальности распределения\n",
    "\n",
    "Для проверки гипотезы о нормальности распределения воспользуемся критерием согласия хи-квадрат. Сначала необходимо разбить интервальный ряд на интервалы.\n",
    "\n",
    "Для этого найдём количество интервалов:\n",
    "\n",
    "$$k = \\lceil \\log_2 n + 1 \\rceil$$"
   ],
   "metadata": {
    "collapsed": false
   }
  },
  {
   "cell_type": "code",
   "execution_count": 56,
   "outputs": [
    {
     "data": {
      "text/plain": "5"
     },
     "execution_count": 56,
     "metadata": {},
     "output_type": "execute_result"
    }
   ],
   "source": [
    "k = int(np.ceil(np.log2(n) + 1))\n",
    "k"
   ],
   "metadata": {
    "collapsed": false,
    "ExecuteTime": {
     "start_time": "2023-04-27T13:34:28.371354Z",
     "end_time": "2023-04-27T13:34:28.464979Z"
    }
   }
  },
  {
   "cell_type": "markdown",
   "source": [
    "Теперь можно разбить интервальный ряд на интервалы:\n",
    "\n",
    "$$\\Delta = \\frac{max(x) - min(x)}{k}$$"
   ],
   "metadata": {
    "collapsed": false
   }
  },
  {
   "cell_type": "code",
   "execution_count": 57,
   "outputs": [
    {
     "data": {
      "text/plain": "19.2"
     },
     "execution_count": 57,
     "metadata": {},
     "output_type": "execute_result"
    }
   ],
   "source": [
    "delta = (data.max()[0] - data.min()[0]) / k\n",
    "delta"
   ],
   "metadata": {
    "collapsed": false,
    "ExecuteTime": {
     "start_time": "2023-04-27T13:34:28.377836Z",
     "end_time": "2023-04-27T13:34:28.465509Z"
    }
   }
  },
  {
   "cell_type": "markdown",
   "source": [
    "Теперь можно построить интервальный ряд:"
   ],
   "metadata": {
    "collapsed": false
   }
  },
  {
   "cell_type": "code",
   "execution_count": 58,
   "outputs": [
    {
     "data": {
      "text/plain": "[[13.6, 32.8],\n [32.8, 52.0],\n [52.0, 71.19999999999999],\n [71.19999999999999, 90.39999999999999],\n [90.39999999999999, 109.6]]"
     },
     "execution_count": 58,
     "metadata": {},
     "output_type": "execute_result"
    }
   ],
   "source": [
    "intervals = []\n",
    "for i in range(k):\n",
    "    intervals.append([min_x + i * delta, min_x + (i + 1) * delta])\n",
    "intervals"
   ],
   "metadata": {
    "collapsed": false,
    "ExecuteTime": {
     "start_time": "2023-04-27T13:34:28.382654Z",
     "end_time": "2023-04-27T13:34:28.466073Z"
    }
   }
  },
  {
   "cell_type": "markdown",
   "source": [
    "Далее, необходимо вычислить выборочные частоты попадания значений в каждый интервал:\n",
    "\n",
    "$$p_i = \\frac{n_i}{n}$$"
   ],
   "metadata": {
    "collapsed": false
   }
  },
  {
   "cell_type": "code",
   "execution_count": 59,
   "outputs": [
    {
     "data": {
      "text/plain": "[0.3, 0.1, 0.1, 0.2, 0.1]"
     },
     "execution_count": 59,
     "metadata": {},
     "output_type": "execute_result"
    }
   ],
   "source": [
    "p = []\n",
    "for i in range(k):\n",
    "    p.append(len(data[(data[0] >= min_x + i * delta) & (data[0] < min_x + (i + 1) * delta)]) / n)\n",
    "p"
   ],
   "metadata": {
    "collapsed": false,
    "ExecuteTime": {
     "start_time": "2023-04-27T13:34:28.389554Z",
     "end_time": "2023-04-27T13:34:28.466599Z"
    }
   }
  },
  {
   "cell_type": "markdown",
   "source": [
    "Затем нужно вычислить теоретические (ожидаемые) частоты попадания значений в каждый интервал, если бы распределение было нормальным. Для этого воспользуемся формулой:\n",
    "$$P_i = \\Phi \\left( \\frac{x_{i+1} - \\overline{x}}{s} \\right) - \\Phi \\left( \\frac{x_{i} - \\overline{x}}{s} \\right)$$"
   ],
   "metadata": {
    "collapsed": false
   }
  },
  {
   "cell_type": "code",
   "execution_count": 60,
   "outputs": [
    {
     "data": {
      "text/plain": "[array([0.1874202]),\n array([0.21337103]),\n array([0.18245844]),\n array([0.11718923]),\n array([0.05652848])]"
     },
     "execution_count": 60,
     "metadata": {},
     "output_type": "execute_result"
    }
   ],
   "source": [
    "P = []\n",
    "for i in range(k):\n",
    "    P.append(sp.stats.norm.cdf((intervals[i][1] - mean) / std) - sp.stats.norm.cdf((intervals[i][0] - mean) / std))\n",
    "P"
   ],
   "metadata": {
    "collapsed": false,
    "ExecuteTime": {
     "start_time": "2023-04-27T13:34:28.394386Z",
     "end_time": "2023-04-27T13:34:28.468163Z"
    }
   }
  },
  {
   "cell_type": "code",
   "execution_count": 61,
   "outputs": [
    {
     "data": {
      "text/plain": "                               0          1          2          3           4\nmin                     13.60000  32.800000  52.000000  71.200000   90.400000\nmax                     32.80000  52.000000  71.200000  90.400000  109.600000\np (выборочные частоты)   0.30000   0.100000   0.100000   0.200000    0.100000\nP (ожидаемые частоты)    0.18742   0.213371   0.182458   0.117189    0.056528",
      "text/html": "<div>\n<style scoped>\n    .dataframe tbody tr th:only-of-type {\n        vertical-align: middle;\n    }\n\n    .dataframe tbody tr th {\n        vertical-align: top;\n    }\n\n    .dataframe thead th {\n        text-align: right;\n    }\n</style>\n<table border=\"1\" class=\"dataframe\">\n  <thead>\n    <tr style=\"text-align: right;\">\n      <th></th>\n      <th>0</th>\n      <th>1</th>\n      <th>2</th>\n      <th>3</th>\n      <th>4</th>\n    </tr>\n  </thead>\n  <tbody>\n    <tr>\n      <th>min</th>\n      <td>13.60000</td>\n      <td>32.800000</td>\n      <td>52.000000</td>\n      <td>71.200000</td>\n      <td>90.400000</td>\n    </tr>\n    <tr>\n      <th>max</th>\n      <td>32.80000</td>\n      <td>52.000000</td>\n      <td>71.200000</td>\n      <td>90.400000</td>\n      <td>109.600000</td>\n    </tr>\n    <tr>\n      <th>p (выборочные частоты)</th>\n      <td>0.30000</td>\n      <td>0.100000</td>\n      <td>0.100000</td>\n      <td>0.200000</td>\n      <td>0.100000</td>\n    </tr>\n    <tr>\n      <th>P (ожидаемые частоты)</th>\n      <td>0.18742</td>\n      <td>0.213371</td>\n      <td>0.182458</td>\n      <td>0.117189</td>\n      <td>0.056528</td>\n    </tr>\n  </tbody>\n</table>\n</div>"
     },
     "execution_count": 61,
     "metadata": {},
     "output_type": "execute_result"
    }
   ],
   "source": [
    "intervals_t = pd.DataFrame(intervals, columns=['min', 'max'])\n",
    "p_t = pd.DataFrame(p, columns=['p (выборочные частоты)'])\n",
    "P_t = pd.DataFrame(P, columns=['P (ожидаемые частоты)'])\n",
    "intervals_t.join(p_t).join(P_t).T"
   ],
   "metadata": {
    "collapsed": false,
    "ExecuteTime": {
     "start_time": "2023-04-27T13:34:28.400433Z",
     "end_time": "2023-04-27T13:34:28.468212Z"
    }
   }
  },
  {
   "cell_type": "markdown",
   "source": [
    "## Шаг 4: Вычисление значения статистики критерия\n",
    "\n",
    "Вычислим значение статистики критерия $\\chi^2$:\n",
    "\n",
    "$$\\chi^2 = \\sum_{i=1}^{k} \\frac{(p_i - P_i)^2}{P_i}$$"
   ],
   "metadata": {
    "collapsed": false
   }
  },
  {
   "cell_type": "code",
   "execution_count": 62,
   "outputs": [
    {
     "data": {
      "text/plain": "2.4610578545120574"
     },
     "execution_count": 62,
     "metadata": {},
     "output_type": "execute_result"
    }
   ],
   "source": [
    "chi2 = ((np.array(p) - np.array(P)) ** 2 / np.array(P)).sum()\n",
    "chi2"
   ],
   "metadata": {
    "collapsed": false,
    "ExecuteTime": {
     "start_time": "2023-04-27T13:34:28.468722Z",
     "end_time": "2023-04-27T13:34:28.468764Z"
    }
   }
  },
  {
   "cell_type": "markdown",
   "source": [
    "## Шаг 5: Определение критического значения и принятие решения"
   ],
   "metadata": {
    "collapsed": false
   }
  },
  {
   "cell_type": "markdown",
   "source": [
    "#### Уровень значимости:\n",
    "a = 0.1"
   ],
   "metadata": {
    "collapsed": false
   }
  },
  {
   "cell_type": "code",
   "execution_count": 65,
   "outputs": [
    {
     "data": {
      "text/plain": "0.1"
     },
     "execution_count": 65,
     "metadata": {},
     "output_type": "execute_result"
    }
   ],
   "source": [
    "a"
   ],
   "metadata": {
    "collapsed": false,
    "ExecuteTime": {
     "start_time": "2023-04-27T13:35:07.585192Z",
     "end_time": "2023-04-27T13:35:07.588568Z"
    }
   }
  },
  {
   "cell_type": "markdown",
   "source": [
    "#### Степени свободы:\n",
    "$$df = k - 1$$\n",
    "где\n",
    "- $k$ - количество интервалов,\n",
    "- $p$ - количество параметров распределения, которые были оценены по выборке."
   ],
   "metadata": {
    "collapsed": false
   }
  },
  {
   "cell_type": "code",
   "execution_count": 66,
   "outputs": [
    {
     "data": {
      "text/plain": "4"
     },
     "execution_count": 66,
     "metadata": {},
     "output_type": "execute_result"
    }
   ],
   "source": [
    "df = k - 1\n",
    "df"
   ],
   "metadata": {
    "collapsed": false,
    "ExecuteTime": {
     "start_time": "2023-04-27T13:35:12.084227Z",
     "end_time": "2023-04-27T13:35:12.092276Z"
    }
   }
  },
  {
   "cell_type": "markdown",
   "source": [
    "Таблица распределения хи-квадрат ($\\chi^2$) со степенями свободы 4 и уровнем значимости 0.1 даёт критическое значение $\\chi^2 = 7.779$.\n",
    "\n",
    "Так как вычисленное значение статистики критерия Пирсона ($\\chi^2 = 2.4610578545120574$) не превышает критическое значение ($\\chi^2 = 7.779$), то мы принимаем нулевую гипотезу $H_0$ и отвергаем альтернативную гипотезу $H_1$. Это означает, что закон распределения генеральной совокупности является нормальным.\n"
   ],
   "metadata": {
    "collapsed": false
   }
  },
  {
   "cell_type": "markdown",
   "source": [
    "## Шаг 6: Вывод\n",
    "\n",
    "Таким образом, на основе данных выборки мы можем с уверенностью утверждать, что закон распределения генеральной совокупности является нормальным."
   ],
   "metadata": {
    "collapsed": false
   }
  },
  {
   "cell_type": "code",
   "execution_count": 64,
   "outputs": [],
   "source": [],
   "metadata": {
    "collapsed": false,
    "ExecuteTime": {
     "start_time": "2023-04-27T13:34:28.899206Z",
     "end_time": "2023-04-27T13:34:28.900840Z"
    }
   }
  }
 ],
 "metadata": {
  "kernelspec": {
   "display_name": "Python 3",
   "language": "python",
   "name": "python3"
  },
  "language_info": {
   "codemirror_mode": {
    "name": "ipython",
    "version": 2
   },
   "file_extension": ".py",
   "mimetype": "text/x-python",
   "name": "python",
   "nbconvert_exporter": "python",
   "pygments_lexer": "ipython2",
   "version": "2.7.6"
  }
 },
 "nbformat": 4,
 "nbformat_minor": 0
}
