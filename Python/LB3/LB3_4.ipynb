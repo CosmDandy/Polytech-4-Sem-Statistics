{
 "cells": [
  {
   "cell_type": "code",
   "execution_count": 2,
   "metadata": {
    "ExecuteTime": {
     "end_time": "2023-04-27T13:34:28.424090Z",
     "start_time": "2023-04-27T13:34:28.280740Z"
    },
    "collapsed": false
   },
   "outputs": [],
   "source": [
    "import pandas as pd\n",
    "import numpy as np\n",
    "import scipy.stats as st\n",
    "from IPython.display import display, Markdown"
   ]
  },
  {
   "attachments": {},
   "cell_type": "markdown",
   "metadata": {
    "collapsed": false
   },
   "source": [
    "# Лабораторная работа №3\n",
    "## Задание 4\n",
    "### {Фамилия Имя}, {Номер группы}, Вариант {Номер варианта}, ({Дата})"
   ]
  },
  {
   "attachments": {},
   "cell_type": "markdown",
   "metadata": {
    "collapsed": false
   },
   "source": [
    "### Данные"
   ]
  },
  {
   "attachments": {},
   "cell_type": "markdown",
   "metadata": {
    "collapsed": false
   },
   "source": [
    "Для заданного интервального выборочного ряда проверить гипотезу: закон распределения генеральной совокупности является равномерным при уровне значимости $\\alpha$\n",
    "\n",
    "**Замечание**\n",
    "Начальное значение – это левая граница первого интервала, шаг – длина каждого интервала; число интервалов определяется длиной таблицы."
   ]
  },
  {
   "cell_type": "code",
   "execution_count": 3,
   "metadata": {
    "ExecuteTime": {
     "end_time": "2023-04-27T13:34:28.461890Z",
     "start_time": "2023-04-27T13:34:28.299473Z"
    },
    "collapsed": false
   },
   "outputs": [],
   "source": [
    "freq = pd.Series([38, 37, 40, 41, 43, 42, 31, 45, 34, 24], name=\"f\")\n",
    "n = sum(freq)\n",
    "alpha = 0.05\n",
    "min_x = 8.4\n",
    "h = 2.2"
   ]
  },
  {
   "cell_type": "code",
   "execution_count": 4,
   "metadata": {
    "ExecuteTime": {
     "end_time": "2023-04-27T13:34:28.462017Z",
     "start_time": "2023-04-27T13:34:28.332800Z"
    },
    "collapsed": false
   },
   "outputs": [
    {
     "data": {
      "text/markdown": [
       "$n = 375$; $\\alpha=0.05$; min_x $= 8.4$; $h = 2.2$"
      ],
      "text/plain": [
       "<IPython.core.display.Markdown object>"
      ]
     },
     "execution_count": 4,
     "metadata": {},
     "output_type": "execute_result"
    }
   ],
   "source": [
    "Markdown(f'$n = {n}$; $\\\\alpha={alpha}$; min_x $= {min_x}$; $h = {h}$')"
   ]
  },
  {
   "cell_type": "code",
   "execution_count": 5,
   "metadata": {},
   "outputs": [
    {
     "data": {
      "text/html": [
       "<div>\n",
       "<style scoped>\n",
       "    .dataframe tbody tr th:only-of-type {\n",
       "        vertical-align: middle;\n",
       "    }\n",
       "\n",
       "    .dataframe tbody tr th {\n",
       "        vertical-align: top;\n",
       "    }\n",
       "\n",
       "    .dataframe thead th {\n",
       "        text-align: right;\n",
       "    }\n",
       "</style>\n",
       "<table border=\"1\" class=\"dataframe\">\n",
       "  <thead>\n",
       "    <tr style=\"text-align: right;\">\n",
       "      <th></th>\n",
       "      <th>x_i</th>\n",
       "      <th>x_(i+1)</th>\n",
       "      <th>f</th>\n",
       "    </tr>\n",
       "  </thead>\n",
       "  <tbody>\n",
       "    <tr>\n",
       "      <th>0</th>\n",
       "      <td>8.4</td>\n",
       "      <td>10.6</td>\n",
       "      <td>38</td>\n",
       "    </tr>\n",
       "    <tr>\n",
       "      <th>1</th>\n",
       "      <td>10.6</td>\n",
       "      <td>12.8</td>\n",
       "      <td>37</td>\n",
       "    </tr>\n",
       "    <tr>\n",
       "      <th>2</th>\n",
       "      <td>12.8</td>\n",
       "      <td>15.0</td>\n",
       "      <td>40</td>\n",
       "    </tr>\n",
       "    <tr>\n",
       "      <th>3</th>\n",
       "      <td>15.0</td>\n",
       "      <td>17.2</td>\n",
       "      <td>41</td>\n",
       "    </tr>\n",
       "    <tr>\n",
       "      <th>4</th>\n",
       "      <td>17.2</td>\n",
       "      <td>19.4</td>\n",
       "      <td>43</td>\n",
       "    </tr>\n",
       "    <tr>\n",
       "      <th>5</th>\n",
       "      <td>19.4</td>\n",
       "      <td>21.6</td>\n",
       "      <td>42</td>\n",
       "    </tr>\n",
       "    <tr>\n",
       "      <th>6</th>\n",
       "      <td>21.6</td>\n",
       "      <td>23.8</td>\n",
       "      <td>31</td>\n",
       "    </tr>\n",
       "    <tr>\n",
       "      <th>7</th>\n",
       "      <td>23.8</td>\n",
       "      <td>26.0</td>\n",
       "      <td>45</td>\n",
       "    </tr>\n",
       "    <tr>\n",
       "      <th>8</th>\n",
       "      <td>26.0</td>\n",
       "      <td>28.2</td>\n",
       "      <td>34</td>\n",
       "    </tr>\n",
       "    <tr>\n",
       "      <th>9</th>\n",
       "      <td>28.2</td>\n",
       "      <td>30.4</td>\n",
       "      <td>24</td>\n",
       "    </tr>\n",
       "  </tbody>\n",
       "</table>\n",
       "</div>"
      ],
      "text/plain": [
       "    x_i  x_(i+1)   f\n",
       "0   8.4     10.6  38\n",
       "1  10.6     12.8  37\n",
       "2  12.8     15.0  40\n",
       "3  15.0     17.2  41\n",
       "4  17.2     19.4  43\n",
       "5  19.4     21.6  42\n",
       "6  21.6     23.8  31\n",
       "7  23.8     26.0  45\n",
       "8  26.0     28.2  34\n",
       "9  28.2     30.4  24"
      ]
     },
     "execution_count": 5,
     "metadata": {},
     "output_type": "execute_result"
    }
   ],
   "source": [
    "data = pd.DataFrame()\n",
    "data[\"x_i\"] = [min_x + h * i for i in range(len(freq))]\n",
    "data[\"x_(i+1)\"] = [min_x + h * (i + 1) for i in range(len(freq))]\n",
    "data[\"f\"] = freq\n",
    "data"
   ]
  },
  {
   "attachments": {},
   "cell_type": "markdown",
   "metadata": {
    "collapsed": false
   },
   "source": [
    "## Шаг 1: Формулировка гипотезы"
   ]
  },
  {
   "attachments": {},
   "cell_type": "markdown",
   "metadata": {
    "collapsed": false
   },
   "source": [
    "- $H_0$: закон распределения генеральной совокупности является равномерным.\n",
    "- $H_1$: закон распределения генеральной совокупности не является равномерным."
   ]
  },
  {
   "attachments": {},
   "cell_type": "markdown",
   "metadata": {
    "collapsed": false
   },
   "source": [
    "## Шаг 2: Вычисление характеристик выборки."
   ]
  },
  {
   "attachments": {},
   "cell_type": "markdown",
   "metadata": {
    "collapsed": false
   },
   "source": [
    "### Вычисление среднего значения\n",
    "\n",
    "$$\\overline{x} = \\frac{1}{n} \\sum_{i=1}^{n} x_i$$"
   ]
  },
  {
   "cell_type": "code",
   "execution_count": 6,
   "metadata": {
    "ExecuteTime": {
     "end_time": "2023-04-27T13:34:28.463179Z",
     "start_time": "2023-04-27T13:34:28.357599Z"
    },
    "collapsed": false
   },
   "outputs": [
    {
     "data": {
      "text/plain": [
       "18.9512"
      ]
     },
     "execution_count": 6,
     "metadata": {},
     "output_type": "execute_result"
    }
   ],
   "source": [
    "def mean_interval_row(xi, xj, f):\n",
    "    x_mean = (xi + xj) / 2\n",
    "    return (x_mean * f).sum() / f.sum()\n",
    "\n",
    "mean = mean_interval_row(data[\"x_i\"], data[\"x_(i+1)\"], data[\"f\"])\n",
    "mean"
   ]
  },
  {
   "attachments": {},
   "cell_type": "markdown",
   "metadata": {
    "collapsed": false
   },
   "source": [
    "### Вычисление дисперсии\n",
    "\n",
    "$$s^2 = \\frac{1}{n-1} \\sum_{i=1}^{n} (x_i - \\overline{x})^2$$"
   ]
  },
  {
   "cell_type": "code",
   "execution_count": 7,
   "metadata": {
    "ExecuteTime": {
     "end_time": "2023-04-27T13:34:28.463904Z",
     "start_time": "2023-04-27T13:34:28.362027Z"
    },
    "collapsed": false
   },
   "outputs": [
    {
     "data": {
      "text/plain": [
       "36.450285226666665"
      ]
     },
     "execution_count": 7,
     "metadata": {},
     "output_type": "execute_result"
    }
   ],
   "source": [
    "def var_interval_row(xi, xj, f):\n",
    "    x_mean = (xi + xj) / 2\n",
    "    mean_square = ((x_mean ** 2) * f).sum() / f.sum()\n",
    "    mean = mean_interval_row(xi, xj, f)\n",
    "    return mean_square - mean ** 2\n",
    "\n",
    "variance = var_interval_row(data[\"x_i\"], data[\"x_(i+1)\"], data[\"f\"])\n",
    "variance"
   ]
  },
  {
   "attachments": {},
   "cell_type": "markdown",
   "metadata": {
    "collapsed": false
   },
   "source": [
    "### Вычисление стандартного отклонения\n",
    "\n",
    "$$s = \\sqrt{s^2}$$"
   ]
  },
  {
   "cell_type": "code",
   "execution_count": 8,
   "metadata": {
    "ExecuteTime": {
     "end_time": "2023-04-27T13:34:28.464453Z",
     "start_time": "2023-04-27T13:34:28.366774Z"
    },
    "collapsed": false
   },
   "outputs": [
    {
     "data": {
      "text/plain": [
       "6.0374071609149125"
      ]
     },
     "execution_count": 8,
     "metadata": {},
     "output_type": "execute_result"
    }
   ],
   "source": [
    "std = np.sqrt(variance)\n",
    "std"
   ]
  },
  {
   "attachments": {},
   "cell_type": "markdown",
   "metadata": {
    "collapsed": false
   },
   "source": [
    "## Шаг 3: Проверка гипотезы о нормальности распределения\n",
    "\n",
    "Для проверки гипотезы о равномерном распределения воспользуемся критерием согласия хи-квадрат. Нужно вычислить теоретические (ожидаемые) частоты попадания значений в каждый интервал, если бы распределение было равнромерным. Для этого воспользуемся формулой:\n",
    "$$P_i=P(x_i < X < x_{i+1})=\\frac{1}{b^{*} - a^{*}}$$\n",
    "$$\\text{при} \\space a^{*} \\leq x_j \\leq b^{*} $$\n",
    "$$f' = fP_i$$\n",
    "$$a^{*} = \\bar{x} - \\sqrt{3} \\cdot S$$\n",
    "$$b^{*} = \\bar{x} + \\sqrt{3} \\cdot S$$"
   ]
  },
  {
   "cell_type": "code",
   "execution_count": 10,
   "metadata": {},
   "outputs": [
    {
     "data": {
      "text/plain": [
       "(8.494104051315205, 29.408295948684795)"
      ]
     },
     "execution_count": 10,
     "metadata": {},
     "output_type": "execute_result"
    }
   ],
   "source": [
    "a = mean - np.sqrt(3) * std\n",
    "b = mean + np.sqrt(3) * std\n",
    "a, b"
   ]
  },
  {
   "cell_type": "code",
   "execution_count": 22,
   "metadata": {},
   "outputs": [
    {
     "data": {
      "text/plain": [
       "array([0.1006922 , 0.10519173, 0.10519173, 0.10519173, 0.10519173,\n",
       "       0.10519173, 0.10519173, 0.10519173, 0.10519173, 0.05777397])"
      ]
     },
     "execution_count": 22,
     "metadata": {},
     "output_type": "execute_result"
    }
   ],
   "source": [
    "p = st.uniform.cdf(data[\"x_(i+1)\"], loc=a, scale=b-a) - st.uniform.cdf(data[\"x_i\"], loc=a, scale=b-a)\n",
    "\n",
    "assert np.isclose(p.sum(), 1, rtol=.01), \"Сумма теоретических оснований должна быть равна 1.\"\n",
    "p"
   ]
  },
  {
   "cell_type": "code",
   "execution_count": 23,
   "metadata": {},
   "outputs": [
    {
     "data": {
      "text/plain": [
       "0    37.759574\n",
       "1    39.446898\n",
       "2    39.446898\n",
       "3    39.446898\n",
       "4    39.446898\n",
       "5    39.446898\n",
       "6    39.446898\n",
       "7    39.446898\n",
       "8    39.446898\n",
       "9    21.665240\n",
       "Name: f', dtype: float64"
      ]
     },
     "execution_count": 23,
     "metadata": {},
     "output_type": "execute_result"
    }
   ],
   "source": [
    "data[\"f'\"] = p * data[\"f\"].sum()\n",
    "data[\"f'\"]"
   ]
  },
  {
   "attachments": {},
   "cell_type": "markdown",
   "metadata": {
    "collapsed": false
   },
   "source": [
    "## Шаг 4: Вычисление значения статистики критерия\n",
    "\n",
    "Вычислим значение статистики критерия $\\chi^2$:\n",
    "\n",
    "\n",
    "$$\\chi^2 = \\sum_{i=1}^{k} \\frac{(f_i - f_i^*)^2}{f_i^*} = \\frac{(\\text{наблюдаемая частота} - \\text{ожидаемая частота})^2}{\\text{ожидаемая частота}}$$"
   ]
  },
  {
   "cell_type": "code",
   "execution_count": 24,
   "metadata": {
    "ExecuteTime": {
     "end_time": "2023-04-27T13:34:28.468764Z",
     "start_time": "2023-04-27T13:34:28.468722Z"
    },
    "collapsed": false
   },
   "outputs": [
    {
     "data": {
      "text/plain": [
       "4.301717542071091"
      ]
     },
     "execution_count": 24,
     "metadata": {},
     "output_type": "execute_result"
    }
   ],
   "source": [
    "chi2_value = ((data[\"f\"] - data[\"f'\"])**2 / data[\"f'\"]).sum()\n",
    "chi2_value"
   ]
  },
  {
   "attachments": {},
   "cell_type": "markdown",
   "metadata": {
    "collapsed": false
   },
   "source": [
    "## Шаг 5: Определение критического значения и принятие решения"
   ]
  },
  {
   "attachments": {},
   "cell_type": "markdown",
   "metadata": {
    "collapsed": false
   },
   "source": [
    "#### Степени свободы:"
   ]
  },
  {
   "cell_type": "code",
   "execution_count": 25,
   "metadata": {
    "ExecuteTime": {
     "end_time": "2023-04-27T13:35:12.092276Z",
     "start_time": "2023-04-27T13:35:12.084227Z"
    },
    "collapsed": false
   },
   "outputs": [
    {
     "data": {
      "text/plain": [
       "7"
      ]
     },
     "execution_count": 25,
     "metadata": {},
     "output_type": "execute_result"
    }
   ],
   "source": [
    "# два параметр у равномерного распр. a, b\n",
    "df = (data[\"f\"] >= 5).sum() - 3\n",
    "df"
   ]
  },
  {
   "attachments": {},
   "cell_type": "markdown",
   "metadata": {},
   "source": [
    "#### Критическое значение"
   ]
  },
  {
   "cell_type": "code",
   "execution_count": 26,
   "metadata": {},
   "outputs": [
    {
     "data": {
      "text/plain": [
       "14.067140449340169"
      ]
     },
     "execution_count": 26,
     "metadata": {},
     "output_type": "execute_result"
    }
   ],
   "source": [
    "chi2_critical = st.chi2.ppf(1-alpha, df=df)\n",
    "chi2_critical"
   ]
  },
  {
   "cell_type": "code",
   "execution_count": 27,
   "metadata": {},
   "outputs": [
    {
     "data": {
      "text/markdown": [
       "## Вывод"
      ],
      "text/plain": [
       "<IPython.core.display.Markdown object>"
      ]
     },
     "metadata": {},
     "output_type": "display_data"
    },
    {
     "data": {
      "text/markdown": [
       "Таблица распределения хи-квадрат ($\\chi^2$) со степенями свободы 7 и уровнем значимости 0.05 даёт критическое значение $\\chi^2 = 14.067140449340169$."
      ],
      "text/plain": [
       "<IPython.core.display.Markdown object>"
      ]
     },
     "metadata": {},
     "output_type": "display_data"
    },
    {
     "data": {
      "text/markdown": [
       "Так как вычисленное значение статистики критерия Пирсона ($\\chi^2 = 4.301717542071091$) не превышает критическое значение ($\\chi^2 = 14.067140449340169$), то мы принимаем нулевую гипотезу $H_0$ и отвергаем альтернативную гипотезу $H_1$. Это означает, что закон распределения генеральной совокупности является равномерным."
      ],
      "text/plain": [
       "<IPython.core.display.Markdown object>"
      ]
     },
     "metadata": {},
     "output_type": "display_data"
    }
   ],
   "source": [
    "from IPython.display import Markdown, display\n",
    "\n",
    "display(Markdown(\"## Вывод\"))\n",
    "display(Markdown(f\"Таблица распределения хи-квадрат ($\\chi^2$) со степенями свободы {df} и уровнем значимости {alpha} даёт критическое значение $\\chi^2 = {chi2_critical}$.\"))\n",
    "display(Markdown(f\"Так как вычисленное значение статистики критерия Пирсона ($\\chi^2 = {chi2_value}$) не превышает критическое значение ($\\chi^2 = {chi2_critical}$), то мы принимаем нулевую гипотезу $H_0$ и отвергаем альтернативную гипотезу $H_1$. Это означает, что закон распределения генеральной совокупности является равномерным.\"))"
   ]
  }
 ],
 "metadata": {
  "kernelspec": {
   "display_name": "Python 3",
   "language": "python",
   "name": "python3"
  },
  "language_info": {
   "codemirror_mode": {
    "name": "ipython",
    "version": 3
   },
   "file_extension": ".py",
   "mimetype": "text/x-python",
   "name": "python",
   "nbconvert_exporter": "python",
   "pygments_lexer": "ipython3",
   "version": "3.9.7"
  }
 },
 "nbformat": 4,
 "nbformat_minor": 0
}
