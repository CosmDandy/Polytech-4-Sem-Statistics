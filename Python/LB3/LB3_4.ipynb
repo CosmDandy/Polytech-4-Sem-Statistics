{
 "cells": [
  {
   "cell_type": "code",
   "execution_count": 186,
   "outputs": [],
   "source": [
    "import pandas as pd\n",
    "import numpy as np\n",
    "import scipy as sp"
   ],
   "metadata": {
    "collapsed": false,
    "ExecuteTime": {
     "start_time": "2023-04-27T13:36:08.595594Z",
     "end_time": "2023-04-27T13:36:08.701662Z"
    }
   }
  },
  {
   "cell_type": "markdown",
   "source": [
    "# Лабораторная работа №3\n",
    "## Задание 3\n",
    "## Кондрашин Тимофей 211-365 Вариант 11 (27.04.2023)"
   ],
   "metadata": {
    "collapsed": false
   }
  },
  {
   "cell_type": "markdown",
   "source": [
    "### Данные"
   ],
   "metadata": {
    "collapsed": false
   }
  },
  {
   "cell_type": "markdown",
   "source": [
    "Для заданного интервального выборочного ряда проверить гипотезу: закон распределения генеральной совокупности является показательным при уровне значимости $\\alpha=0.05$"
   ],
   "metadata": {
    "collapsed": false
   }
  },
  {
   "cell_type": "code",
   "execution_count": 187,
   "outputs": [
    {
     "data": {
      "text/plain": "    0   1   2   3   4   5   6   7   8   9\n0  38  37  40  41  43  42  31  45  34  24",
      "text/html": "<div>\n<style scoped>\n    .dataframe tbody tr th:only-of-type {\n        vertical-align: middle;\n    }\n\n    .dataframe tbody tr th {\n        vertical-align: top;\n    }\n\n    .dataframe thead th {\n        text-align: right;\n    }\n</style>\n<table border=\"1\" class=\"dataframe\">\n  <thead>\n    <tr style=\"text-align: right;\">\n      <th></th>\n      <th>0</th>\n      <th>1</th>\n      <th>2</th>\n      <th>3</th>\n      <th>4</th>\n      <th>5</th>\n      <th>6</th>\n      <th>7</th>\n      <th>8</th>\n      <th>9</th>\n    </tr>\n  </thead>\n  <tbody>\n    <tr>\n      <th>0</th>\n      <td>38</td>\n      <td>37</td>\n      <td>40</td>\n      <td>41</td>\n      <td>43</td>\n      <td>42</td>\n      <td>31</td>\n      <td>45</td>\n      <td>34</td>\n      <td>24</td>\n    </tr>\n  </tbody>\n</table>\n</div>"
     },
     "execution_count": 187,
     "metadata": {},
     "output_type": "execute_result"
    }
   ],
   "source": [
    "data = pd.DataFrame([38, 37, 40, 41, 43, 42, 31, 45, 34, 24])\n",
    "n = len(data)\n",
    "a = 0.05\n",
    "min_x = 8.4\n",
    "h = 2.2\n",
    "\n",
    "data.T"
   ],
   "metadata": {
    "collapsed": false,
    "ExecuteTime": {
     "start_time": "2023-04-27T13:36:08.615944Z",
     "end_time": "2023-04-27T13:36:08.744072Z"
    }
   }
  },
  {
   "cell_type": "code",
   "execution_count": 188,
   "outputs": [
    {
     "name": "stdout",
     "output_type": "stream",
     "text": [
      "n = 10, a = 0.05, min_x = 8.4, h = 2.2\n"
     ]
    }
   ],
   "source": [
    "print(f'n = {n}, a = {a}, min_x = {min_x}, h = {h}')"
   ],
   "metadata": {
    "collapsed": false,
    "ExecuteTime": {
     "start_time": "2023-04-27T13:36:08.619850Z",
     "end_time": "2023-04-27T13:36:08.745002Z"
    }
   }
  },
  {
   "cell_type": "markdown",
   "source": [
    "## Шаг 1: Формулировка гипотезы"
   ],
   "metadata": {
    "collapsed": false
   }
  },
  {
   "cell_type": "markdown",
   "source": [
    "$H_0$: закон распределения генеральной совокупности является равномерным.\n",
    "$H_1$: закон распределения генеральной совокупности не является равномерным."
   ],
   "metadata": {
    "collapsed": false
   }
  },
  {
   "cell_type": "markdown",
   "source": [
    "## Шаг 2: Вычисление характеристик выборки."
   ],
   "metadata": {
    "collapsed": false
   }
  },
  {
   "cell_type": "markdown",
   "source": [
    "### Вычисление среднего значения\n",
    "\n",
    "$$\\overline{x} = \\frac{1}{n} \\sum_{i=1}^{n} x_i$$"
   ],
   "metadata": {
    "collapsed": false
   }
  },
  {
   "cell_type": "code",
   "execution_count": 189,
   "outputs": [
    {
     "data": {
      "text/plain": "0    37.5\ndtype: float64"
     },
     "execution_count": 189,
     "metadata": {},
     "output_type": "execute_result"
    }
   ],
   "source": [
    "mean = data.mean()\n",
    "mean"
   ],
   "metadata": {
    "collapsed": false,
    "ExecuteTime": {
     "start_time": "2023-04-27T13:36:08.633869Z",
     "end_time": "2023-04-27T13:36:08.758744Z"
    }
   }
  },
  {
   "cell_type": "markdown",
   "source": [
    "### Вычисление дисперсии\n",
    "\n",
    "$$s^2 = \\frac{1}{n-1} \\sum_{i=1}^{n} (x_i - \\overline{x})^2$$"
   ],
   "metadata": {
    "collapsed": false
   }
  },
  {
   "cell_type": "code",
   "execution_count": 190,
   "outputs": [
    {
     "data": {
      "text/plain": "0    40.277778\ndtype: float64"
     },
     "execution_count": 190,
     "metadata": {},
     "output_type": "execute_result"
    }
   ],
   "source": [
    "variance = data.var()\n",
    "variance"
   ],
   "metadata": {
    "collapsed": false,
    "ExecuteTime": {
     "start_time": "2023-04-27T13:36:08.639265Z",
     "end_time": "2023-04-27T13:36:08.758941Z"
    }
   }
  },
  {
   "cell_type": "markdown",
   "source": [
    "### Вычисление стандартного отклонения\n",
    "\n",
    "$$s = \\sqrt{s^2}$$"
   ],
   "metadata": {
    "collapsed": false
   }
  },
  {
   "cell_type": "code",
   "execution_count": 191,
   "outputs": [
    {
     "data": {
      "text/plain": "0    6.346478\ndtype: float64"
     },
     "execution_count": 191,
     "metadata": {},
     "output_type": "execute_result"
    }
   ],
   "source": [
    "std = data.std()\n",
    "std"
   ],
   "metadata": {
    "collapsed": false,
    "ExecuteTime": {
     "start_time": "2023-04-27T13:36:08.645327Z",
     "end_time": "2023-04-27T13:36:08.759563Z"
    }
   }
  },
  {
   "cell_type": "markdown",
   "source": [
    "## Шаг 3: Проверка гипотезы о нормальности распределения\n",
    "\n",
    "Для проверки гипотезы о нормальности распределения воспользуемся критерием согласия хи-квадрат. Сначала необходимо разбить интервальный ряд на интервалы.\n",
    "\n",
    "Для этого найдём количество интервалов:\n",
    "\n",
    "$$k = \\lceil \\log_2 n + 1 \\rceil$$"
   ],
   "metadata": {
    "collapsed": false
   }
  },
  {
   "cell_type": "code",
   "execution_count": 192,
   "outputs": [
    {
     "data": {
      "text/plain": "10"
     },
     "execution_count": 192,
     "metadata": {},
     "output_type": "execute_result"
    }
   ],
   "source": [
    "k = int(np.ceil((data.max()[0] - data.min()[0]) / h))\n",
    "k"
   ],
   "metadata": {
    "collapsed": false,
    "ExecuteTime": {
     "start_time": "2023-04-27T13:36:08.652595Z",
     "end_time": "2023-04-27T13:36:08.760198Z"
    }
   }
  },
  {
   "cell_type": "markdown",
   "source": [
    "Теперь можно разбить интервальный ряд на интервалы:\n",
    "\n",
    "$$\\Delta = \\frac{max(x) - min(x)}{k}$$"
   ],
   "metadata": {
    "collapsed": false
   }
  },
  {
   "cell_type": "code",
   "execution_count": 193,
   "outputs": [
    {
     "data": {
      "text/plain": "9.545454545454545"
     },
     "execution_count": 193,
     "metadata": {},
     "output_type": "execute_result"
    }
   ],
   "source": [
    "delta = (data.max()[0] - data.min()[0]) / h\n",
    "delta"
   ],
   "metadata": {
    "collapsed": false,
    "ExecuteTime": {
     "start_time": "2023-04-27T13:36:08.657880Z",
     "end_time": "2023-04-27T13:36:08.760854Z"
    }
   }
  },
  {
   "cell_type": "markdown",
   "source": [
    "Теперь можно построить интервальный ряд:"
   ],
   "metadata": {
    "collapsed": false
   }
  },
  {
   "cell_type": "code",
   "execution_count": 194,
   "outputs": [
    {
     "data": {
      "text/plain": "[[8.4, 17.945454545454545],\n [17.945454545454545, 27.490909090909092],\n [27.490909090909092, 37.03636363636363],\n [37.03636363636363, 46.58181818181818],\n [46.58181818181818, 56.127272727272725],\n [56.127272727272725, 65.67272727272727],\n [65.67272727272727, 75.21818181818182],\n [75.21818181818182, 84.76363636363637],\n [84.76363636363637, 94.30909090909091],\n [94.30909090909091, 103.85454545454546]]"
     },
     "execution_count": 194,
     "metadata": {},
     "output_type": "execute_result"
    }
   ],
   "source": [
    "intervals = []\n",
    "for i in range(k):\n",
    "    intervals.append([min_x + i * delta, min_x + (i + 1) * delta])\n",
    "intervals"
   ],
   "metadata": {
    "collapsed": false,
    "ExecuteTime": {
     "start_time": "2023-04-27T13:36:08.662748Z",
     "end_time": "2023-04-27T13:36:08.761457Z"
    }
   }
  },
  {
   "cell_type": "markdown",
   "source": [
    "Далее, необходимо вычислить выборочные частоты попадания значений в каждый интервал:\n",
    "\n",
    "$$p_i = \\frac{n_i}{n}$$"
   ],
   "metadata": {
    "collapsed": false
   }
  },
  {
   "cell_type": "code",
   "execution_count": 195,
   "outputs": [
    {
     "data": {
      "text/plain": "[0.0, 0.1, 0.3, 0.6, 0.0, 0.0, 0.0, 0.0, 0.0, 0.0]"
     },
     "execution_count": 195,
     "metadata": {},
     "output_type": "execute_result"
    }
   ],
   "source": [
    "p = []\n",
    "for i in range(k):\n",
    "    p.append(len(data[(data[0] >= min_x + i * delta) & (data[0] < min_x + (i + 1) * delta)]) / n)\n",
    "p"
   ],
   "metadata": {
    "collapsed": false,
    "ExecuteTime": {
     "start_time": "2023-04-27T13:36:08.670191Z",
     "end_time": "2023-04-27T13:36:08.763091Z"
    }
   }
  },
  {
   "cell_type": "markdown",
   "source": [
    "Затем нужно вычислить теоретические (ожидаемые) частоты попадания значений в каждый интервал, если бы распределение было нормальным. Для этого воспользуемся формулой:\n",
    "$$P_i = \\Phi \\left( \\frac{x_{i+1} - \\overline{x}}{s} \\right) - \\Phi \\left( \\frac{x_{i} - \\overline{x}}{s} \\right)$$"
   ],
   "metadata": {
    "collapsed": false
   }
  },
  {
   "cell_type": "code",
   "execution_count": 201,
   "outputs": [
    {
     "data": {
      "text/plain": "[array([0.00102869]),\n array([0.05635419]),\n array([0.41349637]),\n array([0.45290357]),\n array([0.07454748]),\n array([0.00166292]),\n array([4.51513421e-06]),\n array([1.39778156e-09]),\n array([4.76285678e-14]),\n array([0.])]"
     },
     "execution_count": 201,
     "metadata": {},
     "output_type": "execute_result"
    }
   ],
   "source": [
    "P = []\n",
    "for i in range(k):\n",
    "    P.append(sp.stats.norm.cdf((intervals[i][1] - mean) / std) - sp.stats.norm.cdf((intervals[i][0] - mean) / std))\n",
    "P"
   ],
   "metadata": {
    "collapsed": false,
    "ExecuteTime": {
     "start_time": "2023-04-27T13:36:46.528264Z",
     "end_time": "2023-04-27T13:36:46.542350Z"
    }
   }
  },
  {
   "cell_type": "code",
   "execution_count": 202,
   "outputs": [
    {
     "data": {
      "text/plain": "                                0          1          2          3          4  \\\nmin                      8.400000  17.945455  27.490909  37.036364  46.581818   \nmax                     17.945455  27.490909  37.036364  46.581818  56.127273   \np (выборочные частоты)   0.000000   0.100000   0.300000   0.600000   0.000000   \nP (ожидаемые частоты)    0.001029   0.056354   0.413496   0.452904   0.074547   \n\n                                5          6             7             8  \\\nmin                     56.127273  65.672727  7.521818e+01  8.476364e+01   \nmax                     65.672727  75.218182  8.476364e+01  9.430909e+01   \np (выборочные частоты)   0.000000   0.000000  0.000000e+00  0.000000e+00   \nP (ожидаемые частоты)    0.001663   0.000005  1.397782e-09  4.762857e-14   \n\n                                 9  \nmin                      94.309091  \nmax                     103.854545  \np (выборочные частоты)    0.000000  \nP (ожидаемые частоты)     0.000000  ",
      "text/html": "<div>\n<style scoped>\n    .dataframe tbody tr th:only-of-type {\n        vertical-align: middle;\n    }\n\n    .dataframe tbody tr th {\n        vertical-align: top;\n    }\n\n    .dataframe thead th {\n        text-align: right;\n    }\n</style>\n<table border=\"1\" class=\"dataframe\">\n  <thead>\n    <tr style=\"text-align: right;\">\n      <th></th>\n      <th>0</th>\n      <th>1</th>\n      <th>2</th>\n      <th>3</th>\n      <th>4</th>\n      <th>5</th>\n      <th>6</th>\n      <th>7</th>\n      <th>8</th>\n      <th>9</th>\n    </tr>\n  </thead>\n  <tbody>\n    <tr>\n      <th>min</th>\n      <td>8.400000</td>\n      <td>17.945455</td>\n      <td>27.490909</td>\n      <td>37.036364</td>\n      <td>46.581818</td>\n      <td>56.127273</td>\n      <td>65.672727</td>\n      <td>7.521818e+01</td>\n      <td>8.476364e+01</td>\n      <td>94.309091</td>\n    </tr>\n    <tr>\n      <th>max</th>\n      <td>17.945455</td>\n      <td>27.490909</td>\n      <td>37.036364</td>\n      <td>46.581818</td>\n      <td>56.127273</td>\n      <td>65.672727</td>\n      <td>75.218182</td>\n      <td>8.476364e+01</td>\n      <td>9.430909e+01</td>\n      <td>103.854545</td>\n    </tr>\n    <tr>\n      <th>p (выборочные частоты)</th>\n      <td>0.000000</td>\n      <td>0.100000</td>\n      <td>0.300000</td>\n      <td>0.600000</td>\n      <td>0.000000</td>\n      <td>0.000000</td>\n      <td>0.000000</td>\n      <td>0.000000e+00</td>\n      <td>0.000000e+00</td>\n      <td>0.000000</td>\n    </tr>\n    <tr>\n      <th>P (ожидаемые частоты)</th>\n      <td>0.001029</td>\n      <td>0.056354</td>\n      <td>0.413496</td>\n      <td>0.452904</td>\n      <td>0.074547</td>\n      <td>0.001663</td>\n      <td>0.000005</td>\n      <td>1.397782e-09</td>\n      <td>4.762857e-14</td>\n      <td>0.000000</td>\n    </tr>\n  </tbody>\n</table>\n</div>"
     },
     "execution_count": 202,
     "metadata": {},
     "output_type": "execute_result"
    }
   ],
   "source": [
    "intervals_t = pd.DataFrame(intervals, columns=['min', 'max'])\n",
    "p_t = pd.DataFrame(p, columns=['p (выборочные частоты)'])\n",
    "P_t = pd.DataFrame(P, columns=['P (ожидаемые частоты)'])\n",
    "intervals_t.join(p_t).join(P_t).T"
   ],
   "metadata": {
    "collapsed": false,
    "ExecuteTime": {
     "start_time": "2023-04-27T13:36:47.454710Z",
     "end_time": "2023-04-27T13:36:47.460540Z"
    }
   }
  },
  {
   "cell_type": "markdown",
   "source": [
    "## Шаг 4: Вычисление значения статистики критерия\n",
    "\n",
    "Вычислим значение статистики критерия $\\chi^2$:\n",
    "\n",
    "$$\\chi^2 = \\sum_{i=1}^{k} \\frac{(p_i - P_i)^2}{P_i}$$"
   ],
   "metadata": {
    "collapsed": false
   }
  },
  {
   "cell_type": "code",
   "execution_count": 203,
   "outputs": [
    {
     "data": {
      "text/plain": "6.448397508760504"
     },
     "execution_count": 203,
     "metadata": {},
     "output_type": "execute_result"
    }
   ],
   "source": [
    "chi2 = (((np.array(p) - np.array(P)) ** 2).sum()) / np.array(P).sum()\n",
    "chi2"
   ],
   "metadata": {
    "collapsed": false,
    "ExecuteTime": {
     "start_time": "2023-04-27T13:36:49.524065Z",
     "end_time": "2023-04-27T13:36:49.529357Z"
    }
   }
  },
  {
   "cell_type": "markdown",
   "source": [
    "## Шаг 5: Определение критического значения и принятие решения"
   ],
   "metadata": {
    "collapsed": false
   }
  },
  {
   "cell_type": "markdown",
   "source": [
    "#### Уровень значимости:\n",
    "a = 0.05"
   ],
   "metadata": {
    "collapsed": false
   }
  },
  {
   "cell_type": "code",
   "execution_count": 204,
   "outputs": [
    {
     "data": {
      "text/plain": "0.05"
     },
     "execution_count": 204,
     "metadata": {},
     "output_type": "execute_result"
    }
   ],
   "source": [
    "a"
   ],
   "metadata": {
    "collapsed": false,
    "ExecuteTime": {
     "start_time": "2023-04-27T13:36:51.780252Z",
     "end_time": "2023-04-27T13:36:51.791056Z"
    }
   }
  },
  {
   "cell_type": "markdown",
   "source": [
    "#### Степени свободы:\n",
    "$$df = k - 1$$\n",
    "где\n",
    "- $k$ - количество интервалов,\n",
    "- $p$ - количество параметров распределения, которые были оценены по выборке."
   ],
   "metadata": {
    "collapsed": false
   }
  },
  {
   "cell_type": "code",
   "execution_count": 205,
   "outputs": [
    {
     "data": {
      "text/plain": "9"
     },
     "execution_count": 205,
     "metadata": {},
     "output_type": "execute_result"
    }
   ],
   "source": [
    "df = k - 1\n",
    "df"
   ],
   "metadata": {
    "collapsed": false,
    "ExecuteTime": {
     "start_time": "2023-04-27T13:36:52.985567Z",
     "end_time": "2023-04-27T13:36:52.994753Z"
    }
   }
  },
  {
   "cell_type": "markdown",
   "source": [
    "Таблица распределения хи-квадрат ($\\chi^2$) со степенями свободы 9 и уровнем значимости 0.05 даёт критическое значение $\\chi^2 = 16.919$.\n",
    "\n",
    "Так как вычисленное значение статистики критерия Пирсона ($\\chi^2 = 6.448397508760504) не превышает критическое значение ($\\chi^2 = 16.919$), то мы принимаем нулевую гипотезу $H_0$ и отвергаем альтернативную гипотезу $H_1$. Это означает, что закон распределения генеральной совокупности не является равномерным.\n"
   ],
   "metadata": {
    "collapsed": false
   }
  },
  {
   "cell_type": "markdown",
   "source": [
    "## Шаг 5: Вывод\n",
    "\n",
    "Таким образом, на основе данных выборки мы можем с уверенностью утверждать, что закон распределения генеральной совокупности не является равномерным."
   ],
   "metadata": {
    "collapsed": false
   }
  },
  {
   "cell_type": "code",
   "execution_count": 200,
   "outputs": [],
   "source": [],
   "metadata": {
    "collapsed": false,
    "ExecuteTime": {
     "start_time": "2023-04-27T13:36:09.206169Z",
     "end_time": "2023-04-27T13:36:09.208041Z"
    }
   }
  }
 ],
 "metadata": {
  "kernelspec": {
   "display_name": "Python 3",
   "language": "python",
   "name": "python3"
  },
  "language_info": {
   "codemirror_mode": {
    "name": "ipython",
    "version": 2
   },
   "file_extension": ".py",
   "mimetype": "text/x-python",
   "name": "python",
   "nbconvert_exporter": "python",
   "pygments_lexer": "ipython2",
   "version": "2.7.6"
  }
 },
 "nbformat": 4,
 "nbformat_minor": 0
}
