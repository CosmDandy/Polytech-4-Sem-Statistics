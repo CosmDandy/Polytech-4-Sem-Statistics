{
 "cells": [
  {
   "cell_type": "code",
   "execution_count": 159,
   "metadata": {
    "collapsed": true,
    "ExecuteTime": {
     "end_time": "2023-05-19T19:20:14.366681Z",
     "start_time": "2023-05-19T19:20:14.363837Z"
    }
   },
   "outputs": [],
   "source": [
    "import pandas as pd\n",
    "import glob\n",
    "\n",
    "\n",
    "# write function that takes all csv file in directory and returns a list of dataframes\n",
    "def read_csv_files(path):\n",
    "    csv_files = glob.glob(path + \"/*.csv\")\n",
    "    return csv_files"
   ]
  },
  {
   "cell_type": "code",
   "execution_count": 160,
   "outputs": [
    {
     "data": {
      "text/plain": "['/Users/cosmdandy/GitHub/Experiments/Statistics Polytech/LB1_Test/Кондрашин_ЛБ1_Задание_2.csv',\n '/Users/cosmdandy/GitHub/Experiments/Statistics Polytech/LB1_Test/Кондрашин_ЛБ1_Задание_1.csv']"
     },
     "execution_count": 160,
     "metadata": {},
     "output_type": "execute_result"
    }
   ],
   "source": [
    "# call function and pass in directory\n",
    "df_list = read_csv_files(\"/Users/cosmdandy/GitHub/Experiments/Statistics Polytech/LB1_Test\")\n",
    "df_list"
   ],
   "metadata": {
    "collapsed": false,
    "ExecuteTime": {
     "end_time": "2023-05-19T19:20:14.373873Z",
     "start_time": "2023-05-19T19:20:14.368423Z"
    }
   }
  },
  {
   "cell_type": "code",
   "execution_count": 161,
   "outputs": [],
   "source": [
    "# write that combine twoo csv files into one dataframe\n",
    "def combine_csv_files(path):\n",
    "    csv_files = glob.glob(path + \"/*.csv\")\n",
    "    df_list = []\n",
    "    for filename in csv_files:\n",
    "        df = pd.read_csv(filename, index_col=None, header=0)\n",
    "        df_list.append(df)\n",
    "    return pd.concat(df_list, axis=0, ignore_index=True)"
   ],
   "metadata": {
    "collapsed": false,
    "ExecuteTime": {
     "end_time": "2023-05-19T19:20:14.388865Z",
     "start_time": "2023-05-19T19:20:14.375346Z"
    }
   }
  },
  {
   "cell_type": "code",
   "execution_count": 162,
   "outputs": [
    {
     "data": {
      "text/plain": "   Unnamed: 0        Фамилия Имя  Номер лабораторной работы  \\\n0           0  Кондрашин Тимофей                          1   \n1           0  Кондрашин Тимофей                          1   \n\n   Номер задания лабораторной работы  Вариант лабораторной работы  \\\n0                                  2                            1   \n1                                  1                            1   \n\n                                    Вариационный ряд  \\\n0  [0, 0, 0, 0, 0, 0, 0, 0, 0, 0, 0, 0, 0, 1, 1, ...   \n1  [250, 250, 250, 255, 260, 270, 270, 288, 300, ...   \n\n                                        Варианты  \\\n0                          [0, 1, 2, 3, 4, 5, 6]   \n1  [250, 255, 260, 270, 288, 300, 305, 306, 320]   \n\n                        Частота  \\\n0  [13, 11, 43, 37, 22, 14, 10]   \n1   [3, 1, 1, 2, 1, 3, 1, 1, 2]   \n\n                               Относительная частота  \\\n0  [0.08666666666666667, 0.07333333333333333, 0.2...   \n1  [0.2, 0.06666666666666667, 0.06666666666666667...   \n\n                  Эмпирическая функция распределения  Выборочное среднее  \\\n0  [0.0, 0.08666666666666667, 0.16, 0.44666666666...                2.84   \n1  [0.0, 0.2, 0.26666666666666666, 0.333333333333...                 NaN   \n\n   Выборочная дисперсия  Среднеквадратическое отклонение  Коэффицент вариации  \n0                2.4544                         1.566652             55.16382  \n1                   NaN                              NaN                  NaN  ",
      "text/html": "<div>\n<style scoped>\n    .dataframe tbody tr th:only-of-type {\n        vertical-align: middle;\n    }\n\n    .dataframe tbody tr th {\n        vertical-align: top;\n    }\n\n    .dataframe thead th {\n        text-align: right;\n    }\n</style>\n<table border=\"1\" class=\"dataframe\">\n  <thead>\n    <tr style=\"text-align: right;\">\n      <th></th>\n      <th>Unnamed: 0</th>\n      <th>Фамилия Имя</th>\n      <th>Номер лабораторной работы</th>\n      <th>Номер задания лабораторной работы</th>\n      <th>Вариант лабораторной работы</th>\n      <th>Вариационный ряд</th>\n      <th>Варианты</th>\n      <th>Частота</th>\n      <th>Относительная частота</th>\n      <th>Эмпирическая функция распределения</th>\n      <th>Выборочное среднее</th>\n      <th>Выборочная дисперсия</th>\n      <th>Среднеквадратическое отклонение</th>\n      <th>Коэффицент вариации</th>\n    </tr>\n  </thead>\n  <tbody>\n    <tr>\n      <th>0</th>\n      <td>0</td>\n      <td>Кондрашин Тимофей</td>\n      <td>1</td>\n      <td>2</td>\n      <td>1</td>\n      <td>[0, 0, 0, 0, 0, 0, 0, 0, 0, 0, 0, 0, 0, 1, 1, ...</td>\n      <td>[0, 1, 2, 3, 4, 5, 6]</td>\n      <td>[13, 11, 43, 37, 22, 14, 10]</td>\n      <td>[0.08666666666666667, 0.07333333333333333, 0.2...</td>\n      <td>[0.0, 0.08666666666666667, 0.16, 0.44666666666...</td>\n      <td>2.84</td>\n      <td>2.4544</td>\n      <td>1.566652</td>\n      <td>55.16382</td>\n    </tr>\n    <tr>\n      <th>1</th>\n      <td>0</td>\n      <td>Кондрашин Тимофей</td>\n      <td>1</td>\n      <td>1</td>\n      <td>1</td>\n      <td>[250, 250, 250, 255, 260, 270, 270, 288, 300, ...</td>\n      <td>[250, 255, 260, 270, 288, 300, 305, 306, 320]</td>\n      <td>[3, 1, 1, 2, 1, 3, 1, 1, 2]</td>\n      <td>[0.2, 0.06666666666666667, 0.06666666666666667...</td>\n      <td>[0.0, 0.2, 0.26666666666666666, 0.333333333333...</td>\n      <td>NaN</td>\n      <td>NaN</td>\n      <td>NaN</td>\n      <td>NaN</td>\n    </tr>\n  </tbody>\n</table>\n</div>"
     },
     "execution_count": 162,
     "metadata": {},
     "output_type": "execute_result"
    }
   ],
   "source": [
    "df_list = combine_csv_files(\"/Users/cosmdandy/GitHub/Experiments/Statistics Polytech/LB1_Test\")\n",
    "df_list"
   ],
   "metadata": {
    "collapsed": false,
    "ExecuteTime": {
     "end_time": "2023-05-19T19:20:14.393653Z",
     "start_time": "2023-05-19T19:20:14.379072Z"
    }
   }
  },
  {
   "cell_type": "code",
   "execution_count": 185,
   "outputs": [
    {
     "data": {
      "text/plain": "[2.0,\n 4.8,\n 5.2,\n 3.8,\n 3.5,\n 3.2,\n 3.2,\n 3.9,\n 4.9,\n 2.8,\n 3.7,\n 1.8,\n 3.4,\n 2.3,\n 3.2,\n 4.5,\n 0.5,\n 3.3,\n 2.8,\n 2.5,\n 1.4,\n 3.2,\n 3.5,\n 2.2,\n 2.3,\n 3.5,\n 3.5,\n 4.1,\n 4.4,\n 2.3,\n 1.9000000000000001,\n 2.2,\n 3.8,\n 3.4,\n 2.2,\n 3.1,\n 2.1,\n 2.1,\n 3.2,\n 2.5,\n 2.1,\n 2.9,\n 2.8,\n 3.1,\n 4.3,\n 2.8,\n 4.0,\n 2.3,\n 2.7,\n 2.4,\n 2.4,\n 2.3,\n 2.4,\n 2.9,\n 2.2,\n 3.6,\n 2.1,\n 3.2,\n 2.3,\n 2.9,\n 2.0,\n 4.7,\n 3.5,\n 2.8,\n 3.0,\n -0.2,\n 3.6,\n 3.1,\n 3.3,\n 1.4,\n 2.6,\n 2.6,\n 1.8,\n 4.3,\n 1.8,\n 0.7000000000000001,\n 4.6,\n 3.0,\n 1.9000000000000001,\n 3.7,\n 3.2,\n 2.6,\n 2.6,\n 4.2,\n 2.9,\n 2.3,\n 5.4,\n 3.3,\n 3.1,\n 2.8,\n 2.7,\n 2.7,\n 1.8,\n 2.8,\n 4.6,\n 2.7,\n 1.4,\n 3.9,\n 3.7,\n 2.5]"
     },
     "execution_count": 185,
     "metadata": {},
     "output_type": "execute_result"
    }
   ],
   "source": [
    "x = pd.read_json('input/Данные к заданию №3.json')\n",
    "x['Данные'][0]"
   ],
   "metadata": {
    "collapsed": false,
    "ExecuteTime": {
     "end_time": "2023-05-19T21:37:37.097205Z",
     "start_time": "2023-05-19T21:37:37.070666Z"
    }
   }
  },
  {
   "cell_type": "code",
   "execution_count": null,
   "outputs": [],
   "source": [],
   "metadata": {
    "collapsed": false
   }
  }
 ],
 "metadata": {
  "kernelspec": {
   "display_name": "Python 3",
   "language": "python",
   "name": "python3"
  },
  "language_info": {
   "codemirror_mode": {
    "name": "ipython",
    "version": 2
   },
   "file_extension": ".py",
   "mimetype": "text/x-python",
   "name": "python",
   "nbconvert_exporter": "python",
   "pygments_lexer": "ipython2",
   "version": "2.7.6"
  }
 },
 "nbformat": 4,
 "nbformat_minor": 0
}
