{
 "cells": [
  {
   "cell_type": "code",
   "execution_count": 3,
   "metadata": {
    "ExecuteTime": {
     "end_time": "2023-04-20T12:03:42.088480Z",
     "start_time": "2023-04-20T12:03:41.836051Z"
    },
    "collapsed": true
   },
   "outputs": [],
   "source": [
    "import pandas as pd\n",
    "import numpy as np\n",
    "import scipy.stats as st"
   ]
  },
  {
   "attachments": {},
   "cell_type": "markdown",
   "metadata": {
    "collapsed": false
   },
   "source": [
    "# Лабораторная работа №2\n",
    "## Задание 3\n",
    "### {Фамилия Имя}, {Номер группы}, Вариант {Номер варианта}, ({Дата})"
   ]
  },
  {
   "attachments": {},
   "cell_type": "markdown",
   "metadata": {},
   "source": [
    "По данным независимых равноточных измерений физической\n",
    "величины, $а$ оценить истинное значение измеряемой величины и точность\n",
    "измерений с надежностью γ."
   ]
  },
  {
   "attachments": {},
   "cell_type": "markdown",
   "metadata": {},
   "source": [
    "### Данные"
   ]
  },
  {
   "cell_type": "code",
   "execution_count": 6,
   "metadata": {},
   "outputs": [
    {
     "name": "stdout",
     "output_type": "stream",
     "text": [
      "Фамилия, Имя: Фамилия, Имя\n",
      "Номер лабораторной работы: 2\n",
      "Вариант лабораторной работы: 23\n",
      "Номер задания лабораторной работы: 3\n"
     ]
    }
   ],
   "source": [
    "LB_NUM = 2\n",
    "LB_SURNAME = 'Фамилия'\n",
    "LB_NAME = \"Имя\"\n",
    "LB_VARIANT = 23\n",
    "LB_EXERCISE_NUM = 3\n",
    "print(f'Фамилия, Имя: {LB_SURNAME}, {LB_NAME}\\nНомер лабораторной работы: {LB_NUM}\\nВариант лабораторной работы: {LB_VARIANT}\\nНомер задания лабораторной работы: {LB_EXERCISE_NUM}')"
   ]
  },
  {
   "cell_type": "code",
   "execution_count": 11,
   "metadata": {
    "ExecuteTime": {
     "end_time": "2023-04-20T12:03:45.292872Z",
     "start_time": "2023-04-20T12:03:45.277082Z"
    },
    "collapsed": false
   },
   "outputs": [
    {
     "data": {
      "text/plain": [
       "0     50.0\n",
       "1     43.7\n",
       "2     35.2\n",
       "3     45.6\n",
       "4     39.8\n",
       "5     37.2\n",
       "6     36.7\n",
       "7     46.2\n",
       "8     35.9\n",
       "9     36.4\n",
       "10    36.7\n",
       "11    48.5\n",
       "12    39.6\n",
       "13    40.6\n",
       "14    45.2\n",
       "15    48.4\n",
       "dtype: float64"
      ]
     },
     "execution_count": 11,
     "metadata": {},
     "output_type": "execute_result"
    }
   ],
   "source": [
    "data = pd.Series([50.0, 43.7, 35.2, 45.6, 39.8, 37.2, 36.7, 46.2, 35.9, 36.4, 36.7, 48.5, 39.6, 40.6, 45.2, 48.4])\n",
    "confidence_prob = .95\n",
    "data"
   ]
  },
  {
   "cell_type": "code",
   "execution_count": 5,
   "metadata": {
    "ExecuteTime": {
     "end_time": "2023-04-20T12:03:45.654910Z",
     "start_time": "2023-04-20T12:03:45.650898Z"
    },
    "collapsed": false
   },
   "outputs": [
    {
     "data": {
      "text/plain": [
       "count    16.000000\n",
       "mean     41.606250\n",
       "std       5.131922\n",
       "min      35.200000\n",
       "25%      36.700000\n",
       "50%      40.200000\n",
       "75%      45.750000\n",
       "max      50.000000\n",
       "dtype: float64"
      ]
     },
     "execution_count": 5,
     "metadata": {},
     "output_type": "execute_result"
    }
   ],
   "source": [
    "data.describe()"
   ]
  },
  {
   "attachments": {},
   "cell_type": "markdown",
   "metadata": {
    "collapsed": false
   },
   "source": [
    "### Всего элементов ряда"
   ]
  },
  {
   "cell_type": "code",
   "execution_count": 7,
   "metadata": {
    "ExecuteTime": {
     "end_time": "2023-04-20T12:03:46.655027Z",
     "start_time": "2023-04-20T12:03:46.648673Z"
    },
    "collapsed": false
   },
   "outputs": [
    {
     "data": {
      "text/plain": [
       "16"
      ]
     },
     "execution_count": 7,
     "metadata": {},
     "output_type": "execute_result"
    }
   ],
   "source": [
    "data_len = len(data)\n",
    "data_len"
   ]
  },
  {
   "attachments": {},
   "cell_type": "markdown",
   "metadata": {
    "collapsed": false
   },
   "source": [
    "### Выборочное среднее\n",
    "\n",
    "$$\\overline x = \\frac1n \\sum^n_{i=1} x_i$$"
   ]
  },
  {
   "cell_type": "code",
   "execution_count": 8,
   "metadata": {
    "ExecuteTime": {
     "end_time": "2023-04-20T12:03:48.334367Z",
     "start_time": "2023-04-20T12:03:48.328326Z"
    },
    "collapsed": false
   },
   "outputs": [
    {
     "data": {
      "text/plain": [
       "41.606249999999996"
      ]
     },
     "execution_count": 8,
     "metadata": {},
     "output_type": "execute_result"
    }
   ],
   "source": [
    "mean = np.mean(data)\n",
    "mean"
   ]
  },
  {
   "attachments": {},
   "cell_type": "markdown",
   "metadata": {
    "collapsed": false
   },
   "source": [
    "### Выборочная дисперсия\n",
    "\n",
    "$$s^2_x = \\frac{1}{n-1}\\sum^n_{i=1} (x_i - \\overline x)^2$$"
   ]
  },
  {
   "cell_type": "code",
   "execution_count": 9,
   "metadata": {
    "ExecuteTime": {
     "end_time": "2023-04-20T12:03:50.071400Z",
     "start_time": "2023-04-20T12:03:50.065929Z"
    },
    "collapsed": false
   },
   "outputs": [
    {
     "data": {
      "text/plain": [
       "26.336624999999994"
      ]
     },
     "execution_count": 9,
     "metadata": {},
     "output_type": "execute_result"
    }
   ],
   "source": [
    "var = np.var(data, ddof=1)\n",
    "var"
   ]
  },
  {
   "attachments": {},
   "cell_type": "markdown",
   "metadata": {
    "collapsed": false
   },
   "source": [
    "### Среднеквадратическое отклонение\n",
    "\n",
    "$$s = \\sqrt{s^2}$$"
   ]
  },
  {
   "cell_type": "code",
   "execution_count": 10,
   "metadata": {
    "ExecuteTime": {
     "end_time": "2023-04-20T12:03:52.170733Z",
     "start_time": "2023-04-20T12:03:52.165587Z"
    },
    "collapsed": false
   },
   "outputs": [
    {
     "data": {
      "text/plain": [
       "5.131922154514816"
      ]
     },
     "execution_count": 10,
     "metadata": {},
     "output_type": "execute_result"
    }
   ],
   "source": [
    "std = np.std(data, ddof=1)\n",
    "std"
   ]
  },
  {
   "attachments": {},
   "cell_type": "markdown",
   "metadata": {},
   "source": [
    "### Доверительный интервал для математического ожидания при неизвестной генеральной дисперсии $\\sigma$\n",
    "\n",
    "$$\\left(\\overline x - t(\\gamma, n-1) \\cdot \\frac{s}{\\sqrt{n}}, \\space \\space \\space \\overline x + t(\\gamma, n-1)  \\cdot \\frac{s}{\\sqrt{n}}\\right)$$"
   ]
  },
  {
   "attachments": {},
   "cell_type": "markdown",
   "metadata": {},
   "source": [
    "#### Считаем интервал без модуля stats"
   ]
  },
  {
   "cell_type": "code",
   "execution_count": 12,
   "metadata": {
    "ExecuteTime": {
     "end_time": "2023-04-20T11:40:56.127577Z",
     "start_time": "2023-04-20T11:40:56.125869Z"
    },
    "collapsed": false
   },
   "outputs": [
    {
     "data": {
      "text/plain": [
       "(38.87164171397839, 44.3408582860216)"
      ]
     },
     "execution_count": 12,
     "metadata": {},
     "output_type": "execute_result"
    }
   ],
   "source": [
    "def cofidence_interval_for_expectation_t(data, confidence_prob):\n",
    "    mean = np.mean(data)\n",
    "    std = np.std(data, ddof=1)\n",
    "    n = len(data)\n",
    "    # t.ppf считает левосторонюю область, а нам требуется двустроняя\n",
    "    alpha = (1 - confidence_prob) / 2\n",
    "    gamma = 1 - alpha\n",
    "    t_value = st.t.ppf(gamma, n - 1)\n",
    "    delta = t_value * std / np.sqrt(n)\n",
    "    return (mean - delta, mean + delta)\n",
    "\n",
    "cofidence_interval_for_expectation_t(data, confidence_prob)"
   ]
  },
  {
   "attachments": {},
   "cell_type": "markdown",
   "metadata": {},
   "source": [
    "#### Считаем интервал c модулем stats"
   ]
  },
  {
   "cell_type": "code",
   "execution_count": 13,
   "metadata": {},
   "outputs": [
    {
     "data": {
      "text/plain": [
       "(38.87164171397839, 44.3408582860216)"
      ]
     },
     "execution_count": 13,
     "metadata": {},
     "output_type": "execute_result"
    }
   ],
   "source": [
    "interval_expectation = st.t.interval(confidence_prob, df=data_len - 1, loc=mean, scale=st.sem(data))\n",
    "interval_expectation"
   ]
  },
  {
   "cell_type": "code",
   "execution_count": 14,
   "metadata": {},
   "outputs": [
    {
     "name": "stdout",
     "output_type": "stream",
     "text": [
      "Вывод: Таким образом с вероятностью 0.95 можно утверждать,\n",
      "что математическое ожидание лежит в интервале (38.87164171397839, 44.3408582860216)\n"
     ]
    }
   ],
   "source": [
    "print(f\"Вывод: Таким образом с вероятностью {confidence_prob} можно утверждать,\\nчто математическое ожидание лежит в интервале {interval_expectation}\")"
   ]
  }
 ],
 "metadata": {
  "kernelspec": {
   "display_name": "Python 3",
   "language": "python",
   "name": "python3"
  },
  "language_info": {
   "codemirror_mode": {
    "name": "ipython",
    "version": 3
   },
   "file_extension": ".py",
   "mimetype": "text/x-python",
   "name": "python",
   "nbconvert_exporter": "python",
   "pygments_lexer": "ipython3",
   "version": "3.9.7"
  }
 },
 "nbformat": 4,
 "nbformat_minor": 0
}
