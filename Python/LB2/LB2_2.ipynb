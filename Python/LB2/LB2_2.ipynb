{
 "cells": [
  {
   "cell_type": "code",
   "execution_count": 1,
   "metadata": {
    "ExecuteTime": {
     "end_time": "2023-04-20T12:03:12.071738Z",
     "start_time": "2023-04-20T12:03:11.838176Z"
    },
    "collapsed": true
   },
   "outputs": [],
   "source": [
    "import pandas as pd\n",
    "import numpy as np\n",
    "import scipy.stats as st"
   ]
  },
  {
   "attachments": {},
   "cell_type": "markdown",
   "metadata": {
    "collapsed": false
   },
   "source": [
    "# Лабораторная работа №2\n",
    "## Задание 2\n",
    "### {Фамилия Имя}, {Номер группы}, Вариант {Номер варианта}, ({Дата})"
   ]
  },
  {
   "attachments": {},
   "cell_type": "markdown",
   "metadata": {},
   "source": [
    "По данным выборки, удовлетворяющей нормальному закону\n",
    "распределения со средним квадратическим отклонением S, вычислить:\n",
    "1) выборочное среднее;\n",
    "2) доверительный интервал для математического ожидания при\n",
    "доверительной вероятности γ."
   ]
  },
  {
   "attachments": {},
   "cell_type": "markdown",
   "metadata": {},
   "source": [
    "### Данные"
   ]
  },
  {
   "cell_type": "code",
   "execution_count": 2,
   "metadata": {},
   "outputs": [
    {
     "name": "stdout",
     "output_type": "stream",
     "text": [
      "Фамилия, Имя: Фамилия, Имя\n",
      "Номер лабораторной работы: 2\n",
      "Вариант лабораторной работы: 23\n",
      "Номер задания лабораторной работы: 2\n"
     ]
    }
   ],
   "source": [
    "LB_NUM = 2\n",
    "LB_SURNAME = 'Фамилия'\n",
    "LB_NAME = \"Имя\"\n",
    "LB_VARIANT = 23\n",
    "LB_EXERCISE_NUM = 2\n",
    "print(f'Фамилия, Имя: {LB_SURNAME}, {LB_NAME}\\nНомер лабораторной работы: {LB_NUM}\\nВариант лабораторной работы: {LB_VARIANT}\\nНомер задания лабораторной работы: {LB_EXERCISE_NUM}')"
   ]
  },
  {
   "cell_type": "code",
   "execution_count": 10,
   "metadata": {
    "ExecuteTime": {
     "end_time": "2023-04-20T12:03:14.652404Z",
     "start_time": "2023-04-20T12:03:14.632662Z"
    },
    "collapsed": false
   },
   "outputs": [
    {
     "data": {
      "text/plain": [
       "0     21.3\n",
       "1     26.5\n",
       "2     39.5\n",
       "3     17.5\n",
       "4     27.5\n",
       "      ... \n",
       "95    27.8\n",
       "96    34.1\n",
       "97    29.0\n",
       "98    26.5\n",
       "99    24.8\n",
       "Length: 100, dtype: float64"
      ]
     },
     "execution_count": 10,
     "metadata": {},
     "output_type": "execute_result"
    }
   ],
   "source": [
    "data = pd.Series(\n",
    "    [21.3, 26.5, 39.5, 17.5, 27.5, 38.2, 29.0, 30.1, 27.5, 32.7, 19.4, 22.2, 36.4, 37.3, 25.0, 25.7, 31.8, 24.1, 30.0,\n",
    "     27.4, 27.0, 22.9, 30.0, 28.2, 23.9, 18.1, 18.9, 26.9, 27.8, 16.5, 32.6, 33.4, 26.3, 20.4, 24.9, 28.7, 41.5, 22.4,\n",
    "     20.5, 35.3, 14.1, 34.4, 35.0, 23.7, 25.2, 31.5, 37.2, 20.7, 33.2, 28.0, 22.0, 31.7, 23.4, 30.8, 35.0, 31.4, 28.6,\n",
    "     13.9, 34.6, 31.4, 30.8, 19.4, 29.3, 27.3, 37.6, 24.6, 32.4, 25.4, 27.7, 28.6, 33.7, 26.9, 29.4, 28.2, 32.9, 29.5,\n",
    "     20.5, 26.5, 32.2, 32.9, 26.4, 28.9, 29.2, 32.6, 23.2, 31.7, 17.8, 24.9, 28.5, 35.6, 27.2, 29.1, 29.9, 27.2, 31.2,\n",
    "     27.8, 34.1, 29.0, 26.5, 24.8])\n",
    "confidence_prob = .99\n",
    "data"
   ]
  },
  {
   "cell_type": "code",
   "execution_count": 11,
   "metadata": {},
   "outputs": [
    {
     "name": "stdout",
     "output_type": "stream",
     "text": [
      "Доверительная вероятность: 0.99\n"
     ]
    }
   ],
   "source": [
    "print(f\"Доверительная вероятность: {confidence_prob}\")"
   ]
  },
  {
   "cell_type": "code",
   "execution_count": 5,
   "metadata": {
    "ExecuteTime": {
     "end_time": "2023-04-20T12:03:14.884893Z",
     "start_time": "2023-04-20T12:03:14.877758Z"
    },
    "collapsed": false
   },
   "outputs": [
    {
     "data": {
      "text/plain": [
       "count    100.000000\n",
       "mean      28.025000\n",
       "std        5.594954\n",
       "min       13.900000\n",
       "25%       24.875000\n",
       "50%       28.200000\n",
       "75%       31.725000\n",
       "max       41.500000\n",
       "dtype: float64"
      ]
     },
     "execution_count": 5,
     "metadata": {},
     "output_type": "execute_result"
    }
   ],
   "source": [
    "data.describe()"
   ]
  },
  {
   "attachments": {},
   "cell_type": "markdown",
   "metadata": {
    "collapsed": false
   },
   "source": [
    "### Всего элементов ряда"
   ]
  },
  {
   "cell_type": "code",
   "execution_count": 6,
   "metadata": {
    "ExecuteTime": {
     "end_time": "2023-04-20T12:03:16.001799Z",
     "start_time": "2023-04-20T12:03:15.996633Z"
    },
    "collapsed": false
   },
   "outputs": [
    {
     "data": {
      "text/plain": [
       "100"
      ]
     },
     "execution_count": 6,
     "metadata": {},
     "output_type": "execute_result"
    }
   ],
   "source": [
    "data_len = len(data)\n",
    "data_len"
   ]
  },
  {
   "attachments": {},
   "cell_type": "markdown",
   "metadata": {
    "collapsed": false
   },
   "source": [
    "### Выборочное среднее\n",
    "\n",
    "$$\\overline x = \\frac1n \\sum^n_{i=1} x_i$$"
   ]
  },
  {
   "cell_type": "code",
   "execution_count": 7,
   "metadata": {
    "ExecuteTime": {
     "end_time": "2023-04-20T12:03:16.480077Z",
     "start_time": "2023-04-20T12:03:16.473334Z"
    },
    "collapsed": false
   },
   "outputs": [
    {
     "data": {
      "text/plain": [
       "28.025"
      ]
     },
     "execution_count": 7,
     "metadata": {},
     "output_type": "execute_result"
    }
   ],
   "source": [
    "mean = np.mean(data)\n",
    "mean"
   ]
  },
  {
   "attachments": {},
   "cell_type": "markdown",
   "metadata": {
    "collapsed": false
   },
   "source": [
    "### Выборочная дисперсия\n",
    "\n",
    "$$s^2_x = \\frac{1}{n-1}\\sum^n_{i=1} (x_i - \\overline x)^2$$"
   ]
  },
  {
   "cell_type": "code",
   "execution_count": 8,
   "metadata": {
    "ExecuteTime": {
     "end_time": "2023-04-20T12:03:17.424817Z",
     "start_time": "2023-04-20T12:03:17.419153Z"
    },
    "collapsed": false
   },
   "outputs": [
    {
     "data": {
      "text/plain": [
       "31.30351010101009"
      ]
     },
     "execution_count": 8,
     "metadata": {},
     "output_type": "execute_result"
    }
   ],
   "source": [
    "var = np.var(data, ddof=1)\n",
    "var"
   ]
  },
  {
   "attachments": {},
   "cell_type": "markdown",
   "metadata": {
    "collapsed": false
   },
   "source": [
    "### Среднеквадратическое отклонение\n",
    "\n",
    "$$s = \\sqrt{s^2}$$"
   ]
  },
  {
   "cell_type": "code",
   "execution_count": 9,
   "metadata": {
    "ExecuteTime": {
     "end_time": "2023-04-20T12:03:18.485410Z",
     "start_time": "2023-04-20T12:03:18.477222Z"
    },
    "collapsed": false
   },
   "outputs": [
    {
     "data": {
      "text/plain": [
       "5.5949539856025705"
      ]
     },
     "execution_count": 9,
     "metadata": {},
     "output_type": "execute_result"
    }
   ],
   "source": [
    "std = np.std(data, ddof=1)\n",
    "std"
   ]
  },
  {
   "attachments": {},
   "cell_type": "markdown",
   "metadata": {},
   "source": [
    "### Доверительный интервал для математического ожидания при неизвестной генеральной дисперсии $\\sigma$\n",
    "\n",
    "$$\\left(\\overline x - t(\\gamma, n-1) \\cdot \\frac{s}{\\sqrt{n}}, \\space \\space \\space \\overline x + t(\\gamma, n-1)  \\cdot \\frac{s}{\\sqrt{n}}\\right)$$"
   ]
  },
  {
   "attachments": {},
   "cell_type": "markdown",
   "metadata": {},
   "source": [
    "#### Считаем интервал без модуля stats"
   ]
  },
  {
   "cell_type": "code",
   "execution_count": 12,
   "metadata": {
    "ExecuteTime": {
     "end_time": "2023-04-20T11:58:05.923502Z",
     "start_time": "2023-04-20T11:58:05.864611Z"
    },
    "collapsed": false
   },
   "outputs": [
    {
     "data": {
      "text/plain": [
       "(26.555538232398934, 29.494461767601063)"
      ]
     },
     "execution_count": 12,
     "metadata": {},
     "output_type": "execute_result"
    }
   ],
   "source": [
    "def cofidence_interval_for_expectation_t(data, confidence_prob):\n",
    "    mean = np.mean(data)\n",
    "    std = np.std(data, ddof=1)\n",
    "    n = len(data)\n",
    "    # t.ppf считает левосторонюю область, а нам требуется двустроняя\n",
    "    alpha = (1 - confidence_prob) / 2\n",
    "    gamma = 1 - alpha\n",
    "    t_value = st.t.ppf(gamma, n - 1)\n",
    "    delta = t_value * std / np.sqrt(n)\n",
    "    return (mean - delta, mean + delta)\n",
    "\n",
    "cofidence_interval_for_expectation_t(data, confidence_prob)"
   ]
  },
  {
   "attachments": {},
   "cell_type": "markdown",
   "metadata": {},
   "source": [
    "#### Считаем интервал c модулем stats"
   ]
  },
  {
   "cell_type": "code",
   "execution_count": 13,
   "metadata": {},
   "outputs": [
    {
     "data": {
      "text/plain": [
       "(26.555538232398934, 29.494461767601063)"
      ]
     },
     "execution_count": 13,
     "metadata": {},
     "output_type": "execute_result"
    }
   ],
   "source": [
    "interval_expectation = st.t.interval(confidence_prob, df=data_len - 1, loc=mean, scale=st.sem(data))\n",
    "interval_expectation"
   ]
  },
  {
   "cell_type": "code",
   "execution_count": 14,
   "metadata": {},
   "outputs": [
    {
     "name": "stdout",
     "output_type": "stream",
     "text": [
      "Вывод: Таким образом с вероятностью 0.99 можно утверждать,\n",
      "что математическое ожидание лежит в интервале (26.555538232398934, 29.494461767601063)\n"
     ]
    }
   ],
   "source": [
    "print(f\"Вывод: Таким образом с вероятностью {confidence_prob} можно утверждать,\\nчто математическое ожидание лежит в интервале {interval_expectation}\")"
   ]
  }
 ],
 "metadata": {
  "kernelspec": {
   "display_name": "Python 3",
   "language": "python",
   "name": "python3"
  },
  "language_info": {
   "codemirror_mode": {
    "name": "ipython",
    "version": 3
   },
   "file_extension": ".py",
   "mimetype": "text/x-python",
   "name": "python",
   "nbconvert_exporter": "python",
   "pygments_lexer": "ipython3",
   "version": "3.9.7"
  }
 },
 "nbformat": 4,
 "nbformat_minor": 0
}
