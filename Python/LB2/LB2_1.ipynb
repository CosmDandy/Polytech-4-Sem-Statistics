{
 "cells": [
  {
   "cell_type": "code",
   "execution_count": 38,
   "metadata": {
    "ExecuteTime": {
     "end_time": "2023-04-20T12:01:53.362260Z",
     "start_time": "2023-04-20T12:01:53.353617Z"
    },
    "collapsed": true
   },
   "outputs": [],
   "source": [
    "import pandas as pd\n",
    "import numpy as np\n",
    "import scipy.stats as st"
   ]
  },
  {
   "attachments": {},
   "cell_type": "markdown",
   "metadata": {
    "collapsed": false
   },
   "source": [
    "# Лабораторная работа №2\n",
    "## Задание 1\n",
    "### {Фамилия Имя}, {Номер группы}, Вариант {Номер варианта}, ({Дата})"
   ]
  },
  {
   "attachments": {},
   "cell_type": "markdown",
   "metadata": {},
   "source": [
    "По данным выборки, удовлетворяющей нормальному закону\n",
    "распределения, вычислить:\n",
    "1) выборочное среднее;\n",
    "2) исправленное выборочное среднее квадратическое отклонение;\n",
    "3) доверительный интервал для математического ожидания при\n",
    "доверительной вероятности γ;\n",
    "4) доверительный интервал для среднего квадратического отклонения для\n",
    "того же значения γ."
   ]
  },
  {
   "attachments": {},
   "cell_type": "markdown",
   "metadata": {
    "collapsed": false
   },
   "source": [
    "### Данные"
   ]
  },
  {
   "cell_type": "code",
   "execution_count": 6,
   "metadata": {},
   "outputs": [
    {
     "name": "stdout",
     "output_type": "stream",
     "text": [
      "Фамилия, Имя: Фамилия, Имя\n",
      "Номер лабораторной работы: 2\n",
      "Вариант лабораторной работы: 23\n",
      "Номер задания лабораторной работы: 1\n"
     ]
    }
   ],
   "source": [
    "LB_NUM = 2\n",
    "LB_SURNAME = 'Фамилия'\n",
    "LB_NAME = \"Имя\"\n",
    "LB_VARIANT = 23\n",
    "LB_EXERCISE_NUM = 1\n",
    "print(f'Фамилия, Имя: {LB_SURNAME}, {LB_NAME}\\nНомер лабораторной работы: {LB_NUM}\\nВариант лабораторной работы: {LB_VARIANT}\\nНомер задания лабораторной работы: {LB_EXERCISE_NUM}')"
   ]
  },
  {
   "cell_type": "code",
   "execution_count": 27,
   "metadata": {},
   "outputs": [],
   "source": [
    "all_data = pd.read_json('input/Данные к заданию №1.json')\n",
    "variant_data = all_data[all_data[\"Вариант\"] == LB_VARIANT]\n",
    "data = pd.Series(variant_data[\"Данные\"].iloc[0], dtype=float)\n",
    "confidence_prob = variant_data[\"Доверительная вероятность\"].iloc[0]"
   ]
  },
  {
   "cell_type": "code",
   "execution_count": 29,
   "metadata": {},
   "outputs": [
    {
     "name": "stdout",
     "output_type": "stream",
     "text": [
      "Доверительная вероятность: 0.999\n"
     ]
    }
   ],
   "source": [
    "print(f\"Доверительная вероятность: {confidence_prob}\")"
   ]
  },
  {
   "cell_type": "code",
   "execution_count": 17,
   "metadata": {
    "ExecuteTime": {
     "end_time": "2023-04-20T12:01:54.261117Z",
     "start_time": "2023-04-20T12:01:54.194956Z"
    },
    "collapsed": false
   },
   "outputs": [
    {
     "data": {
      "text/plain": [
       "0     35.5\n",
       "1     38.4\n",
       "2     35.4\n",
       "3     31.4\n",
       "4     29.3\n",
       "5     38.3\n",
       "6     27.9\n",
       "7     35.6\n",
       "8     35.6\n",
       "9     36.7\n",
       "10    31.4\n",
       "11    34.7\n",
       "12    34.9\n",
       "13    27.7\n",
       "14    25.6\n",
       "15    32.5\n",
       "16    31.7\n",
       "17    31.8\n",
       "dtype: float64"
      ]
     },
     "execution_count": 17,
     "metadata": {},
     "output_type": "execute_result"
    }
   ],
   "source": [
    "data"
   ]
  },
  {
   "cell_type": "code",
   "execution_count": 18,
   "metadata": {
    "ExecuteTime": {
     "end_time": "2023-04-20T12:01:54.989341Z",
     "start_time": "2023-04-20T12:01:54.978634Z"
    },
    "collapsed": false
   },
   "outputs": [
    {
     "data": {
      "text/plain": [
       "count    18.000000\n",
       "mean     33.022222\n",
       "std       3.710170\n",
       "min      25.600000\n",
       "25%      31.400000\n",
       "50%      33.600000\n",
       "75%      35.575000\n",
       "max      38.400000\n",
       "dtype: float64"
      ]
     },
     "execution_count": 18,
     "metadata": {},
     "output_type": "execute_result"
    }
   ],
   "source": [
    "data.describe()"
   ]
  },
  {
   "attachments": {},
   "cell_type": "markdown",
   "metadata": {
    "collapsed": false
   },
   "source": [
    "### Всего элементов ряда"
   ]
  },
  {
   "cell_type": "code",
   "execution_count": 19,
   "metadata": {
    "ExecuteTime": {
     "end_time": "2023-04-20T12:01:56.071052Z",
     "start_time": "2023-04-20T12:01:56.013182Z"
    },
    "collapsed": false
   },
   "outputs": [
    {
     "data": {
      "text/plain": [
       "18"
      ]
     },
     "execution_count": 19,
     "metadata": {},
     "output_type": "execute_result"
    }
   ],
   "source": [
    "data_len = len(data)\n",
    "data_len"
   ]
  },
  {
   "attachments": {},
   "cell_type": "markdown",
   "metadata": {
    "collapsed": false
   },
   "source": [
    "### Выборочное среднее\n",
    "\n",
    "$$\\overline x = \\frac1n \\sum^n_{i=1} x_i$$"
   ]
  },
  {
   "cell_type": "code",
   "execution_count": 20,
   "metadata": {
    "ExecuteTime": {
     "end_time": "2023-04-20T12:01:57.067444Z",
     "start_time": "2023-04-20T12:01:57.054459Z"
    },
    "collapsed": false
   },
   "outputs": [
    {
     "data": {
      "text/plain": [
       "33.02222222222222"
      ]
     },
     "execution_count": 20,
     "metadata": {},
     "output_type": "execute_result"
    }
   ],
   "source": [
    "mean = np.mean(data)\n",
    "mean"
   ]
  },
  {
   "attachments": {},
   "cell_type": "markdown",
   "metadata": {
    "collapsed": false
   },
   "source": [
    "### Выборочная дисперсия\n",
    "\n",
    "$$s^2_x = \\frac{1}{n-1}\\sum^n_{i=1} (x_i - \\overline x)^2$$"
   ]
  },
  {
   "cell_type": "code",
   "execution_count": 21,
   "metadata": {
    "ExecuteTime": {
     "end_time": "2023-04-20T12:01:59.622410Z",
     "start_time": "2023-04-20T12:01:59.615178Z"
    },
    "collapsed": false
   },
   "outputs": [
    {
     "data": {
      "text/plain": [
       "13.765359477124184"
      ]
     },
     "execution_count": 21,
     "metadata": {},
     "output_type": "execute_result"
    }
   ],
   "source": [
    "var = np.var(data, ddof=1)\n",
    "var"
   ]
  },
  {
   "attachments": {},
   "cell_type": "markdown",
   "metadata": {
    "collapsed": false
   },
   "source": [
    "### Среднеквадратическое отклонение\n",
    "\n",
    "$$s = \\sqrt{s^2}$$"
   ]
  },
  {
   "cell_type": "code",
   "execution_count": 22,
   "metadata": {
    "ExecuteTime": {
     "end_time": "2023-04-20T12:02:01.838392Z",
     "start_time": "2023-04-20T12:02:01.832792Z"
    },
    "collapsed": false
   },
   "outputs": [
    {
     "data": {
      "text/plain": [
       "3.7101697369694806"
      ]
     },
     "execution_count": 22,
     "metadata": {},
     "output_type": "execute_result"
    }
   ],
   "source": [
    "std = np.std(data, ddof=1)\n",
    "std"
   ]
  },
  {
   "attachments": {},
   "cell_type": "markdown",
   "metadata": {
    "collapsed": false
   },
   "source": [
    "### Доверительный интервал для математического ожидания при неизвестной генеральной дисперсии $\\sigma$\n",
    "\n",
    "$$\\left(\\overline x - t(\\gamma, n-1) \\cdot \\frac{s}{\\sqrt{n}}, \\space \\space \\space \\overline x + t(\\gamma, n-1)  \\cdot \\frac{s}{\\sqrt{n}}\\right)$$"
   ]
  },
  {
   "attachments": {},
   "cell_type": "markdown",
   "metadata": {},
   "source": [
    "#### Считаем интервал без модуля stats"
   ]
  },
  {
   "cell_type": "code",
   "execution_count": 56,
   "metadata": {},
   "outputs": [
    {
     "data": {
      "text/plain": [
       "(29.55473757023023, 36.48970687421421)"
      ]
     },
     "execution_count": 56,
     "metadata": {},
     "output_type": "execute_result"
    }
   ],
   "source": [
    "def cofidence_interval_for_expectation_t(data, confidence_prob):\n",
    "    mean = np.mean(data)\n",
    "    std = np.std(data, ddof=1)\n",
    "    n = len(data)\n",
    "    # t.ppf считает левосторонюю область, а нам требуется двустроняя\n",
    "    alpha = (1 - confidence_prob) / 2\n",
    "    gamma = 1 - alpha\n",
    "    t_value = st.t.ppf(gamma, n - 1)\n",
    "    delta = t_value * std / np.sqrt(n)\n",
    "    return (mean - delta, mean + delta)\n",
    "\n",
    "cofidence_interval_for_expectation_t(data, confidence_prob)"
   ]
  },
  {
   "attachments": {},
   "cell_type": "markdown",
   "metadata": {},
   "source": [
    "#### Считаем интервал c модулем stats"
   ]
  },
  {
   "cell_type": "code",
   "execution_count": 57,
   "metadata": {},
   "outputs": [
    {
     "data": {
      "text/plain": [
       "True"
      ]
     },
     "execution_count": 57,
     "metadata": {},
     "output_type": "execute_result"
    }
   ],
   "source": [
    "st.sem(data) == std/np.sqrt(data_len)"
   ]
  },
  {
   "cell_type": "code",
   "execution_count": 59,
   "metadata": {},
   "outputs": [
    {
     "data": {
      "text/plain": [
       "(29.554737570230277, 36.48970687421421)"
      ]
     },
     "execution_count": 59,
     "metadata": {},
     "output_type": "execute_result"
    }
   ],
   "source": [
    "interval_expectation = st.t.interval(confidence_prob, df=data_len - 1, loc=mean, scale=st.sem(data))\n",
    "interval_expectation"
   ]
  },
  {
   "cell_type": "code",
   "execution_count": 62,
   "metadata": {},
   "outputs": [
    {
     "name": "stdout",
     "output_type": "stream",
     "text": [
      "Вывод: Таким образом с вероятностью 0.999 можно утверждать,\n",
      "что математическое ожидание лежит в интервале (29.554737570230277, 36.48970687421421)\n"
     ]
    }
   ],
   "source": [
    "print(f\"Вывод: Таким образом с вероятностью {confidence_prob} можно утверждать,\\nчто математическое ожидание лежит в интервале {interval_expectation}\")"
   ]
  },
  {
   "attachments": {},
   "cell_type": "markdown",
   "metadata": {
    "collapsed": false
   },
   "source": [
    "### Доверительный интервал для среднего квадратического отклонения для того же значения $\\gamma$\n",
    "\n",
    "#### Через $\\chi^2$\n",
    "\n",
    "$$\\left(\\frac{S \\sqrt{n-1}}{\\chi_{\\text{left}}}, \\frac{S \\sqrt{n-1}}{\\chi_{\\text{right}}}\\right)$$"
   ]
  },
  {
   "cell_type": "code",
   "execution_count": 70,
   "metadata": {
    "ExecuteTime": {
     "end_time": "2023-04-20T12:02:23.253274Z",
     "start_time": "2023-04-20T12:02:23.248556Z"
    },
    "collapsed": false
   },
   "outputs": [
    {
     "data": {
      "text/plain": [
       "(2.3361183278849347, 7.66773403328059)"
      ]
     },
     "execution_count": 70,
     "metadata": {},
     "output_type": "execute_result"
    }
   ],
   "source": [
    "def confidence_interval_std(data, confidence_prob):\n",
    "    std = np.std(data, ddof=1)\n",
    "    n = len(data)\n",
    "    chi_left = np.sqrt(st.chi2.ppf((1 + confidence_prob) / 2, n - 1))\n",
    "    chi_right = np.sqrt(st.chi2.ppf((1 - confidence_prob) / 2, n - 1))\n",
    "    return (std * np.sqrt(n - 1) / chi_left, std * np.sqrt(n - 1) / chi_right)\n",
    "\n",
    "confidence_interval_std(data, confidence_prob)"
   ]
  },
  {
   "cell_type": "code",
   "execution_count": 74,
   "metadata": {},
   "outputs": [
    {
     "name": "stdout",
     "output_type": "stream",
     "text": [
      "Вывод: Таким образом с вероятностью 0.999 можно утверждать, что стандартное отклонение генеральной\n",
      "совокупности лежит в интервале (2.3361183278849347, 7.66773403328059)\n"
     ]
    }
   ],
   "source": [
    "print(f\"Вывод: Таким образом с вероятностью {confidence_prob} можно утверждать, что стандартное отклонение генеральной\\nсовокупности лежит в интервале {confidence_interval_std(data, confidence_prob)}\")"
   ]
  }
 ],
 "metadata": {
  "kernelspec": {
   "display_name": "Python 3",
   "language": "python",
   "name": "python3"
  },
  "language_info": {
   "codemirror_mode": {
    "name": "ipython",
    "version": 3
   },
   "file_extension": ".py",
   "mimetype": "text/x-python",
   "name": "python",
   "nbconvert_exporter": "python",
   "pygments_lexer": "ipython3",
   "version": "3.9.7"
  }
 },
 "nbformat": 4,
 "nbformat_minor": 0
}
