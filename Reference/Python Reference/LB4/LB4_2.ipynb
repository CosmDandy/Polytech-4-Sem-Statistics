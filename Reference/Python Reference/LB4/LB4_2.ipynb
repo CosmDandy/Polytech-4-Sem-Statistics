{
 "cells": [
  {
   "cell_type": "code",
   "execution_count": 14,
   "outputs": [],
   "source": [
    "import pandas as pd\n",
    "from scipy.stats import t"
   ],
   "metadata": {
    "collapsed": false,
    "ExecuteTime": {
     "start_time": "2023-05-04T12:00:53.196850Z",
     "end_time": "2023-05-04T12:00:53.200570Z"
    }
   }
  },
  {
   "cell_type": "markdown",
   "source": [
    "# Лабораторная работа №4\n",
    "## Задание 2\n",
    "## Кондрашин Тимофей 211-365 Вариант 37 (04.05.2023)"
   ],
   "metadata": {
    "collapsed": false
   }
  },
  {
   "cell_type": "markdown",
   "source": [
    "## Задача и данные"
   ],
   "metadata": {
    "collapsed": false
   }
  },
  {
   "cell_type": "markdown",
   "source": [
    "По данным двух выборок нормального закона распределения проверить гипотезу о равенстве генеральных средних (при конкурирующей гипотезе об их неравенстве) при уровне значимости α = 0,1.\n",
    "\n",
    "В ответе привести:\n",
    "1) выборочное среднее для первой выборки;\n",
    "2) выборочное среднее для второй выборки;\n",
    "3) вычисленное значение критерия;\n",
    "4) табличное значение;\n",
    "5) вывод о принятии или не принятии гипотезы."
   ],
   "metadata": {
    "collapsed": false
   }
  },
  {
   "cell_type": "code",
   "execution_count": 27,
   "outputs": [
    {
     "name": "stdout",
     "output_type": "stream",
     "text": [
      "Уровень значимости: 0.1\n"
     ]
    }
   ],
   "source": [
    "x = pd.DataFrame({'X': [80.5, 105.8, 72.5, 36.5, 6.0, 88.7, 48.7, 59.0, 70.7, 106.4, 26.7, 34.9]})\n",
    "y = pd.DataFrame({'Y': [100.6, 19.3, 56.7, 53.7, 28.6, 38.4, 43.6, 52.2, 64.6, 45.6, 26.1, 79.7, 67.9, 30.8, 26.8, 24.8, 48.4]})\n",
    "n_x = len(x)\n",
    "n_y = len(y)\n",
    "a = 0.1\n",
    "\n",
    "print(f'Уровень значимости: {a}')"
   ],
   "metadata": {
    "collapsed": false,
    "ExecuteTime": {
     "start_time": "2023-05-04T12:54:10.269444Z",
     "end_time": "2023-05-04T12:54:10.273843Z"
    }
   }
  },
  {
   "cell_type": "markdown",
   "source": [
    "### Количество элементов в выборках:"
   ],
   "metadata": {
    "collapsed": false
   }
  },
  {
   "cell_type": "code",
   "execution_count": 28,
   "outputs": [
    {
     "name": "stdout",
     "output_type": "stream",
     "text": [
      "Количество элементов в первой выборке: 12\n"
     ]
    }
   ],
   "source": [
    "print(f'Количество элементов в первой выборке: {n_x}')"
   ],
   "metadata": {
    "collapsed": false,
    "ExecuteTime": {
     "start_time": "2023-05-04T12:54:11.752768Z",
     "end_time": "2023-05-04T12:54:11.757228Z"
    }
   }
  },
  {
   "cell_type": "code",
   "execution_count": 29,
   "outputs": [
    {
     "name": "stdout",
     "output_type": "stream",
     "text": [
      "Количество элементов во второй выборке: 17\n"
     ]
    }
   ],
   "source": [
    "print(f'Количество элементов во второй выборке: {n_y}')"
   ],
   "metadata": {
    "collapsed": false,
    "ExecuteTime": {
     "start_time": "2023-05-04T12:54:12.051043Z",
     "end_time": "2023-05-04T12:54:12.055454Z"
    }
   }
  },
  {
   "cell_type": "markdown",
   "source": [
    "### Выборки:"
   ],
   "metadata": {
    "collapsed": false
   }
  },
  {
   "cell_type": "markdown",
   "source": [
    "#### Первая выборка:"
   ],
   "metadata": {
    "collapsed": false
   }
  },
  {
   "cell_type": "code",
   "execution_count": 30,
   "outputs": [
    {
     "data": {
      "text/plain": "     0      1     2     3    4     5     6     7     8      9     10    11\nX  80.5  105.8  72.5  36.5  6.0  88.7  48.7  59.0  70.7  106.4  26.7  34.9",
      "text/html": "<div>\n<style scoped>\n    .dataframe tbody tr th:only-of-type {\n        vertical-align: middle;\n    }\n\n    .dataframe tbody tr th {\n        vertical-align: top;\n    }\n\n    .dataframe thead th {\n        text-align: right;\n    }\n</style>\n<table border=\"1\" class=\"dataframe\">\n  <thead>\n    <tr style=\"text-align: right;\">\n      <th></th>\n      <th>0</th>\n      <th>1</th>\n      <th>2</th>\n      <th>3</th>\n      <th>4</th>\n      <th>5</th>\n      <th>6</th>\n      <th>7</th>\n      <th>8</th>\n      <th>9</th>\n      <th>10</th>\n      <th>11</th>\n    </tr>\n  </thead>\n  <tbody>\n    <tr>\n      <th>X</th>\n      <td>80.5</td>\n      <td>105.8</td>\n      <td>72.5</td>\n      <td>36.5</td>\n      <td>6.0</td>\n      <td>88.7</td>\n      <td>48.7</td>\n      <td>59.0</td>\n      <td>70.7</td>\n      <td>106.4</td>\n      <td>26.7</td>\n      <td>34.9</td>\n    </tr>\n  </tbody>\n</table>\n</div>"
     },
     "execution_count": 30,
     "metadata": {},
     "output_type": "execute_result"
    }
   ],
   "source": [
    "x.T"
   ],
   "metadata": {
    "collapsed": false,
    "ExecuteTime": {
     "start_time": "2023-05-04T12:54:13.833321Z",
     "end_time": "2023-05-04T12:54:13.837511Z"
    }
   }
  },
  {
   "cell_type": "markdown",
   "source": [
    "#### Вторая выборка:"
   ],
   "metadata": {
    "collapsed": false
   }
  },
  {
   "cell_type": "code",
   "execution_count": 31,
   "outputs": [
    {
     "data": {
      "text/plain": "      0     1     2     3     4     5     6     7     8     9     10    11  \\\nY  100.6  19.3  56.7  53.7  28.6  38.4  43.6  52.2  64.6  45.6  26.1  79.7   \n\n     12    13    14    15    16  \nY  67.9  30.8  26.8  24.8  48.4  ",
      "text/html": "<div>\n<style scoped>\n    .dataframe tbody tr th:only-of-type {\n        vertical-align: middle;\n    }\n\n    .dataframe tbody tr th {\n        vertical-align: top;\n    }\n\n    .dataframe thead th {\n        text-align: right;\n    }\n</style>\n<table border=\"1\" class=\"dataframe\">\n  <thead>\n    <tr style=\"text-align: right;\">\n      <th></th>\n      <th>0</th>\n      <th>1</th>\n      <th>2</th>\n      <th>3</th>\n      <th>4</th>\n      <th>5</th>\n      <th>6</th>\n      <th>7</th>\n      <th>8</th>\n      <th>9</th>\n      <th>10</th>\n      <th>11</th>\n      <th>12</th>\n      <th>13</th>\n      <th>14</th>\n      <th>15</th>\n      <th>16</th>\n    </tr>\n  </thead>\n  <tbody>\n    <tr>\n      <th>Y</th>\n      <td>100.6</td>\n      <td>19.3</td>\n      <td>56.7</td>\n      <td>53.7</td>\n      <td>28.6</td>\n      <td>38.4</td>\n      <td>43.6</td>\n      <td>52.2</td>\n      <td>64.6</td>\n      <td>45.6</td>\n      <td>26.1</td>\n      <td>79.7</td>\n      <td>67.9</td>\n      <td>30.8</td>\n      <td>26.8</td>\n      <td>24.8</td>\n      <td>48.4</td>\n    </tr>\n  </tbody>\n</table>\n</div>"
     },
     "execution_count": 31,
     "metadata": {},
     "output_type": "execute_result"
    }
   ],
   "source": [
    "y.T"
   ],
   "metadata": {
    "collapsed": false,
    "ExecuteTime": {
     "start_time": "2023-05-04T12:54:14.298075Z",
     "end_time": "2023-05-04T12:54:14.302961Z"
    }
   }
  },
  {
   "cell_type": "markdown",
   "source": [
    "## Проверка гипотезы о равенстве генеральных средних\n",
    "\n",
    "$$\n",
    "H_0: \\mu_x = \\mu_y \\\\\n",
    "H_1: \\mu_x \\neq \\mu_y\n",
    "$$"
   ],
   "metadata": {
    "collapsed": false
   }
  },
  {
   "cell_type": "markdown",
   "source": [
    "### Вычисление выборочных средних:\n",
    "\n",
    "$$\n",
    "\\overline{x} = \\frac{1}{n_x} \\sum_{i = 1}^{n_x} x_i, \\quad \\overline{y} = \\frac{1}{n_y} \\sum_{i = 1}^{n_y} y_i\n",
    "$$"
   ],
   "metadata": {
    "collapsed": false
   }
  },
  {
   "cell_type": "code",
   "execution_count": 32,
   "outputs": [
    {
     "name": "stdout",
     "output_type": "stream",
     "text": [
      "Выборочное среднее первой выборки: 61.366666666666674\n"
     ]
    }
   ],
   "source": [
    "x_mean = x.mean()[0]\n",
    "print(f'Выборочное среднее первой выборки: {x_mean}')"
   ],
   "metadata": {
    "collapsed": false,
    "ExecuteTime": {
     "start_time": "2023-05-04T12:54:19.177961Z",
     "end_time": "2023-05-04T12:54:19.184160Z"
    }
   }
  },
  {
   "cell_type": "code",
   "execution_count": 33,
   "outputs": [
    {
     "name": "stdout",
     "output_type": "stream",
     "text": [
      "Выборочное среднее второй выборки: 47.517647058823535\n"
     ]
    }
   ],
   "source": [
    "y_mean = y.mean()[0]\n",
    "print(f'Выборочное среднее второй выборки: {y_mean}')"
   ],
   "metadata": {
    "collapsed": false,
    "ExecuteTime": {
     "start_time": "2023-05-04T12:54:19.648704Z",
     "end_time": "2023-05-04T12:54:19.651990Z"
    }
   }
  },
  {
   "cell_type": "markdown",
   "source": [
    "### Вычисление дисперсий выборок:\n",
    "\n",
    "$$\n",
    "\\sigma^2_x = \\frac{1}{n_x} \\sum_{i = 1}^{n_x} (x_i - \\overline{x})^2 \\\\\n",
    "$$"
   ],
   "metadata": {
    "collapsed": false
   }
  },
  {
   "cell_type": "code",
   "execution_count": 34,
   "outputs": [
    {
     "name": "stdout",
     "output_type": "stream",
     "text": [
      "Дисперсия первой выборки: 1007.1551515151515\n"
     ]
    }
   ],
   "source": [
    "x_var = x.var()[0]\n",
    "print(f'Дисперсия первой выборки: {x_var}')"
   ],
   "metadata": {
    "collapsed": false,
    "ExecuteTime": {
     "start_time": "2023-05-04T12:54:22.762612Z",
     "end_time": "2023-05-04T12:54:22.766820Z"
    }
   }
  },
  {
   "cell_type": "code",
   "execution_count": 35,
   "outputs": [
    {
     "name": "stdout",
     "output_type": "stream",
     "text": [
      "Дисперсия второй выборки: 477.85654411764705\n"
     ]
    }
   ],
   "source": [
    "y_var = y.var()[0]\n",
    "print(f'Дисперсия второй выборки: {y_var}')"
   ],
   "metadata": {
    "collapsed": false,
    "ExecuteTime": {
     "start_time": "2023-05-04T12:54:23.704015Z",
     "end_time": "2023-05-04T12:54:23.707390Z"
    }
   }
  },
  {
   "cell_type": "markdown",
   "source": [
    "### Вычисление t-критерия Стьюдента:\n",
    "\n",
    "$$\n",
    "t = \\frac{\\overline{x} - \\overline{y}}{\\sqrt{\\frac{\\sigma^2_x}{n_x} + \\frac{\\sigma^2_y}{n_y}}}\n",
    "$$"
   ],
   "metadata": {
    "collapsed": false
   }
  },
  {
   "cell_type": "code",
   "execution_count": 36,
   "outputs": [
    {
     "name": "stdout",
     "output_type": "stream",
     "text": [
      "Вычисленное значение критерия: 1.308382712578035\n"
     ]
    }
   ],
   "source": [
    "t_r = (x_mean - y_mean) / (x_var / n_x + y_var / n_y) ** 0.5\n",
    "print(f'Вычисленное значение критерия: {t_r}')"
   ],
   "metadata": {
    "collapsed": false,
    "ExecuteTime": {
     "start_time": "2023-05-04T12:54:27.121071Z",
     "end_time": "2023-05-04T12:54:27.124238Z"
    }
   }
  },
  {
   "cell_type": "markdown",
   "source": [
    "### Вычисление табличного t-криетрия Стьюдента:\n",
    "\n",
    "$$\n",
    "t_{табл} = t_{1 - \\frac{\\alpha}{2}, n_x + n_y - 2}\n",
    "$$"
   ],
   "metadata": {
    "collapsed": false
   }
  },
  {
   "cell_type": "code",
   "execution_count": 37,
   "outputs": [
    {
     "name": "stdout",
     "output_type": "stream",
     "text": [
      "Табличное значение критерия: 1.7032884457221265\n"
     ]
    }
   ],
   "source": [
    "t_t = t.ppf(1 - a / 2, n_x + n_y - 2)\n",
    "print(f'Табличное значение критерия: {t_t}')"
   ],
   "metadata": {
    "collapsed": false,
    "ExecuteTime": {
     "start_time": "2023-05-04T12:54:29.163766Z",
     "end_time": "2023-05-04T12:54:29.166486Z"
    }
   }
  },
  {
   "cell_type": "markdown",
   "source": [
    "## Вывод о принятии или не принятии гипотезы"
   ],
   "metadata": {
    "collapsed": false
   }
  },
  {
   "cell_type": "code",
   "execution_count": 38,
   "outputs": [
    {
     "name": "stdout",
     "output_type": "stream",
     "text": [
      "Гипотеза о равенстве дисперсий принимается (H0)\n"
     ]
    }
   ],
   "source": [
    "if abs(t_r) < t_t:\n",
    "    print('Гипотеза о равенстве дисперсий принимается (H0)')\n",
    "else:\n",
    "    print('Гипотеза о равенстве дисперсий отвергается (H0), принимается альтернативная гипотеза (H1)')"
   ],
   "metadata": {
    "collapsed": false,
    "ExecuteTime": {
     "start_time": "2023-05-04T12:54:52.429060Z",
     "end_time": "2023-05-04T12:54:52.433322Z"
    }
   }
  },
  {
   "cell_type": "code",
   "execution_count": 13,
   "outputs": [],
   "source": [],
   "metadata": {
    "collapsed": false,
    "ExecuteTime": {
     "start_time": "2023-05-04T12:00:47.904930Z",
     "end_time": "2023-05-04T12:00:47.946063Z"
    }
   }
  }
 ],
 "metadata": {
  "kernelspec": {
   "display_name": "Python 3",
   "language": "python",
   "name": "python3"
  },
  "language_info": {
   "codemirror_mode": {
    "name": "ipython",
    "version": 2
   },
   "file_extension": ".py",
   "mimetype": "text/x-python",
   "name": "python",
   "nbconvert_exporter": "python",
   "pygments_lexer": "ipython2",
   "version": "2.7.6"
  }
 },
 "nbformat": 4,
 "nbformat_minor": 0
}
