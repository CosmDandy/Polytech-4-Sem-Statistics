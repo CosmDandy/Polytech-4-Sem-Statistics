{
 "cells": [
  {
   "cell_type": "code",
   "execution_count": 54,
   "outputs": [],
   "source": [
    "import pandas as pd\n",
    "from scipy.stats import t\n",
    "import numpy as np"
   ],
   "metadata": {
    "collapsed": false,
    "ExecuteTime": {
     "start_time": "2023-05-04T12:55:02.978099Z",
     "end_time": "2023-05-04T12:55:02.981642Z"
    }
   }
  },
  {
   "cell_type": "markdown",
   "source": [
    "# Лабораторная работа №4\n",
    "## Задание 3\n",
    "## Кондрашин Тимофей 211-365 Вариант 37 (04.05.2023)"
   ],
   "metadata": {
    "collapsed": false
   }
  },
  {
   "cell_type": "markdown",
   "source": [
    "## Задача и данные"
   ],
   "metadata": {
    "collapsed": false
   }
  },
  {
   "cell_type": "markdown",
   "source": [
    "По данным двух выборок нормального закона распределения (первая – с дисперсией $S_1^2$, вторая – с дисперсией $S_2^2$ проверить гипотезу о равенстве средних значений при уровне значимости α (при конкурирующей гипотезе об их неравенстве).\n",
    "\n",
    "В ответе привести:\n",
    "1) выборочное среднее для первой выборки;\n",
    "2) выборочное среднее для второй выборки;\n",
    "3) вычисленное значение критерия;\n",
    "4) критическое значение;\n",
    "5) вывод о принятии или не принятии гипотезы"
   ],
   "metadata": {
    "collapsed": false
   }
  },
  {
   "cell_type": "code",
   "execution_count": 55,
   "outputs": [
    {
     "name": "stdout",
     "output_type": "stream",
     "text": [
      "Уровень значимости: 0.1\n"
     ]
    }
   ],
   "source": [
    "x = pd.DataFrame({'X': [124.1, 82.5, 69.0, 85.4, 32.4, 77.7, 78.2, 96.6, 39.6, 34.2, 67.8, 35.1, 30.9, 69.6, 101.0,\n",
    "                        61.6, 115.1, 39.2, 66.6, 92.3, 53.0, 95.3, 55.5, 92.2, 66.1, 57.2, 29.5, 68.2, 40.5, 54.0, 40.4,\n",
    "                        72.0, 69.2, 35.2, 98.5, 26.9, 47.0, 106.4, 50.2, 46.2, 88.4, 56.6, 45.4, 69.3, 63.5, 42.6, 66.0,\n",
    "                        80.1, 66.4, 92.0, 60.9, 75.7, 109.2, 47.1, 64.5, 93.3, 49.4, 65.9, 98.7, 46.2, 24.2, 50.5, 92.4,\n",
    "                        75.1, 112.0, 14.6, 41.0, 59.5, 59.7, 44.9, 108.7, 68.8, 49.9, 44.4, 48.2, 48.3, 87.9, 59.5,\n",
    "                        67.8, 62.7, 61.5, 40.7, 68.1, 65.1, 59.6, 77.3, 77.0, 74.0, 99.4, 67.2, 76.9, 99.9, 29.0, 18.3,\n",
    "                        56.5, 81.8, 28.3, 66.7, 63.1]})\n",
    "y = pd.DataFrame({'Y': [65.3, 67.8, 91.3, 87.9, 58.2, 124.8, 37.1, 86.1, 53.6, 59.4, 94.4, 79.7, 73.1, 18.5, 54.7,\n",
    "                        107.0, 78.0, 70.2, 99.7, 117.4, 97.0, 82.8, 68.3, 98.3, 42.1, 76.9, 71.2, 54.4, 98.5, 103.8,\n",
    "                        119.6, 47.1, 91.8, 99.1, 90.8, 36.4, 64.3, 72.6, 81.1, 120.5, 79.2, 99.4, 96.3, 77.4, 148.4,\n",
    "                        85.6, 92.8, 104.3, 61.4, 83.5, 43.1, 97.0, 111.4, 169.8, 88.1, 52.0, 138.4, 49.9, 79.3, 45.2,\n",
    "                        18.6, 108.2, 142.9, 22.3, 79.0, 39.9, 146.6, 76.9, 65.4, 125.8, 27.0, 54.4, 43.7, 88.0, 54.7,\n",
    "                        115.8, 66.1, 78.8, 76.6, 55.8, 61.8, 47.1, 80.3, 90.9, 52.5, 16.2, 35.0, 89.4, 30.5, 87.0, 94.1,\n",
    "                        73.6, 99.2, 66.9, 62.3, 85.8, 64.6, 96.4, 22.0]})\n",
    "n_x = len(x)\n",
    "n_y = len(y)\n",
    "a = 0.1\n",
    "\n",
    "print(f'Уровень значимости: {a}')"
   ],
   "metadata": {
    "collapsed": false,
    "ExecuteTime": {
     "start_time": "2023-05-04T12:55:03.637123Z",
     "end_time": "2023-05-04T12:55:03.641895Z"
    }
   }
  },
  {
   "cell_type": "markdown",
   "source": [
    "### Количество элементов в выборках:"
   ],
   "metadata": {
    "collapsed": false
   }
  },
  {
   "cell_type": "code",
   "execution_count": 56,
   "outputs": [
    {
     "name": "stdout",
     "output_type": "stream",
     "text": [
      "Количество элементов в первой выборке: 99\n"
     ]
    }
   ],
   "source": [
    "print(f'Количество элементов в первой выборке: {n_x}')"
   ],
   "metadata": {
    "collapsed": false,
    "ExecuteTime": {
     "start_time": "2023-05-04T12:55:05.112476Z",
     "end_time": "2023-05-04T12:55:05.116492Z"
    }
   }
  },
  {
   "cell_type": "code",
   "execution_count": 57,
   "outputs": [
    {
     "name": "stdout",
     "output_type": "stream",
     "text": [
      "Количество элементов во второй выборке: 99\n"
     ]
    }
   ],
   "source": [
    "print(f'Количество элементов во второй выборке: {n_y}')"
   ],
   "metadata": {
    "collapsed": false,
    "ExecuteTime": {
     "start_time": "2023-05-04T12:55:05.533931Z",
     "end_time": "2023-05-04T12:55:05.537283Z"
    }
   }
  },
  {
   "cell_type": "markdown",
   "source": [
    "### Выборки:"
   ],
   "metadata": {
    "collapsed": false
   }
  },
  {
   "cell_type": "markdown",
   "source": [
    "#### Первая выборка:"
   ],
   "metadata": {
    "collapsed": false
   }
  },
  {
   "cell_type": "code",
   "execution_count": 58,
   "outputs": [
    {
     "data": {
      "text/plain": "      0     1     2     3     4     5     6     7     8     9   ...    89  \\\nX  124.1  82.5  69.0  85.4  32.4  77.7  78.2  96.6  39.6  34.2  ...  67.2   \n\n     90    91    92    93    94    95    96    97    98  \nX  76.9  99.9  29.0  18.3  56.5  81.8  28.3  66.7  63.1  \n\n[1 rows x 99 columns]",
      "text/html": "<div>\n<style scoped>\n    .dataframe tbody tr th:only-of-type {\n        vertical-align: middle;\n    }\n\n    .dataframe tbody tr th {\n        vertical-align: top;\n    }\n\n    .dataframe thead th {\n        text-align: right;\n    }\n</style>\n<table border=\"1\" class=\"dataframe\">\n  <thead>\n    <tr style=\"text-align: right;\">\n      <th></th>\n      <th>0</th>\n      <th>1</th>\n      <th>2</th>\n      <th>3</th>\n      <th>4</th>\n      <th>5</th>\n      <th>6</th>\n      <th>7</th>\n      <th>8</th>\n      <th>9</th>\n      <th>...</th>\n      <th>89</th>\n      <th>90</th>\n      <th>91</th>\n      <th>92</th>\n      <th>93</th>\n      <th>94</th>\n      <th>95</th>\n      <th>96</th>\n      <th>97</th>\n      <th>98</th>\n    </tr>\n  </thead>\n  <tbody>\n    <tr>\n      <th>X</th>\n      <td>124.1</td>\n      <td>82.5</td>\n      <td>69.0</td>\n      <td>85.4</td>\n      <td>32.4</td>\n      <td>77.7</td>\n      <td>78.2</td>\n      <td>96.6</td>\n      <td>39.6</td>\n      <td>34.2</td>\n      <td>...</td>\n      <td>67.2</td>\n      <td>76.9</td>\n      <td>99.9</td>\n      <td>29.0</td>\n      <td>18.3</td>\n      <td>56.5</td>\n      <td>81.8</td>\n      <td>28.3</td>\n      <td>66.7</td>\n      <td>63.1</td>\n    </tr>\n  </tbody>\n</table>\n<p>1 rows × 99 columns</p>\n</div>"
     },
     "execution_count": 58,
     "metadata": {},
     "output_type": "execute_result"
    }
   ],
   "source": [
    "x.T"
   ],
   "metadata": {
    "collapsed": false,
    "ExecuteTime": {
     "start_time": "2023-05-04T12:55:07.727960Z",
     "end_time": "2023-05-04T12:55:07.731794Z"
    }
   }
  },
  {
   "cell_type": "markdown",
   "source": [
    "#### Вторая выборка:"
   ],
   "metadata": {
    "collapsed": false
   }
  },
  {
   "cell_type": "code",
   "execution_count": 59,
   "outputs": [
    {
     "data": {
      "text/plain": "     0     1     2     3     4      5     6     7     8     9   ...    89  \\\nY  65.3  67.8  91.3  87.9  58.2  124.8  37.1  86.1  53.6  59.4  ...  87.0   \n\n     90    91    92    93    94    95    96    97    98  \nY  94.1  73.6  99.2  66.9  62.3  85.8  64.6  96.4  22.0  \n\n[1 rows x 99 columns]",
      "text/html": "<div>\n<style scoped>\n    .dataframe tbody tr th:only-of-type {\n        vertical-align: middle;\n    }\n\n    .dataframe tbody tr th {\n        vertical-align: top;\n    }\n\n    .dataframe thead th {\n        text-align: right;\n    }\n</style>\n<table border=\"1\" class=\"dataframe\">\n  <thead>\n    <tr style=\"text-align: right;\">\n      <th></th>\n      <th>0</th>\n      <th>1</th>\n      <th>2</th>\n      <th>3</th>\n      <th>4</th>\n      <th>5</th>\n      <th>6</th>\n      <th>7</th>\n      <th>8</th>\n      <th>9</th>\n      <th>...</th>\n      <th>89</th>\n      <th>90</th>\n      <th>91</th>\n      <th>92</th>\n      <th>93</th>\n      <th>94</th>\n      <th>95</th>\n      <th>96</th>\n      <th>97</th>\n      <th>98</th>\n    </tr>\n  </thead>\n  <tbody>\n    <tr>\n      <th>Y</th>\n      <td>65.3</td>\n      <td>67.8</td>\n      <td>91.3</td>\n      <td>87.9</td>\n      <td>58.2</td>\n      <td>124.8</td>\n      <td>37.1</td>\n      <td>86.1</td>\n      <td>53.6</td>\n      <td>59.4</td>\n      <td>...</td>\n      <td>87.0</td>\n      <td>94.1</td>\n      <td>73.6</td>\n      <td>99.2</td>\n      <td>66.9</td>\n      <td>62.3</td>\n      <td>85.8</td>\n      <td>64.6</td>\n      <td>96.4</td>\n      <td>22.0</td>\n    </tr>\n  </tbody>\n</table>\n<p>1 rows × 99 columns</p>\n</div>"
     },
     "execution_count": 59,
     "metadata": {},
     "output_type": "execute_result"
    }
   ],
   "source": [
    "y.T"
   ],
   "metadata": {
    "collapsed": false,
    "ExecuteTime": {
     "start_time": "2023-05-04T12:55:08.500232Z",
     "end_time": "2023-05-04T12:55:08.504100Z"
    }
   }
  },
  {
   "cell_type": "markdown",
   "source": [
    "## Проверка гипотезы о равенстве генеральных средних\n",
    "\n",
    "$$\n",
    "H_0: \\mu_x = \\mu_y \\\\\n",
    "H_1: \\mu_x \\neq \\mu_y\n",
    "$$"
   ],
   "metadata": {
    "collapsed": false
   }
  },
  {
   "cell_type": "markdown",
   "source": [
    "### Вычисление выборочных средних:\n",
    "\n",
    "$$\n",
    "\\overline{x} = \\frac{1}{n_x} \\sum_{i = 1}^{n_x} x_i, \\quad \\overline{y} = \\frac{1}{n_y} \\sum_{i = 1}^{n_y} y_i\n",
    "$$"
   ],
   "metadata": {
    "collapsed": false
   }
  },
  {
   "cell_type": "code",
   "execution_count": 60,
   "outputs": [
    {
     "name": "stdout",
     "output_type": "stream",
     "text": [
      "Выборочное среднее первой выборки: 64.78888888888889\n"
     ]
    }
   ],
   "source": [
    "x_mean = x.mean()[0]\n",
    "print(f'Выборочное среднее первой выборки: {x_mean}')"
   ],
   "metadata": {
    "collapsed": false,
    "ExecuteTime": {
     "start_time": "2023-05-04T12:55:11.565512Z",
     "end_time": "2023-05-04T12:55:11.570245Z"
    }
   }
  },
  {
   "cell_type": "code",
   "execution_count": 61,
   "outputs": [
    {
     "name": "stdout",
     "output_type": "stream",
     "text": [
      "Выборочное среднее второй выборки: 77.63030303030303\n"
     ]
    }
   ],
   "source": [
    "y_mean = y.mean()[0]\n",
    "print(f'Выборочное среднее второй выборки: {y_mean}')"
   ],
   "metadata": {
    "collapsed": false,
    "ExecuteTime": {
     "start_time": "2023-05-04T12:55:12.275652Z",
     "end_time": "2023-05-04T12:55:12.279344Z"
    }
   }
  },
  {
   "cell_type": "markdown",
   "source": [
    "### Вычисление дисперсий выборок:\n",
    "\n",
    "$$\n",
    "s^2_x = \\frac{1}{n_x - 1} \\sum_{i = 1}^{n_x} (x_i - \\overline{x})^2, \\quad s^2_y = \\frac{1}{n_y - 1} \\sum_{i = 1}^{n_y} (y_i - \\overline{y})^2\n",
    "$$"
   ],
   "metadata": {
    "collapsed": false
   }
  },
  {
   "cell_type": "code",
   "execution_count": 62,
   "outputs": [
    {
     "name": "stdout",
     "output_type": "stream",
     "text": [
      "Дисперсия первой выборки: 557.3467120181406\n"
     ]
    }
   ],
   "source": [
    "x_var = x.var()[0]\n",
    "print(f'Дисперсия первой выборки: {x_var}')"
   ],
   "metadata": {
    "collapsed": false,
    "ExecuteTime": {
     "start_time": "2023-05-04T12:55:14.436079Z",
     "end_time": "2023-05-04T12:55:14.440398Z"
    }
   }
  },
  {
   "cell_type": "code",
   "execution_count": 63,
   "outputs": [
    {
     "name": "stdout",
     "output_type": "stream",
     "text": [
      "Дисперсия второй выборки: 928.972745825603\n"
     ]
    }
   ],
   "source": [
    "y_var = y.var()[0]\n",
    "print(f'Дисперсия второй выборки: {y_var}')"
   ],
   "metadata": {
    "collapsed": false,
    "ExecuteTime": {
     "start_time": "2023-05-04T12:55:14.795272Z",
     "end_time": "2023-05-04T12:55:14.798824Z"
    }
   }
  },
  {
   "cell_type": "markdown",
   "source": [
    "### Вычисление общей дисперсии:\n",
    "\n",
    "$$\n",
    "s^2 = \\frac{(n_x - 1) \\sigma^2_x + (n_y - 1) \\sigma^2_y}{n_x + n_y - 2}\n",
    "$$"
   ],
   "metadata": {
    "collapsed": false
   }
  },
  {
   "cell_type": "code",
   "execution_count": 64,
   "outputs": [
    {
     "name": "stdout",
     "output_type": "stream",
     "text": [
      "Общая дисперсия: 743.1597289218718\n"
     ]
    }
   ],
   "source": [
    "s = ((n_x - 1) * x_var + (n_y - 1) * y_var) / (n_x + n_y - 2)\n",
    "print(f'Общая дисперсия: {s}')"
   ],
   "metadata": {
    "collapsed": false,
    "ExecuteTime": {
     "start_time": "2023-05-04T12:55:19.327795Z",
     "end_time": "2023-05-04T12:55:19.331533Z"
    }
   }
  },
  {
   "cell_type": "markdown",
   "source": [
    "### Вычисление t-критерия Стьюдента:\n",
    "\n",
    "$$\n",
    "t = \\frac{\\overline{x} - \\overline{y}}{S \\sqrt{\\frac{1}{n_x} + \\frac{1}{n_y}}}\n",
    "$$"
   ],
   "metadata": {
    "collapsed": false
   }
  },
  {
   "cell_type": "code",
   "execution_count": 65,
   "outputs": [
    {
     "name": "stdout",
     "output_type": "stream",
     "text": [
      "Вычисленное значение критерия: -3.3141668429483055\n"
     ]
    }
   ],
   "source": [
    "t_r = (x_mean - y_mean) / (np.sqrt(s) * np.sqrt(1 / n_x + 1 / n_y))\n",
    "print(f'Вычисленное значение критерия: {t_r}')"
   ],
   "metadata": {
    "collapsed": false,
    "ExecuteTime": {
     "start_time": "2023-05-04T12:55:31.070876Z",
     "end_time": "2023-05-04T12:55:31.074707Z"
    }
   }
  },
  {
   "cell_type": "markdown",
   "source": [
    "### Вычисление табличного t-криетрия Стьюдента:\n",
    "\n",
    "$$\n",
    "t_{табл} = t_{1 - \\frac{\\alpha}{2}, n_x + n_y - 2}\n",
    "$$"
   ],
   "metadata": {
    "collapsed": false
   }
  },
  {
   "cell_type": "code",
   "execution_count": 66,
   "outputs": [
    {
     "name": "stdout",
     "output_type": "stream",
     "text": [
      "Табличное значение критерия: 1.6526650592326857\n"
     ]
    }
   ],
   "source": [
    "t_t = t.ppf(1 - a / 2, n_x + n_y - 2)\n",
    "print(f'Табличное значение критерия: {t_t}')"
   ],
   "metadata": {
    "collapsed": false,
    "ExecuteTime": {
     "start_time": "2023-05-04T12:55:34.287527Z",
     "end_time": "2023-05-04T12:55:34.290015Z"
    }
   }
  },
  {
   "cell_type": "markdown",
   "source": [
    "## Вывод о принятии или не принятии гипотезы"
   ],
   "metadata": {
    "collapsed": false
   }
  },
  {
   "cell_type": "code",
   "execution_count": 67,
   "outputs": [
    {
     "name": "stdout",
     "output_type": "stream",
     "text": [
      "Гипотеза о равенстве дисперсий отвергается (H0), принимается альтернативная гипотеза (H1)\n"
     ]
    }
   ],
   "source": [
    "if abs(t_r) < t_t:\n",
    "    print('Гипотеза о равенстве дисперсий принимается (H0)')\n",
    "else:\n",
    "    print('Гипотеза о равенстве дисперсий отвергается (H0), принимается альтернативная гипотеза (H1)')"
   ],
   "metadata": {
    "collapsed": false,
    "ExecuteTime": {
     "start_time": "2023-05-04T12:55:36.998266Z",
     "end_time": "2023-05-04T12:55:37.001765Z"
    }
   }
  },
  {
   "cell_type": "code",
   "execution_count": 50,
   "outputs": [],
   "source": [],
   "metadata": {
    "collapsed": false,
    "ExecuteTime": {
     "start_time": "2023-05-04T12:17:05.214482Z",
     "end_time": "2023-05-04T12:17:05.232514Z"
    }
   }
  }
 ],
 "metadata": {
  "kernelspec": {
   "display_name": "Python 3",
   "language": "python",
   "name": "python3"
  },
  "language_info": {
   "codemirror_mode": {
    "name": "ipython",
    "version": 2
   },
   "file_extension": ".py",
   "mimetype": "text/x-python",
   "name": "python",
   "nbconvert_exporter": "python",
   "pygments_lexer": "ipython2",
   "version": "2.7.6"
  }
 },
 "nbformat": 4,
 "nbformat_minor": 0
}
