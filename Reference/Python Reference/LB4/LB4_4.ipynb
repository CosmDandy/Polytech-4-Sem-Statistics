{
 "cells": [
  {
   "cell_type": "code",
   "execution_count": 49,
   "outputs": [],
   "source": [
    "from scipy.stats import norm\n",
    "import numpy as np"
   ],
   "metadata": {
    "collapsed": false,
    "ExecuteTime": {
     "start_time": "2023-05-04T12:55:42.319374Z",
     "end_time": "2023-05-04T12:55:42.323930Z"
    }
   }
  },
  {
   "cell_type": "markdown",
   "source": [
    "# Лабораторная работа №4\n",
    "## Задание 4\n",
    "## Кондрашин Тимофей 211-365 Вариант 37 (04.05.2023)"
   ],
   "metadata": {
    "collapsed": false
   }
  },
  {
   "cell_type": "markdown",
   "source": [
    "## Задача и данные"
   ],
   "metadata": {
    "collapsed": false
   }
  },
  {
   "cell_type": "markdown",
   "source": [
    "При проведении $n_1$ испытаний в первой серии число благоприятных исходов равнялось $m_1$. Во второй серии из $n_2$ испытаний число благоприятных исходов равнялось $m_2$. Проверить гипотезу о равенстве вероятностей благоприятного исхода в двух сериях (при конкурирующей гипотезе об их неравенстве) при уровне значимости $α$.\n",
    "\n",
    "В ответе привести:\n",
    "1) вычисленное значение критерия;\n",
    "2) критическое значение;\n",
    "3) вывод о принятии или не принятии гипотезы."
   ],
   "metadata": {
    "collapsed": false
   }
  },
  {
   "cell_type": "code",
   "execution_count": 50,
   "outputs": [
    {
     "name": "stdout",
     "output_type": "stream",
     "text": [
      "Уровень значимости: a = 0.09,\n",
      "Количество испытаний в первой серии: n1 = 200,\n",
      "Количество благоприятных исходов в первой серии: m1 = 90,\n",
      "Количество испытаний во второй серии: n2 = 700,\n",
      "Количество благоприятных исходов во второй серии: m2 = 342\n"
     ]
    }
   ],
   "source": [
    "a = 0.09\n",
    "n1 = 200\n",
    "m1 = 90\n",
    "n2 = 700\n",
    "m2 = 342\n",
    "print(f'Уровень значимости: a = {a},\\nКоличество испытаний в первой серии: n1 = {n1},\\nКоличество благоприятных исходов в первой серии: m1 = {m1},\\nКоличество испытаний во второй серии: n2 = {n2},\\nКоличество благоприятных исходов во второй серии: m2 = {m2}')"
   ],
   "metadata": {
    "collapsed": false,
    "ExecuteTime": {
     "start_time": "2023-05-04T12:55:43.518654Z",
     "end_time": "2023-05-04T12:55:43.522754Z"
    }
   }
  },
  {
   "cell_type": "markdown",
   "source": [
    "## Проверка гипотезы о равенстве вероятностей благоприятного исхода в двух сериях\n",
    "\n",
    "$$\n",
    "H_0: p_1 = p_2 \\\\\n",
    "H_1: p_1 \\neq p_2\n",
    "$$"
   ],
   "metadata": {
    "collapsed": false
   }
  },
  {
   "cell_type": "markdown",
   "source": [
    "### Вычисление вероятностей\n",
    "\n",
    "$$\n",
    "p_1 = \\frac{m_1}{n_1}\n",
    "$$"
   ],
   "metadata": {
    "collapsed": false
   }
  },
  {
   "cell_type": "code",
   "execution_count": 51,
   "outputs": [
    {
     "name": "stdout",
     "output_type": "stream",
     "text": [
      "Вероятность благоприятного исхода в первой серии: p1 = 0.45\n"
     ]
    }
   ],
   "source": [
    "p1 = m1 / n1\n",
    "print(f'Вероятность благоприятного исхода в первой серии: p1 = {p1}')"
   ],
   "metadata": {
    "collapsed": false,
    "ExecuteTime": {
     "start_time": "2023-05-04T12:55:48.054503Z",
     "end_time": "2023-05-04T12:55:48.056895Z"
    }
   }
  },
  {
   "cell_type": "markdown",
   "source": [
    "$$\n",
    "p_2 = \\frac{m_2}{n_2}\n",
    "$$"
   ],
   "metadata": {
    "collapsed": false
   }
  },
  {
   "cell_type": "code",
   "execution_count": 52,
   "outputs": [
    {
     "name": "stdout",
     "output_type": "stream",
     "text": [
      "Вероятность благоприятного исхода во второй серии: p2 = 0.48857142857142855\n"
     ]
    }
   ],
   "source": [
    "p2 = m2 / n2\n",
    "print(f'Вероятность благоприятного исхода во второй серии: p2 = {p2}')"
   ],
   "metadata": {
    "collapsed": false,
    "ExecuteTime": {
     "start_time": "2023-05-04T12:55:55.111417Z",
     "end_time": "2023-05-04T12:55:55.114241Z"
    }
   }
  },
  {
   "cell_type": "markdown",
   "source": [
    "$$\n",
    "p = \\frac{m_1 + m_2}{n_1 + n_2}\n",
    "$$"
   ],
   "metadata": {
    "collapsed": false
   }
  },
  {
   "cell_type": "code",
   "execution_count": 53,
   "outputs": [
    {
     "name": "stdout",
     "output_type": "stream",
     "text": [
      "Вероятность благоприятного исхода в обеих сериях: p = 0.48\n"
     ]
    }
   ],
   "source": [
    "p = (m1 + m2) / (n1 + n2)\n",
    "print(f'Вероятность благоприятного исхода в обеих сериях: p = {p}')"
   ],
   "metadata": {
    "collapsed": false,
    "ExecuteTime": {
     "start_time": "2023-05-04T12:55:56.040563Z",
     "end_time": "2023-05-04T12:55:56.042977Z"
    }
   }
  },
  {
   "cell_type": "markdown",
   "source": [
    "### Вычисление критерия\n",
    "\n",
    "$$\n",
    "z = \\frac{p_1 - p_2}{\\sqrt{p(1 - p)(\\frac{1}{n_1} + \\frac{1}{n_2})}}\n",
    "$$"
   ],
   "metadata": {
    "collapsed": false
   }
  },
  {
   "cell_type": "code",
   "execution_count": 54,
   "outputs": [
    {
     "name": "stdout",
     "output_type": "stream",
     "text": [
      "Вычисленное значение критерия: -0.9629111081495532\n"
     ]
    }
   ],
   "source": [
    "z = (p1 - p2) / np.sqrt(p * (1 - p) * (1 / n1 + 1 / n2))\n",
    "print(f'Вычисленное значение критерия: {z}')"
   ],
   "metadata": {
    "collapsed": false,
    "ExecuteTime": {
     "start_time": "2023-05-04T12:55:58.090568Z",
     "end_time": "2023-05-04T12:55:58.093022Z"
    }
   }
  },
  {
   "cell_type": "markdown",
   "source": [
    "### Табличное значение критерия\n",
    "\n",
    "$$\n",
    "z_t = \\Phi^{-1}(1 - \\frac{a}{2})\n",
    "$$"
   ],
   "metadata": {
    "collapsed": false
   }
  },
  {
   "cell_type": "code",
   "execution_count": 55,
   "outputs": [
    {
     "name": "stdout",
     "output_type": "stream",
     "text": [
      "Табличное значение критерия: 1.6953977102721358\n"
     ]
    }
   ],
   "source": [
    "z_t = norm.ppf(1 - a / 2)\n",
    "print(f'Табличное значение критерия: {z_t}')"
   ],
   "metadata": {
    "collapsed": false,
    "ExecuteTime": {
     "start_time": "2023-05-04T12:56:00.442748Z",
     "end_time": "2023-05-04T12:56:00.446535Z"
    }
   }
  },
  {
   "cell_type": "markdown",
   "source": [
    "## Вывод о принятии или не принятии гипотезы"
   ],
   "metadata": {
    "collapsed": false
   }
  },
  {
   "cell_type": "code",
   "execution_count": 56,
   "outputs": [
    {
     "name": "stdout",
     "output_type": "stream",
     "text": [
      "Принимаем гипотезу о равенстве вероятностей благоприятного исхода в двух сериях (H0)\n"
     ]
    }
   ],
   "source": [
    "if np.abs(z) < z_t:\n",
    "    print('Принимаем гипотезу о равенстве вероятностей благоприятного исхода в двух сериях (H0)')\n",
    "else:\n",
    "    print('Отвергаем гипотезу о равенстве вероятностей благоприятного исхода в двух сериях (H0), принимаем гипотезу о неравенстве вероятностей благоприятного исхода в двух сериях (H1)')"
   ],
   "metadata": {
    "collapsed": false,
    "ExecuteTime": {
     "start_time": "2023-05-04T12:56:02.465905Z",
     "end_time": "2023-05-04T12:56:02.468393Z"
    }
   }
  },
  {
   "cell_type": "code",
   "execution_count": 47,
   "outputs": [],
   "source": [],
   "metadata": {
    "collapsed": false,
    "ExecuteTime": {
     "start_time": "2023-05-04T12:50:39.627795Z",
     "end_time": "2023-05-04T12:50:39.644885Z"
    }
   }
  }
 ],
 "metadata": {
  "kernelspec": {
   "display_name": "Python 3",
   "language": "python",
   "name": "python3"
  },
  "language_info": {
   "codemirror_mode": {
    "name": "ipython",
    "version": 2
   },
   "file_extension": ".py",
   "mimetype": "text/x-python",
   "name": "python",
   "nbconvert_exporter": "python",
   "pygments_lexer": "ipython2",
   "version": "2.7.6"
  }
 },
 "nbformat": 4,
 "nbformat_minor": 0
}
