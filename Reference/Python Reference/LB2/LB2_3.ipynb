{
 "cells": [
  {
   "cell_type": "code",
   "execution_count": 1,
   "metadata": {
    "collapsed": true,
    "ExecuteTime": {
     "start_time": "2023-04-20T12:03:41.836051Z",
     "end_time": "2023-04-20T12:03:42.088480Z"
    }
   },
   "outputs": [],
   "source": [
    "import pandas as pd\n",
    "import numpy as np\n",
    "import scipy as sp"
   ]
  },
  {
   "cell_type": "markdown",
   "source": [
    "# Лабораторная работа №2\n",
    "## Задание 3\n",
    "## Кондрашин Тимофей 211-365 Вариант 60 (20.04.2023)"
   ],
   "metadata": {
    "collapsed": false
   }
  },
  {
   "cell_type": "code",
   "execution_count": 2,
   "outputs": [
    {
     "data": {
      "text/plain": "     0     1     2     3     4     5     6     7     8     9     10    11   \n0  50.0  43.7  35.2  45.6  39.8  37.2  36.7  46.2  35.9  36.4  36.7  48.5  \\\n\n     12    13    14    15  \n0  39.6  40.6  45.2  48.4  ",
      "text/html": "<div>\n<style scoped>\n    .dataframe tbody tr th:only-of-type {\n        vertical-align: middle;\n    }\n\n    .dataframe tbody tr th {\n        vertical-align: top;\n    }\n\n    .dataframe thead th {\n        text-align: right;\n    }\n</style>\n<table border=\"1\" class=\"dataframe\">\n  <thead>\n    <tr style=\"text-align: right;\">\n      <th></th>\n      <th>0</th>\n      <th>1</th>\n      <th>2</th>\n      <th>3</th>\n      <th>4</th>\n      <th>5</th>\n      <th>6</th>\n      <th>7</th>\n      <th>8</th>\n      <th>9</th>\n      <th>10</th>\n      <th>11</th>\n      <th>12</th>\n      <th>13</th>\n      <th>14</th>\n      <th>15</th>\n    </tr>\n  </thead>\n  <tbody>\n    <tr>\n      <th>0</th>\n      <td>50.0</td>\n      <td>43.7</td>\n      <td>35.2</td>\n      <td>45.6</td>\n      <td>39.8</td>\n      <td>37.2</td>\n      <td>36.7</td>\n      <td>46.2</td>\n      <td>35.9</td>\n      <td>36.4</td>\n      <td>36.7</td>\n      <td>48.5</td>\n      <td>39.6</td>\n      <td>40.6</td>\n      <td>45.2</td>\n      <td>48.4</td>\n    </tr>\n  </tbody>\n</table>\n</div>"
     },
     "execution_count": 2,
     "metadata": {},
     "output_type": "execute_result"
    }
   ],
   "source": [
    "data = pd.DataFrame([50.0, 43.7, 35.2, 45.6, 39.8, 37.2, 36.7, 46.2, 35.9, 36.4, 36.7, 48.5, 39.6, 40.6, 45.2, 48.4])\n",
    "data.T"
   ],
   "metadata": {
    "collapsed": false,
    "ExecuteTime": {
     "start_time": "2023-04-20T12:03:45.277082Z",
     "end_time": "2023-04-20T12:03:45.292872Z"
    }
   }
  },
  {
   "cell_type": "code",
   "execution_count": 3,
   "outputs": [
    {
     "data": {
      "text/plain": "               0\ncount  16.000000\nmean   41.606250\nstd     5.131922\nmin    35.200000\n25%    36.700000\n50%    40.200000\n75%    45.750000\nmax    50.000000",
      "text/html": "<div>\n<style scoped>\n    .dataframe tbody tr th:only-of-type {\n        vertical-align: middle;\n    }\n\n    .dataframe tbody tr th {\n        vertical-align: top;\n    }\n\n    .dataframe thead th {\n        text-align: right;\n    }\n</style>\n<table border=\"1\" class=\"dataframe\">\n  <thead>\n    <tr style=\"text-align: right;\">\n      <th></th>\n      <th>0</th>\n    </tr>\n  </thead>\n  <tbody>\n    <tr>\n      <th>count</th>\n      <td>16.000000</td>\n    </tr>\n    <tr>\n      <th>mean</th>\n      <td>41.606250</td>\n    </tr>\n    <tr>\n      <th>std</th>\n      <td>5.131922</td>\n    </tr>\n    <tr>\n      <th>min</th>\n      <td>35.200000</td>\n    </tr>\n    <tr>\n      <th>25%</th>\n      <td>36.700000</td>\n    </tr>\n    <tr>\n      <th>50%</th>\n      <td>40.200000</td>\n    </tr>\n    <tr>\n      <th>75%</th>\n      <td>45.750000</td>\n    </tr>\n    <tr>\n      <th>max</th>\n      <td>50.000000</td>\n    </tr>\n  </tbody>\n</table>\n</div>"
     },
     "execution_count": 3,
     "metadata": {},
     "output_type": "execute_result"
    }
   ],
   "source": [
    "data.describe()"
   ],
   "metadata": {
    "collapsed": false,
    "ExecuteTime": {
     "start_time": "2023-04-20T12:03:45.650898Z",
     "end_time": "2023-04-20T12:03:45.654910Z"
    }
   }
  },
  {
   "cell_type": "markdown",
   "source": [
    "### Всего элементов ряда"
   ],
   "metadata": {
    "collapsed": false
   }
  },
  {
   "cell_type": "code",
   "execution_count": 4,
   "outputs": [
    {
     "data": {
      "text/plain": "16"
     },
     "execution_count": 4,
     "metadata": {},
     "output_type": "execute_result"
    }
   ],
   "source": [
    "data_len = len(data)\n",
    "data_len"
   ],
   "metadata": {
    "collapsed": false,
    "ExecuteTime": {
     "start_time": "2023-04-20T12:03:46.648673Z",
     "end_time": "2023-04-20T12:03:46.655027Z"
    }
   }
  },
  {
   "cell_type": "markdown",
   "source": [
    "### Выборочное среднее\n",
    "\n",
    "$$\\overline x = \\frac1n \\sum^n_{i=1} x_i$$"
   ],
   "metadata": {
    "collapsed": false
   }
  },
  {
   "cell_type": "code",
   "execution_count": 5,
   "outputs": [
    {
     "data": {
      "text/plain": "41.60625"
     },
     "execution_count": 5,
     "metadata": {},
     "output_type": "execute_result"
    }
   ],
   "source": [
    "mean = np.mean(data)\n",
    "mean"
   ],
   "metadata": {
    "collapsed": false,
    "ExecuteTime": {
     "start_time": "2023-04-20T12:03:48.328326Z",
     "end_time": "2023-04-20T12:03:48.334367Z"
    }
   }
  },
  {
   "cell_type": "markdown",
   "source": [
    "### Выборочная дисперсия\n",
    "\n",
    "$$s^2_x = \\frac{1}{n-1}\\sum^n_{i=1} (x_i - \\overline x)^2$$"
   ],
   "metadata": {
    "collapsed": false
   }
  },
  {
   "cell_type": "code",
   "execution_count": 6,
   "outputs": [
    {
     "data": {
      "text/plain": "0    24.690586\ndtype: float64"
     },
     "execution_count": 6,
     "metadata": {},
     "output_type": "execute_result"
    }
   ],
   "source": [
    "var = np.var(data)\n",
    "var"
   ],
   "metadata": {
    "collapsed": false,
    "ExecuteTime": {
     "start_time": "2023-04-20T12:03:50.065929Z",
     "end_time": "2023-04-20T12:03:50.071400Z"
    }
   }
  },
  {
   "cell_type": "markdown",
   "source": [
    "### Среднеквадратическое отклонение\n",
    "\n",
    "$$s = \\sqrt{s^2}$$"
   ],
   "metadata": {
    "collapsed": false
   }
  },
  {
   "cell_type": "code",
   "execution_count": 7,
   "outputs": [
    {
     "data": {
      "text/plain": "0    4.968962\ndtype: float64"
     },
     "execution_count": 7,
     "metadata": {},
     "output_type": "execute_result"
    }
   ],
   "source": [
    "std = np.std(data)\n",
    "std"
   ],
   "metadata": {
    "collapsed": false,
    "ExecuteTime": {
     "start_time": "2023-04-20T12:03:52.165587Z",
     "end_time": "2023-04-20T12:03:52.170733Z"
    }
   }
  },
  {
   "cell_type": "markdown",
   "source": [
    "### $t$-критерий Стьюдента\n",
    "\n",
    "$$t = \\frac{\\overline x - \\mu}{\\frac{s}{\\sqrt{n}}}$$"
   ],
   "metadata": {
    "collapsed": false
   }
  },
  {
   "cell_type": "code",
   "execution_count": 8,
   "outputs": [
    {
     "data": {
      "text/plain": "1.7530503556925547"
     },
     "execution_count": 8,
     "metadata": {},
     "output_type": "execute_result"
    }
   ],
   "source": [
    "gamma = 0.95\n",
    "t_value = sp.stats.t.ppf(gamma, data_len-1)\n",
    "t_value"
   ],
   "metadata": {
    "collapsed": false,
    "ExecuteTime": {
     "start_time": "2023-04-20T12:03:55.019087Z",
     "end_time": "2023-04-20T12:03:55.290294Z"
    }
   }
  },
  {
   "cell_type": "markdown",
   "source": [
    "### Доверительный интервал для математического ожидания при доверительной вероятности $\\gamma$"
   ],
   "metadata": {
    "collapsed": false
   }
  },
  {
   "cell_type": "markdown",
   "source": [
    "#### Z-оценка\n",
    "\n",
    "$$z={x-{\\bar {X}} \\over S_{x}}$$"
   ],
   "metadata": {
    "collapsed": false
   }
  },
  {
   "cell_type": "code",
   "execution_count": 9,
   "outputs": [
    {
     "data": {
      "text/plain": "1.6448536269514722"
     },
     "execution_count": 9,
     "metadata": {},
     "output_type": "execute_result"
    }
   ],
   "source": [
    "sp.stats.norm.ppf(.95)"
   ],
   "metadata": {
    "collapsed": false,
    "ExecuteTime": {
     "start_time": "2023-04-20T12:04:33.605886Z",
     "end_time": "2023-04-20T12:04:33.611849Z"
    }
   }
  },
  {
   "cell_type": "markdown",
   "source": [
    "#### Доверительный интервал для математического ожидания через $z$ оценку\n",
    "\n",
    "$$\\left(\\overline x - z \\cdot \\frac{s}{\\sqrt{n}}, \\overline x + z \\cdot \\frac{s}{\\sqrt{n}}\\right)$$"
   ],
   "metadata": {
    "collapsed": false
   }
  },
  {
   "cell_type": "code",
   "execution_count": 10,
   "outputs": [
    {
     "data": {
      "text/plain": "(0    39.562946\n dtype: float64,\n 0    43.649554\n dtype: float64)"
     },
     "execution_count": 10,
     "metadata": {},
     "output_type": "execute_result"
    }
   ],
   "source": [
    "def confidence_interval(data, gamma):\n",
    "    mean = np.mean(data)\n",
    "    std = np.std(data)\n",
    "    n = len(data)\n",
    "    z = sp.stats.norm.ppf(.95)\n",
    "    return (mean - z * std / np.sqrt(n), mean + z * std / np.sqrt(n))\n",
    "\n",
    "confidence_interval(data, 0.95)"
   ],
   "metadata": {
    "collapsed": false,
    "ExecuteTime": {
     "start_time": "2023-04-20T12:04:36.263796Z",
     "end_time": "2023-04-20T12:04:36.269037Z"
    }
   }
  },
  {
   "cell_type": "markdown",
   "source": [
    "#### Доверительный интервал для математического ожидания через $t$-критерий Стьюдента\n",
    "\n",
    "$$\\left(\\overline x - t \\cdot \\frac{s}{\\sqrt{n}}, \\overline x + t \\cdot \\frac{s}{\\sqrt{n}}\\right)$$"
   ],
   "metadata": {
    "collapsed": false
   }
  },
  {
   "cell_type": "code",
   "execution_count": 11,
   "outputs": [
    {
     "data": {
      "text/plain": "(0    39.42854\n dtype: float64,\n 0    43.78396\n dtype: float64)"
     },
     "execution_count": 11,
     "metadata": {},
     "output_type": "execute_result"
    }
   ],
   "source": [
    "def confidence_interval_t(data, gamma):\n",
    "    mean = np.mean(data)\n",
    "    std = np.std(data)\n",
    "    n = data_len\n",
    "    t = t_value\n",
    "    return (mean - t * std / np.sqrt(n), mean + t * std / np.sqrt(n))\n",
    "\n",
    "confidence_interval_t(data, 0.95)"
   ],
   "metadata": {
    "collapsed": false,
    "ExecuteTime": {
     "start_time": "2023-04-20T12:04:37.260057Z",
     "end_time": "2023-04-20T12:04:37.270972Z"
    }
   }
  },
  {
   "cell_type": "markdown",
   "source": [
    "#### Вывод\n",
    "\n",
    "Таким образом с вероятностью 0,95 можно утверждать, что математическое ожидание лежит в интервале (39.4; 43.7)"
   ],
   "metadata": {
    "collapsed": false
   }
  },
  {
   "cell_type": "code",
   "execution_count": 10,
   "outputs": [],
   "source": [],
   "metadata": {
    "collapsed": false,
    "ExecuteTime": {
     "start_time": "2023-04-20T11:40:56.125869Z",
     "end_time": "2023-04-20T11:40:56.127577Z"
    }
   }
  }
 ],
 "metadata": {
  "kernelspec": {
   "display_name": "Python 3",
   "language": "python",
   "name": "python3"
  },
  "language_info": {
   "codemirror_mode": {
    "name": "ipython",
    "version": 2
   },
   "file_extension": ".py",
   "mimetype": "text/x-python",
   "name": "python",
   "nbconvert_exporter": "python",
   "pygments_lexer": "ipython2",
   "version": "2.7.6"
  }
 },
 "nbformat": 4,
 "nbformat_minor": 0
}
