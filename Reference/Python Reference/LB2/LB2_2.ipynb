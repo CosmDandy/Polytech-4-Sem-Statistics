{
 "cells": [
  {
   "cell_type": "code",
   "execution_count": 1,
   "metadata": {
    "collapsed": true,
    "ExecuteTime": {
     "start_time": "2023-04-20T12:03:11.838176Z",
     "end_time": "2023-04-20T12:03:12.071738Z"
    }
   },
   "outputs": [],
   "source": [
    "import pandas as pd\n",
    "import numpy as np\n",
    "import scipy as sp"
   ]
  },
  {
   "cell_type": "markdown",
   "source": [
    "# Лабораторная работа №2\n",
    "## Задание 2\n",
    "## Кондрашин Тимофей 211-365 Вариант 60 (20.04.2023)"
   ],
   "metadata": {
    "collapsed": false
   }
  },
  {
   "cell_type": "code",
   "execution_count": 2,
   "outputs": [
    {
     "data": {
      "text/plain": "     0     1     2     3     4     5     6     7     8     9   ...    90   \n0  21.3  26.5  39.5  17.5  27.5  38.2  29.0  30.1  27.5  32.7  ...  27.2  \\\n\n     91    92    93    94    95    96    97    98    99  \n0  29.1  29.9  27.2  31.2  27.8  34.1  29.0  26.5  24.8  \n\n[1 rows x 100 columns]",
      "text/html": "<div>\n<style scoped>\n    .dataframe tbody tr th:only-of-type {\n        vertical-align: middle;\n    }\n\n    .dataframe tbody tr th {\n        vertical-align: top;\n    }\n\n    .dataframe thead th {\n        text-align: right;\n    }\n</style>\n<table border=\"1\" class=\"dataframe\">\n  <thead>\n    <tr style=\"text-align: right;\">\n      <th></th>\n      <th>0</th>\n      <th>1</th>\n      <th>2</th>\n      <th>3</th>\n      <th>4</th>\n      <th>5</th>\n      <th>6</th>\n      <th>7</th>\n      <th>8</th>\n      <th>9</th>\n      <th>...</th>\n      <th>90</th>\n      <th>91</th>\n      <th>92</th>\n      <th>93</th>\n      <th>94</th>\n      <th>95</th>\n      <th>96</th>\n      <th>97</th>\n      <th>98</th>\n      <th>99</th>\n    </tr>\n  </thead>\n  <tbody>\n    <tr>\n      <th>0</th>\n      <td>21.3</td>\n      <td>26.5</td>\n      <td>39.5</td>\n      <td>17.5</td>\n      <td>27.5</td>\n      <td>38.2</td>\n      <td>29.0</td>\n      <td>30.1</td>\n      <td>27.5</td>\n      <td>32.7</td>\n      <td>...</td>\n      <td>27.2</td>\n      <td>29.1</td>\n      <td>29.9</td>\n      <td>27.2</td>\n      <td>31.2</td>\n      <td>27.8</td>\n      <td>34.1</td>\n      <td>29.0</td>\n      <td>26.5</td>\n      <td>24.8</td>\n    </tr>\n  </tbody>\n</table>\n<p>1 rows × 100 columns</p>\n</div>"
     },
     "execution_count": 2,
     "metadata": {},
     "output_type": "execute_result"
    }
   ],
   "source": [
    "data = pd.DataFrame(\n",
    "    [21.3, 26.5, 39.5, 17.5, 27.5, 38.2, 29.0, 30.1, 27.5, 32.7, 19.4, 22.2, 36.4, 37.3, 25.0, 25.7, 31.8, 24.1, 30.0,\n",
    "     27.4, 27.0, 22.9, 30.0, 28.2, 23.9, 18.1, 18.9, 26.9, 27.8, 16.5, 32.6, 33.4, 26.3, 20.4, 24.9, 28.7, 41.5, 22.4,\n",
    "     20.5, 35.3, 14.1, 34.4, 35.0, 23.7, 25.2, 31.5, 37.2, 20.7, 33.2, 28.0, 22.0, 31.7, 23.4, 30.8, 35.0, 31.4, 28.6,\n",
    "     13.9, 34.6, 31.4, 30.8, 19.4, 29.3, 27.3, 37.6, 24.6, 32.4, 25.4, 27.7, 28.6, 33.7, 26.9, 29.4, 28.2, 32.9, 29.5,\n",
    "     20.5, 26.5, 32.2, 32.9, 26.4, 28.9, 29.2, 32.6, 23.2, 31.7, 17.8, 24.9, 28.5, 35.6, 27.2, 29.1, 29.9, 27.2, 31.2,\n",
    "     27.8, 34.1, 29.0, 26.5, 24.8])\n",
    "data.T"
   ],
   "metadata": {
    "collapsed": false,
    "ExecuteTime": {
     "start_time": "2023-04-20T12:03:14.632662Z",
     "end_time": "2023-04-20T12:03:14.652404Z"
    }
   }
  },
  {
   "cell_type": "code",
   "execution_count": 3,
   "outputs": [
    {
     "data": {
      "text/plain": "                0\ncount  100.000000\nmean    28.025000\nstd      5.594954\nmin     13.900000\n25%     24.875000\n50%     28.200000\n75%     31.725000\nmax     41.500000",
      "text/html": "<div>\n<style scoped>\n    .dataframe tbody tr th:only-of-type {\n        vertical-align: middle;\n    }\n\n    .dataframe tbody tr th {\n        vertical-align: top;\n    }\n\n    .dataframe thead th {\n        text-align: right;\n    }\n</style>\n<table border=\"1\" class=\"dataframe\">\n  <thead>\n    <tr style=\"text-align: right;\">\n      <th></th>\n      <th>0</th>\n    </tr>\n  </thead>\n  <tbody>\n    <tr>\n      <th>count</th>\n      <td>100.000000</td>\n    </tr>\n    <tr>\n      <th>mean</th>\n      <td>28.025000</td>\n    </tr>\n    <tr>\n      <th>std</th>\n      <td>5.594954</td>\n    </tr>\n    <tr>\n      <th>min</th>\n      <td>13.900000</td>\n    </tr>\n    <tr>\n      <th>25%</th>\n      <td>24.875000</td>\n    </tr>\n    <tr>\n      <th>50%</th>\n      <td>28.200000</td>\n    </tr>\n    <tr>\n      <th>75%</th>\n      <td>31.725000</td>\n    </tr>\n    <tr>\n      <th>max</th>\n      <td>41.500000</td>\n    </tr>\n  </tbody>\n</table>\n</div>"
     },
     "execution_count": 3,
     "metadata": {},
     "output_type": "execute_result"
    }
   ],
   "source": [
    "data.describe()"
   ],
   "metadata": {
    "collapsed": false,
    "ExecuteTime": {
     "start_time": "2023-04-20T12:03:14.877758Z",
     "end_time": "2023-04-20T12:03:14.884893Z"
    }
   }
  },
  {
   "cell_type": "markdown",
   "source": [
    "### Всего элементов ряда"
   ],
   "metadata": {
    "collapsed": false
   }
  },
  {
   "cell_type": "code",
   "execution_count": 4,
   "outputs": [
    {
     "data": {
      "text/plain": "100"
     },
     "execution_count": 4,
     "metadata": {},
     "output_type": "execute_result"
    }
   ],
   "source": [
    "data_len = len(data)\n",
    "data_len"
   ],
   "metadata": {
    "collapsed": false,
    "ExecuteTime": {
     "start_time": "2023-04-20T12:03:15.996633Z",
     "end_time": "2023-04-20T12:03:16.001799Z"
    }
   }
  },
  {
   "cell_type": "markdown",
   "source": [
    "### Выборочное среднее\n",
    "\n",
    "$$\\overline x = \\frac1n \\sum^n_{i=1} x_i$$"
   ],
   "metadata": {
    "collapsed": false
   }
  },
  {
   "cell_type": "code",
   "execution_count": 5,
   "outputs": [
    {
     "data": {
      "text/plain": "28.025"
     },
     "execution_count": 5,
     "metadata": {},
     "output_type": "execute_result"
    }
   ],
   "source": [
    "mean = np.mean(data)\n",
    "mean"
   ],
   "metadata": {
    "collapsed": false,
    "ExecuteTime": {
     "start_time": "2023-04-20T12:03:16.473334Z",
     "end_time": "2023-04-20T12:03:16.480077Z"
    }
   }
  },
  {
   "cell_type": "markdown",
   "source": [
    "### Выборочная дисперсия\n",
    "\n",
    "$$s^2_x = \\frac{1}{n-1}\\sum^n_{i=1} (x_i - \\overline x)^2$$"
   ],
   "metadata": {
    "collapsed": false
   }
  },
  {
   "cell_type": "code",
   "execution_count": 6,
   "outputs": [
    {
     "data": {
      "text/plain": "0    30.990475\ndtype: float64"
     },
     "execution_count": 6,
     "metadata": {},
     "output_type": "execute_result"
    }
   ],
   "source": [
    "var = np.var(data)\n",
    "var"
   ],
   "metadata": {
    "collapsed": false,
    "ExecuteTime": {
     "start_time": "2023-04-20T12:03:17.419153Z",
     "end_time": "2023-04-20T12:03:17.424817Z"
    }
   }
  },
  {
   "cell_type": "markdown",
   "source": [
    "### Среднеквадратическое отклонение\n",
    "\n",
    "$$s = \\sqrt{s^2}$$"
   ],
   "metadata": {
    "collapsed": false
   }
  },
  {
   "cell_type": "code",
   "execution_count": 7,
   "outputs": [
    {
     "data": {
      "text/plain": "0    5.566909\ndtype: float64"
     },
     "execution_count": 7,
     "metadata": {},
     "output_type": "execute_result"
    }
   ],
   "source": [
    "std = np.std(data)\n",
    "std"
   ],
   "metadata": {
    "collapsed": false,
    "ExecuteTime": {
     "start_time": "2023-04-20T12:03:18.477222Z",
     "end_time": "2023-04-20T12:03:18.485410Z"
    }
   }
  },
  {
   "cell_type": "markdown",
   "source": [
    "### $t$-критерий Стьюдента\n",
    "\n",
    "$$t = \\frac{\\overline x - \\mu}{\\frac{s}{\\sqrt{n}}}$$"
   ],
   "metadata": {
    "collapsed": false
   }
  },
  {
   "cell_type": "code",
   "execution_count": 8,
   "outputs": [
    {
     "data": {
      "text/plain": "2.3646058614359737"
     },
     "execution_count": 8,
     "metadata": {},
     "output_type": "execute_result"
    }
   ],
   "source": [
    "gamma = 0.99\n",
    "t_value = sp.stats.t.ppf(gamma, data_len-1)\n",
    "t_value"
   ],
   "metadata": {
    "collapsed": false,
    "ExecuteTime": {
     "start_time": "2023-04-20T12:03:19.357163Z",
     "end_time": "2023-04-20T12:03:19.629466Z"
    }
   }
  },
  {
   "cell_type": "markdown",
   "source": [
    "### Доверительный интервал для математического ожидания при доверительной вероятности $\\gamma$"
   ],
   "metadata": {
    "collapsed": false
   }
  },
  {
   "cell_type": "markdown",
   "source": [
    "#### Z-оценка\n",
    "\n",
    "$$z={x-{\\bar {X}} \\over S_{x}}$$"
   ],
   "metadata": {
    "collapsed": false
   }
  },
  {
   "cell_type": "code",
   "execution_count": 9,
   "outputs": [
    {
     "data": {
      "text/plain": "2.3263478740408408"
     },
     "execution_count": 9,
     "metadata": {},
     "output_type": "execute_result"
    }
   ],
   "source": [
    "sp.stats.norm.ppf(.99)"
   ],
   "metadata": {
    "collapsed": false,
    "ExecuteTime": {
     "start_time": "2023-04-20T12:03:21.444376Z",
     "end_time": "2023-04-20T12:03:21.447698Z"
    }
   }
  },
  {
   "cell_type": "markdown",
   "source": [
    "#### Доверительный интервал для математического ожидания через $z$ оценку\n",
    "\n",
    "$$\\left(\\overline x - z \\cdot \\frac{s}{\\sqrt{n}}, \\overline x + z \\cdot \\frac{s}{\\sqrt{n}}\\right)$$"
   ],
   "metadata": {
    "collapsed": false
   }
  },
  {
   "cell_type": "code",
   "execution_count": 10,
   "outputs": [
    {
     "data": {
      "text/plain": "(0    26.729943\n dtype: float64,\n 0    29.320057\n dtype: float64)"
     },
     "execution_count": 10,
     "metadata": {},
     "output_type": "execute_result"
    }
   ],
   "source": [
    "def confidence_interval(data, gamma):\n",
    "    mean = np.mean(data)\n",
    "    std = np.std(data)\n",
    "    n = len(data)\n",
    "    z = sp.stats.norm.ppf(.99)\n",
    "    return (mean - z * std / np.sqrt(n), mean + z * std / np.sqrt(n))\n",
    "\n",
    "confidence_interval(data, 0.99)"
   ],
   "metadata": {
    "collapsed": false,
    "ExecuteTime": {
     "start_time": "2023-04-20T12:03:25.818571Z",
     "end_time": "2023-04-20T12:03:25.825055Z"
    }
   }
  },
  {
   "cell_type": "markdown",
   "source": [
    "#### Доверительный интервал для математического ожидания через $t$-критерий Стьюдента\n",
    "\n",
    "$$\\left(\\overline x - t \\cdot \\frac{s}{\\sqrt{n}}, \\overline x + t \\cdot \\frac{s}{\\sqrt{n}}\\right)$$"
   ],
   "metadata": {
    "collapsed": false
   }
  },
  {
   "cell_type": "code",
   "execution_count": 11,
   "outputs": [
    {
     "data": {
      "text/plain": "(0    26.708645\n dtype: float64,\n 0    29.341355\n dtype: float64)"
     },
     "execution_count": 11,
     "metadata": {},
     "output_type": "execute_result"
    }
   ],
   "source": [
    "def confidence_interval_t(data, gamma):\n",
    "    mean = np.mean(data)\n",
    "    std = np.std(data)\n",
    "    n = data_len\n",
    "    t = t_value\n",
    "    return (mean - t * std / np.sqrt(n), mean + t * std / np.sqrt(n))\n",
    "\n",
    "confidence_interval_t(data, 0.99)"
   ],
   "metadata": {
    "collapsed": false,
    "ExecuteTime": {
     "start_time": "2023-04-20T12:03:27.419573Z",
     "end_time": "2023-04-20T12:03:27.426580Z"
    }
   }
  },
  {
   "cell_type": "markdown",
   "source": [
    "#### Вывод\n",
    "\n",
    "Таким образом с вероятностью 0,99 можно утверждать, что математическое ожидание лежит в интервале (26.7; 29.3)"
   ],
   "metadata": {
    "collapsed": false
   }
  },
  {
   "cell_type": "code",
   "execution_count": 77,
   "outputs": [],
   "source": [],
   "metadata": {
    "collapsed": false,
    "ExecuteTime": {
     "start_time": "2023-04-20T11:58:05.864611Z",
     "end_time": "2023-04-20T11:58:05.923502Z"
    }
   }
  }
 ],
 "metadata": {
  "kernelspec": {
   "display_name": "Python 3",
   "language": "python",
   "name": "python3"
  },
  "language_info": {
   "codemirror_mode": {
    "name": "ipython",
    "version": 2
   },
   "file_extension": ".py",
   "mimetype": "text/x-python",
   "name": "python",
   "nbconvert_exporter": "python",
   "pygments_lexer": "ipython2",
   "version": "2.7.6"
  }
 },
 "nbformat": 4,
 "nbformat_minor": 0
}
