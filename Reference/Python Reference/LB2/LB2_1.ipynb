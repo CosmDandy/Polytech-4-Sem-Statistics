{
 "cells": [
  {
   "cell_type": "code",
   "execution_count": 14,
   "metadata": {
    "collapsed": true,
    "ExecuteTime": {
     "start_time": "2023-04-20T12:01:53.353617Z",
     "end_time": "2023-04-20T12:01:53.362260Z"
    }
   },
   "outputs": [],
   "source": [
    "import pandas as pd\n",
    "import numpy as np\n",
    "import scipy as sp"
   ]
  },
  {
   "cell_type": "markdown",
   "source": [
    "# Лабораторная работа №2\n",
    "## Задание 1\n",
    "## Кондрашин Тимофей 211-365 Вариант 60 (20.04.2023)"
   ],
   "metadata": {
    "collapsed": false
   }
  },
  {
   "cell_type": "markdown",
   "source": [
    "### Данные"
   ],
   "metadata": {
    "collapsed": false
   }
  },
  {
   "cell_type": "code",
   "execution_count": 15,
   "outputs": [
    {
     "data": {
      "text/plain": "     0     1     2     3     4     5     6     7     8     9     10    11   \n0  21.0  15.7  29.7  11.2  14.7  13.2  18.2  23.0  16.1  13.4  20.5  11.2  \\\n\n     12    13    14    15  \n0  18.2  15.0  23.8  14.8  ",
      "text/html": "<div>\n<style scoped>\n    .dataframe tbody tr th:only-of-type {\n        vertical-align: middle;\n    }\n\n    .dataframe tbody tr th {\n        vertical-align: top;\n    }\n\n    .dataframe thead th {\n        text-align: right;\n    }\n</style>\n<table border=\"1\" class=\"dataframe\">\n  <thead>\n    <tr style=\"text-align: right;\">\n      <th></th>\n      <th>0</th>\n      <th>1</th>\n      <th>2</th>\n      <th>3</th>\n      <th>4</th>\n      <th>5</th>\n      <th>6</th>\n      <th>7</th>\n      <th>8</th>\n      <th>9</th>\n      <th>10</th>\n      <th>11</th>\n      <th>12</th>\n      <th>13</th>\n      <th>14</th>\n      <th>15</th>\n    </tr>\n  </thead>\n  <tbody>\n    <tr>\n      <th>0</th>\n      <td>21.0</td>\n      <td>15.7</td>\n      <td>29.7</td>\n      <td>11.2</td>\n      <td>14.7</td>\n      <td>13.2</td>\n      <td>18.2</td>\n      <td>23.0</td>\n      <td>16.1</td>\n      <td>13.4</td>\n      <td>20.5</td>\n      <td>11.2</td>\n      <td>18.2</td>\n      <td>15.0</td>\n      <td>23.8</td>\n      <td>14.8</td>\n    </tr>\n  </tbody>\n</table>\n</div>"
     },
     "execution_count": 15,
     "metadata": {},
     "output_type": "execute_result"
    }
   ],
   "source": [
    "data = pd.DataFrame([21.0, 15.7, 29.7, 11.2, 14.7, 13.2, 18.2, 23.0, 16.1, 13.4, 20.5, 11.2, 18.2, 15.0, 23.8, 14.8])\n",
    "data.T"
   ],
   "metadata": {
    "collapsed": false,
    "ExecuteTime": {
     "start_time": "2023-04-20T12:01:54.194956Z",
     "end_time": "2023-04-20T12:01:54.261117Z"
    }
   }
  },
  {
   "cell_type": "code",
   "execution_count": 16,
   "outputs": [
    {
     "data": {
      "text/plain": "               0\ncount  16.000000\nmean   17.481250\nstd     5.048197\nmin    11.200000\n25%    14.375000\n50%    15.900000\n75%    20.625000\nmax    29.700000",
      "text/html": "<div>\n<style scoped>\n    .dataframe tbody tr th:only-of-type {\n        vertical-align: middle;\n    }\n\n    .dataframe tbody tr th {\n        vertical-align: top;\n    }\n\n    .dataframe thead th {\n        text-align: right;\n    }\n</style>\n<table border=\"1\" class=\"dataframe\">\n  <thead>\n    <tr style=\"text-align: right;\">\n      <th></th>\n      <th>0</th>\n    </tr>\n  </thead>\n  <tbody>\n    <tr>\n      <th>count</th>\n      <td>16.000000</td>\n    </tr>\n    <tr>\n      <th>mean</th>\n      <td>17.481250</td>\n    </tr>\n    <tr>\n      <th>std</th>\n      <td>5.048197</td>\n    </tr>\n    <tr>\n      <th>min</th>\n      <td>11.200000</td>\n    </tr>\n    <tr>\n      <th>25%</th>\n      <td>14.375000</td>\n    </tr>\n    <tr>\n      <th>50%</th>\n      <td>15.900000</td>\n    </tr>\n    <tr>\n      <th>75%</th>\n      <td>20.625000</td>\n    </tr>\n    <tr>\n      <th>max</th>\n      <td>29.700000</td>\n    </tr>\n  </tbody>\n</table>\n</div>"
     },
     "execution_count": 16,
     "metadata": {},
     "output_type": "execute_result"
    }
   ],
   "source": [
    "data.describe()"
   ],
   "metadata": {
    "collapsed": false,
    "ExecuteTime": {
     "start_time": "2023-04-20T12:01:54.978634Z",
     "end_time": "2023-04-20T12:01:54.989341Z"
    }
   }
  },
  {
   "cell_type": "markdown",
   "source": [
    "### Всего элементов ряда"
   ],
   "metadata": {
    "collapsed": false
   }
  },
  {
   "cell_type": "code",
   "execution_count": 17,
   "outputs": [
    {
     "data": {
      "text/plain": "16"
     },
     "execution_count": 17,
     "metadata": {},
     "output_type": "execute_result"
    }
   ],
   "source": [
    "data_len = len(data)\n",
    "data_len"
   ],
   "metadata": {
    "collapsed": false,
    "ExecuteTime": {
     "start_time": "2023-04-20T12:01:56.013182Z",
     "end_time": "2023-04-20T12:01:56.071052Z"
    }
   }
  },
  {
   "cell_type": "markdown",
   "source": [
    "### Выборочное среднее\n",
    "\n",
    "$$\\overline x = \\frac1n \\sum^n_{i=1} x_i$$"
   ],
   "metadata": {
    "collapsed": false
   }
  },
  {
   "cell_type": "code",
   "execution_count": 18,
   "outputs": [
    {
     "data": {
      "text/plain": "17.48125"
     },
     "execution_count": 18,
     "metadata": {},
     "output_type": "execute_result"
    }
   ],
   "source": [
    "mean = np.mean(data)\n",
    "mean"
   ],
   "metadata": {
    "collapsed": false,
    "ExecuteTime": {
     "start_time": "2023-04-20T12:01:57.054459Z",
     "end_time": "2023-04-20T12:01:57.067444Z"
    }
   }
  },
  {
   "cell_type": "markdown",
   "source": [
    "### Выборочная дисперсия\n",
    "\n",
    "$$s^2_x = \\frac{1}{n-1}\\sum^n_{i=1} (x_i - \\overline x)^2$$"
   ],
   "metadata": {
    "collapsed": false
   }
  },
  {
   "cell_type": "code",
   "execution_count": 19,
   "outputs": [
    {
     "data": {
      "text/plain": "0    23.891523\ndtype: float64"
     },
     "execution_count": 19,
     "metadata": {},
     "output_type": "execute_result"
    }
   ],
   "source": [
    "var = np.var(data)\n",
    "var"
   ],
   "metadata": {
    "collapsed": false,
    "ExecuteTime": {
     "start_time": "2023-04-20T12:01:59.615178Z",
     "end_time": "2023-04-20T12:01:59.622410Z"
    }
   }
  },
  {
   "cell_type": "markdown",
   "source": [
    "### Среднеквадратическое отклонение\n",
    "\n",
    "$$s = \\sqrt{s^2}$$"
   ],
   "metadata": {
    "collapsed": false
   }
  },
  {
   "cell_type": "code",
   "execution_count": 20,
   "outputs": [
    {
     "data": {
      "text/plain": "0    4.887896\ndtype: float64"
     },
     "execution_count": 20,
     "metadata": {},
     "output_type": "execute_result"
    }
   ],
   "source": [
    "std = np.std(data)\n",
    "std"
   ],
   "metadata": {
    "collapsed": false,
    "ExecuteTime": {
     "start_time": "2023-04-20T12:02:01.832792Z",
     "end_time": "2023-04-20T12:02:01.838392Z"
    }
   }
  },
  {
   "cell_type": "markdown",
   "source": [
    "### $t$-критерий Стьюдента\n",
    "\n",
    "$$t = \\frac{\\overline x - \\mu}{\\frac{s}{\\sqrt{n}}}$$"
   ],
   "metadata": {
    "collapsed": false
   }
  },
  {
   "cell_type": "code",
   "execution_count": 21,
   "outputs": [
    {
     "data": {
      "text/plain": "1.7530503556925547"
     },
     "execution_count": 21,
     "metadata": {},
     "output_type": "execute_result"
    }
   ],
   "source": [
    "gamma = 0.95\n",
    "t_value = sp.stats.t.ppf(gamma, data_len-1)\n",
    "t_value"
   ],
   "metadata": {
    "collapsed": false,
    "ExecuteTime": {
     "start_time": "2023-04-20T12:02:04.470860Z",
     "end_time": "2023-04-20T12:02:04.476984Z"
    }
   }
  },
  {
   "cell_type": "markdown",
   "source": [
    "### Доверительный интервал для математического ожидания при доверительной вероятности $\\gamma$"
   ],
   "metadata": {
    "collapsed": false
   }
  },
  {
   "cell_type": "markdown",
   "source": [
    "#### Z-оценка\n",
    "\n",
    "$$z={x-{\\bar {X}} \\over S_{x}}$$"
   ],
   "metadata": {
    "collapsed": false
   }
  },
  {
   "cell_type": "code",
   "execution_count": 22,
   "outputs": [
    {
     "data": {
      "text/plain": "1.6448536269514722"
     },
     "execution_count": 22,
     "metadata": {},
     "output_type": "execute_result"
    }
   ],
   "source": [
    "sp.stats.norm.ppf(.95)"
   ],
   "metadata": {
    "collapsed": false,
    "ExecuteTime": {
     "start_time": "2023-04-20T12:02:08.107951Z",
     "end_time": "2023-04-20T12:02:08.114931Z"
    }
   }
  },
  {
   "cell_type": "markdown",
   "source": [
    "#### Доверительный интервал для математического ожидания через $z$ оценку\n",
    "\n",
    "$$\\left(\\overline x - z \\cdot \\frac{s}{\\sqrt{n}}, \\overline x + z \\cdot \\frac{s}{\\sqrt{n}}\\right)$$"
   ],
   "metadata": {
    "collapsed": false
   }
  },
  {
   "cell_type": "code",
   "execution_count": 23,
   "outputs": [
    {
     "data": {
      "text/plain": "(0    15.471282\n dtype: float64,\n 0    19.491218\n dtype: float64)"
     },
     "execution_count": 23,
     "metadata": {},
     "output_type": "execute_result"
    }
   ],
   "source": [
    "def confidence_interval(data, gamma):\n",
    "    mean = np.mean(data)\n",
    "    std = np.std(data)\n",
    "    n = len(data)\n",
    "    z = sp.stats.norm.ppf(.95)\n",
    "    return (mean - z * std / np.sqrt(n), mean + z * std / np.sqrt(n))\n",
    "\n",
    "confidence_interval(data, 0.95)"
   ],
   "metadata": {
    "collapsed": false,
    "ExecuteTime": {
     "start_time": "2023-04-20T12:02:09.455497Z",
     "end_time": "2023-04-20T12:02:09.460295Z"
    }
   }
  },
  {
   "cell_type": "markdown",
   "source": [
    "#### Доверительный интервал для математического ожидания через $t$-критерий Стьюдента\n",
    "\n",
    "$$\\left(\\overline x - t \\cdot \\frac{s}{\\sqrt{n}}, \\overline x + t \\cdot \\frac{s}{\\sqrt{n}}\\right)$$"
   ],
   "metadata": {
    "collapsed": false
   }
  },
  {
   "cell_type": "code",
   "execution_count": 24,
   "outputs": [
    {
     "data": {
      "text/plain": "(0    15.339068\n dtype: float64,\n 0    19.623432\n dtype: float64)"
     },
     "execution_count": 24,
     "metadata": {},
     "output_type": "execute_result"
    }
   ],
   "source": [
    "def confidence_interval_t(data, gamma):\n",
    "    mean = np.mean(data)\n",
    "    std = np.std(data)\n",
    "    n = data_len\n",
    "    t = t_value\n",
    "    return (mean - t * std / np.sqrt(n), mean + t * std / np.sqrt(n))\n",
    "\n",
    "confidence_interval_t(data, 0.95)"
   ],
   "metadata": {
    "collapsed": false,
    "ExecuteTime": {
     "start_time": "2023-04-20T12:02:11.937418Z",
     "end_time": "2023-04-20T12:02:11.940890Z"
    }
   }
  },
  {
   "cell_type": "markdown",
   "source": [
    "#### Вывод\n",
    "\n",
    "Таким образом с вероятностью 0,95 можно утверждать, что математическое ожидание лежит в интервале (15.3; 19.6)"
   ],
   "metadata": {
    "collapsed": false
   }
  },
  {
   "cell_type": "markdown",
   "source": [
    "### Доверительный интервал для среднего квадратического отклонения для того же значения $\\gamma$\n",
    "\n",
    "$$\\left(\\frac{s}{\\sqrt{n-1}} \\cdot \\frac{\\sqrt{n}}{z}, \\frac{s}{\\sqrt{n-1}} \\cdot \\frac{\\sqrt{n}}{z}\\right)$$"
   ],
   "metadata": {
    "collapsed": false
   }
  },
  {
   "cell_type": "code",
   "execution_count": 25,
   "outputs": [
    {
     "data": {
      "text/plain": "(0    2.575611\n dtype: float64,\n 0    9.894466\n dtype: float64)"
     },
     "execution_count": 25,
     "metadata": {},
     "output_type": "execute_result"
    }
   ],
   "source": [
    "def confidence_interval_std(data, gamma):\n",
    "    std = np.std(data)\n",
    "    n = len(data)\n",
    "    z = 1.96\n",
    "    return (std / np.sqrt(n - 1) * np.sqrt(n) / z, std / np.sqrt(n - 1) * np.sqrt(n) * z)\n",
    "\n",
    "confidence_interval_std(data, 0.95)"
   ],
   "metadata": {
    "collapsed": false,
    "ExecuteTime": {
     "start_time": "2023-04-20T12:02:23.248556Z",
     "end_time": "2023-04-20T12:02:23.253274Z"
    }
   }
  },
  {
   "cell_type": "markdown",
   "source": [
    "#### Вывод\n",
    "\n",
    "Таким образом с вероятностью 0,95 можно утверждать, что стандартное отклонение генеральной совокупности лежит в интервале (2.5, 9.8)"
   ],
   "metadata": {
    "collapsed": false
   }
  },
  {
   "cell_type": "code",
   "execution_count": 12,
   "outputs": [],
   "source": [],
   "metadata": {
    "collapsed": false,
    "ExecuteTime": {
     "start_time": "2023-04-20T12:01:12.696427Z",
     "end_time": "2023-04-20T12:01:12.697982Z"
    }
   }
  }
 ],
 "metadata": {
  "kernelspec": {
   "display_name": "Python 3",
   "language": "python",
   "name": "python3"
  },
  "language_info": {
   "codemirror_mode": {
    "name": "ipython",
    "version": 2
   },
   "file_extension": ".py",
   "mimetype": "text/x-python",
   "name": "python",
   "nbconvert_exporter": "python",
   "pygments_lexer": "ipython2",
   "version": "2.7.6"
  }
 },
 "nbformat": 4,
 "nbformat_minor": 0
}
