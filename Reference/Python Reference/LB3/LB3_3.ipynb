{
 "cells": [
  {
   "cell_type": "code",
   "execution_count": 78,
   "outputs": [],
   "source": [
    "import pandas as pd\n",
    "import numpy as np\n",
    "import scipy as sp"
   ],
   "metadata": {
    "collapsed": false,
    "ExecuteTime": {
     "start_time": "2023-04-27T13:35:27.741713Z",
     "end_time": "2023-04-27T13:35:27.853899Z"
    }
   }
  },
  {
   "cell_type": "markdown",
   "source": [
    "# Лабораторная работа №3\n",
    "## Задание 4\n",
    "## Кондрашин Тимофей 211-365 Вариант 11 (27.04.2023)"
   ],
   "metadata": {
    "collapsed": false
   }
  },
  {
   "cell_type": "markdown",
   "source": [
    "### Данные"
   ],
   "metadata": {
    "collapsed": false
   }
  },
  {
   "cell_type": "markdown",
   "source": [
    "Для заданного интервального выборочного ряда проверить гипотезу: закон распределения генеральной совокупности является показательным при уровне значимости $\\alpha=0.05$"
   ],
   "metadata": {
    "collapsed": false
   }
  },
  {
   "cell_type": "code",
   "execution_count": 79,
   "outputs": [
    {
     "data": {
      "text/plain": "     0   1   2   3   4  5  6  7  8  9\n0  154  99  42  34  20  7  4  1  4  1",
      "text/html": "<div>\n<style scoped>\n    .dataframe tbody tr th:only-of-type {\n        vertical-align: middle;\n    }\n\n    .dataframe tbody tr th {\n        vertical-align: top;\n    }\n\n    .dataframe thead th {\n        text-align: right;\n    }\n</style>\n<table border=\"1\" class=\"dataframe\">\n  <thead>\n    <tr style=\"text-align: right;\">\n      <th></th>\n      <th>0</th>\n      <th>1</th>\n      <th>2</th>\n      <th>3</th>\n      <th>4</th>\n      <th>5</th>\n      <th>6</th>\n      <th>7</th>\n      <th>8</th>\n      <th>9</th>\n    </tr>\n  </thead>\n  <tbody>\n    <tr>\n      <th>0</th>\n      <td>154</td>\n      <td>99</td>\n      <td>42</td>\n      <td>34</td>\n      <td>20</td>\n      <td>7</td>\n      <td>4</td>\n      <td>1</td>\n      <td>4</td>\n      <td>1</td>\n    </tr>\n  </tbody>\n</table>\n</div>"
     },
     "execution_count": 79,
     "metadata": {},
     "output_type": "execute_result"
    }
   ],
   "source": [
    "data = pd.DataFrame([154, 99, 42, 34, 20, 7, 4, 1, 4, 1])\n",
    "n = len(data)\n",
    "a = 0.05\n",
    "min_x = 0.5\n",
    "\n",
    "data.T"
   ],
   "metadata": {
    "collapsed": false,
    "ExecuteTime": {
     "start_time": "2023-04-27T13:35:27.768916Z",
     "end_time": "2023-04-27T13:35:27.897857Z"
    }
   }
  },
  {
   "cell_type": "code",
   "execution_count": 80,
   "outputs": [
    {
     "name": "stdout",
     "output_type": "stream",
     "text": [
      "n = 10, a = 0.05, min_x = 0.5\n"
     ]
    }
   ],
   "source": [
    "print(f'n = {n}, a = {a}, min_x = {min_x}')"
   ],
   "metadata": {
    "collapsed": false,
    "ExecuteTime": {
     "start_time": "2023-04-27T13:35:27.773968Z",
     "end_time": "2023-04-27T13:35:27.897971Z"
    }
   }
  },
  {
   "cell_type": "markdown",
   "source": [
    "## Шаг 1: Формулировка гипотезы"
   ],
   "metadata": {
    "collapsed": false
   }
  },
  {
   "cell_type": "markdown",
   "source": [
    "$H_0$: закон распределения генеральной совокупности является показательным.\n",
    "$H_1$: закон распределения генеральной совокупности не является показательным."
   ],
   "metadata": {
    "collapsed": false
   }
  },
  {
   "cell_type": "markdown",
   "source": [
    "## Шаг 2: Вычисление характеристик выборки."
   ],
   "metadata": {
    "collapsed": false
   }
  },
  {
   "cell_type": "markdown",
   "source": [
    "### Вычисление среднего значения\n",
    "\n",
    "$$\\overline{x} = \\frac{1}{n} \\sum_{i=1}^{n} x_i$$"
   ],
   "metadata": {
    "collapsed": false
   }
  },
  {
   "cell_type": "code",
   "execution_count": 81,
   "outputs": [
    {
     "data": {
      "text/plain": "0    36.6\ndtype: float64"
     },
     "execution_count": 81,
     "metadata": {},
     "output_type": "execute_result"
    }
   ],
   "source": [
    "mean = data.mean()\n",
    "mean"
   ],
   "metadata": {
    "collapsed": false,
    "ExecuteTime": {
     "start_time": "2023-04-27T13:35:27.787329Z",
     "end_time": "2023-04-27T13:35:27.898984Z"
    }
   }
  },
  {
   "cell_type": "markdown",
   "source": [
    "### Вычисление дисперсии\n",
    "\n",
    "$$s^2 = \\frac{1}{n-1} \\sum_{i=1}^{n} (x_i - \\overline{x})^2$$"
   ],
   "metadata": {
    "collapsed": false
   }
  },
  {
   "cell_type": "code",
   "execution_count": 82,
   "outputs": [
    {
     "data": {
      "text/plain": "0    2613.822222\ndtype: float64"
     },
     "execution_count": 82,
     "metadata": {},
     "output_type": "execute_result"
    }
   ],
   "source": [
    "variance = data.var()\n",
    "variance"
   ],
   "metadata": {
    "collapsed": false,
    "ExecuteTime": {
     "start_time": "2023-04-27T13:35:27.792653Z",
     "end_time": "2023-04-27T13:35:27.899035Z"
    }
   }
  },
  {
   "cell_type": "markdown",
   "source": [
    "### Вычисление стандартного отклонения\n",
    "\n",
    "$$s = \\sqrt{s^2}$$"
   ],
   "metadata": {
    "collapsed": false
   }
  },
  {
   "cell_type": "code",
   "execution_count": 83,
   "outputs": [
    {
     "data": {
      "text/plain": "0    51.125554\ndtype: float64"
     },
     "execution_count": 83,
     "metadata": {},
     "output_type": "execute_result"
    }
   ],
   "source": [
    "std = data.std()\n",
    "std"
   ],
   "metadata": {
    "collapsed": false,
    "ExecuteTime": {
     "start_time": "2023-04-27T13:35:27.797515Z",
     "end_time": "2023-04-27T13:35:27.899549Z"
    }
   }
  },
  {
   "cell_type": "markdown",
   "source": [
    "## Шаг 3: Проверка гипотезы\n",
    "\n",
    "Для проверки гипотезы о нормальности распределения воспользуемся критерием согласия хи-квадрат. Сначала необходимо разбить интервальный ряд на интервалы.\n",
    "\n",
    "Для этого найдём количество интервалов:\n",
    "\n",
    "$$k = \\lceil \\log_2 n + 1 \\rceil$$"
   ],
   "metadata": {
    "collapsed": false
   }
  },
  {
   "cell_type": "code",
   "execution_count": 84,
   "outputs": [
    {
     "data": {
      "text/plain": "5"
     },
     "execution_count": 84,
     "metadata": {},
     "output_type": "execute_result"
    }
   ],
   "source": [
    "k = int(np.ceil(np.log2(n) + 1))\n",
    "k"
   ],
   "metadata": {
    "collapsed": false,
    "ExecuteTime": {
     "start_time": "2023-04-27T13:35:27.802194Z",
     "end_time": "2023-04-27T13:35:27.900069Z"
    }
   }
  },
  {
   "cell_type": "markdown",
   "source": [
    "Теперь можно разбить интервальный ряд на интервалы:\n",
    "\n",
    "$$\\Delta = \\frac{max(x) - min(x)}{k}$$"
   ],
   "metadata": {
    "collapsed": false
   }
  },
  {
   "cell_type": "code",
   "execution_count": 85,
   "outputs": [
    {
     "data": {
      "text/plain": "30.6"
     },
     "execution_count": 85,
     "metadata": {},
     "output_type": "execute_result"
    }
   ],
   "source": [
    "delta = (data.max()[0] - data.min()[0]) / k\n",
    "delta"
   ],
   "metadata": {
    "collapsed": false,
    "ExecuteTime": {
     "start_time": "2023-04-27T13:35:27.807926Z",
     "end_time": "2023-04-27T13:35:27.900580Z"
    }
   }
  },
  {
   "cell_type": "markdown",
   "source": [
    "Теперь можно построить интервальный ряд:"
   ],
   "metadata": {
    "collapsed": false
   }
  },
  {
   "cell_type": "code",
   "execution_count": 86,
   "outputs": [
    {
     "data": {
      "text/plain": "[[0.5, 31.1],\n [31.1, 61.7],\n [61.7, 92.30000000000001],\n [92.30000000000001, 122.9],\n [122.9, 153.5]]"
     },
     "execution_count": 86,
     "metadata": {},
     "output_type": "execute_result"
    }
   ],
   "source": [
    "intervals = []\n",
    "for i in range(k):\n",
    "    intervals.append([min_x + i * delta, min_x + (i + 1) * delta])\n",
    "intervals"
   ],
   "metadata": {
    "collapsed": false,
    "ExecuteTime": {
     "start_time": "2023-04-27T13:35:27.812534Z",
     "end_time": "2023-04-27T13:35:27.901092Z"
    }
   }
  },
  {
   "cell_type": "markdown",
   "source": [
    "Далее, необходимо вычислить выборочные частоты попадания значений в каждый интервал:\n",
    "\n",
    "$$p_i = \\frac{n_i}{n}$$"
   ],
   "metadata": {
    "collapsed": false
   }
  },
  {
   "cell_type": "code",
   "execution_count": 87,
   "outputs": [
    {
     "data": {
      "text/plain": "[0.6, 0.2, 0.0, 0.1, 0.0]"
     },
     "execution_count": 87,
     "metadata": {},
     "output_type": "execute_result"
    }
   ],
   "source": [
    "p = []\n",
    "for i in range(k):\n",
    "    p.append(len(data[(data[0] >= min_x + i * delta) & (data[0] < min_x + (i + 1) * delta)]) / n)\n",
    "p"
   ],
   "metadata": {
    "collapsed": false,
    "ExecuteTime": {
     "start_time": "2023-04-27T13:35:27.818728Z",
     "end_time": "2023-04-27T13:35:27.901602Z"
    }
   }
  },
  {
   "cell_type": "markdown",
   "source": [
    "Затем нужно вычислить теоретические (ожидаемые) частоты попадания значений в каждый интервал, если бы распределение было нормальным. Для этого воспользуемся формулой:\n",
    "$$P_i = \\Phi \\left( \\frac{x_{i+1} - \\overline{x}}{s} \\right) - \\Phi \\left( \\frac{x_{i} - \\overline{x}}{s} \\right)$$"
   ],
   "metadata": {
    "collapsed": false
   }
  },
  {
   "cell_type": "code",
   "execution_count": 88,
   "outputs": [
    {
     "data": {
      "text/plain": "[array([0.21710363]),\n array([0.23110336]),\n array([0.17375924]),\n array([0.0922668]),\n array([0.03459379])]"
     },
     "execution_count": 88,
     "metadata": {},
     "output_type": "execute_result"
    }
   ],
   "source": [
    "P = []\n",
    "for i in range(k):\n",
    "    P.append(sp.stats.norm.cdf((intervals[i][1] - mean) / std) - sp.stats.norm.cdf((intervals[i][0] - mean) / std))\n",
    "P"
   ],
   "metadata": {
    "collapsed": false,
    "ExecuteTime": {
     "start_time": "2023-04-27T13:35:27.823140Z",
     "end_time": "2023-04-27T13:35:27.906602Z"
    }
   }
  },
  {
   "cell_type": "code",
   "execution_count": 89,
   "outputs": [
    {
     "data": {
      "text/plain": "                                0          1          2           3  \\\nmin                      0.500000  31.100000  61.700000   92.300000   \nmax                     31.100000  61.700000  92.300000  122.900000   \np (выборочные частоты)   0.600000   0.200000   0.000000    0.100000   \nP (ожидаемые частоты)    0.217104   0.231103   0.173759    0.092267   \n\n                                 4  \nmin                     122.900000  \nmax                     153.500000  \np (выборочные частоты)    0.000000  \nP (ожидаемые частоты)     0.034594  ",
      "text/html": "<div>\n<style scoped>\n    .dataframe tbody tr th:only-of-type {\n        vertical-align: middle;\n    }\n\n    .dataframe tbody tr th {\n        vertical-align: top;\n    }\n\n    .dataframe thead th {\n        text-align: right;\n    }\n</style>\n<table border=\"1\" class=\"dataframe\">\n  <thead>\n    <tr style=\"text-align: right;\">\n      <th></th>\n      <th>0</th>\n      <th>1</th>\n      <th>2</th>\n      <th>3</th>\n      <th>4</th>\n    </tr>\n  </thead>\n  <tbody>\n    <tr>\n      <th>min</th>\n      <td>0.500000</td>\n      <td>31.100000</td>\n      <td>61.700000</td>\n      <td>92.300000</td>\n      <td>122.900000</td>\n    </tr>\n    <tr>\n      <th>max</th>\n      <td>31.100000</td>\n      <td>61.700000</td>\n      <td>92.300000</td>\n      <td>122.900000</td>\n      <td>153.500000</td>\n    </tr>\n    <tr>\n      <th>p (выборочные частоты)</th>\n      <td>0.600000</td>\n      <td>0.200000</td>\n      <td>0.000000</td>\n      <td>0.100000</td>\n      <td>0.000000</td>\n    </tr>\n    <tr>\n      <th>P (ожидаемые частоты)</th>\n      <td>0.217104</td>\n      <td>0.231103</td>\n      <td>0.173759</td>\n      <td>0.092267</td>\n      <td>0.034594</td>\n    </tr>\n  </tbody>\n</table>\n</div>"
     },
     "execution_count": 89,
     "metadata": {},
     "output_type": "execute_result"
    }
   ],
   "source": [
    "intervals_t = pd.DataFrame(intervals, columns=['min', 'max'])\n",
    "p_t = pd.DataFrame(p, columns=['p (выборочные частоты)'])\n",
    "P_t = pd.DataFrame(P, columns=['P (ожидаемые частоты)'])\n",
    "intervals_t.join(p_t).join(P_t).T"
   ],
   "metadata": {
    "collapsed": false,
    "ExecuteTime": {
     "start_time": "2023-04-27T13:35:27.829604Z",
     "end_time": "2023-04-27T13:35:27.906840Z"
    }
   }
  },
  {
   "cell_type": "markdown",
   "source": [
    "## Шаг 4: Вычисление значения статистики критерия\n",
    "\n",
    "Вычислим значение статистики критерия $\\chi^2$:\n",
    "\n",
    "$$\\chi^2 = \\sum_{i=1}^{k} \\frac{(p_i - P_i)^2}{P_i}$$"
   ],
   "metadata": {
    "collapsed": false
   }
  },
  {
   "cell_type": "code",
   "execution_count": 90,
   "outputs": [
    {
     "data": {
      "text/plain": "17.061790654110577"
     },
     "execution_count": 90,
     "metadata": {},
     "output_type": "execute_result"
    }
   ],
   "source": [
    "chi2 = ((np.array(p) - np.array(P)) ** 2 / np.array(P)).sum()\n",
    "chi2"
   ],
   "metadata": {
    "collapsed": false,
    "ExecuteTime": {
     "start_time": "2023-04-27T13:35:27.833836Z",
     "end_time": "2023-04-27T13:35:27.907402Z"
    }
   }
  },
  {
   "cell_type": "markdown",
   "source": [
    "## Шаг 5: Определение критического значения и принятие решения"
   ],
   "metadata": {
    "collapsed": false
   }
  },
  {
   "cell_type": "markdown",
   "source": [
    "#### Уровень значимости:\n",
    "a = 0.05"
   ],
   "metadata": {
    "collapsed": false
   }
  },
  {
   "cell_type": "code",
   "execution_count": 91,
   "outputs": [
    {
     "data": {
      "text/plain": "0.05"
     },
     "execution_count": 91,
     "metadata": {},
     "output_type": "execute_result"
    }
   ],
   "source": [
    "a"
   ],
   "metadata": {
    "collapsed": false,
    "ExecuteTime": {
     "start_time": "2023-04-27T13:35:27.837105Z",
     "end_time": "2023-04-27T13:35:27.907450Z"
    }
   }
  },
  {
   "cell_type": "markdown",
   "source": [
    "#### Степени свободы:\n",
    "$$df = k - 1$$\n",
    "где\n",
    "- $k$ - количество интервалов,\n",
    "- $p$ - количество параметров распределения, которые были оценены по выборке."
   ],
   "metadata": {
    "collapsed": false
   }
  },
  {
   "cell_type": "code",
   "execution_count": 92,
   "outputs": [
    {
     "data": {
      "text/plain": "4"
     },
     "execution_count": 92,
     "metadata": {},
     "output_type": "execute_result"
    }
   ],
   "source": [
    "df = k - 1\n",
    "df"
   ],
   "metadata": {
    "collapsed": false,
    "ExecuteTime": {
     "start_time": "2023-04-27T13:35:27.840921Z",
     "end_time": "2023-04-27T13:35:27.907989Z"
    }
   }
  },
  {
   "cell_type": "markdown",
   "source": [
    "Таблица распределения хи-квадрат ($\\chi^2$) со степенями свободы 4 и уровнем значимости 0.05 даёт критическое значение $\\chi^2 = 9.488$.\n",
    "\n",
    "Так как вычисленное значение статистики критерия Пирсона ($\\chi^2 = 17.061790654110577$) превышает критическое значение ($\\chi^2 = 9.488$), то мы отвергаем нулевую гипотезу $H_0$ и принимаем альтернативную гипотезу $H_1$. Это означает, что выборка получена из распределения, отличного от показательного.\n"
   ],
   "metadata": {
    "collapsed": false
   }
  },
  {
   "cell_type": "markdown",
   "source": [
    "## Шаг 5: Вывод\n",
    "\n",
    "Таким образом, на основе данных выборки мы можем с уверенностью утверждать, что выборка получена из распределения, отличного от показательного."
   ],
   "metadata": {
    "collapsed": false
   }
  },
  {
   "cell_type": "code",
   "execution_count": 92,
   "outputs": [],
   "source": [],
   "metadata": {
    "collapsed": false,
    "ExecuteTime": {
     "start_time": "2023-04-27T13:35:27.853368Z",
     "end_time": "2023-04-27T13:35:27.908771Z"
    }
   }
  }
 ],
 "metadata": {
  "kernelspec": {
   "display_name": "Python 3",
   "language": "python",
   "name": "python3"
  },
  "language_info": {
   "codemirror_mode": {
    "name": "ipython",
    "version": 2
   },
   "file_extension": ".py",
   "mimetype": "text/x-python",
   "name": "python",
   "nbconvert_exporter": "python",
   "pygments_lexer": "ipython2",
   "version": "2.7.6"
  }
 },
 "nbformat": 4,
 "nbformat_minor": 0
}
